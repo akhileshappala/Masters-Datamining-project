{
 "cells": [
  {
   "cell_type": "code",
   "execution_count": null,
   "metadata": {},
   "outputs": [],
   "source": [
    "#requirements:\n",
    "#pip install plotly\n",
    "#pip install -U kaleido\n",
    "#pip install shapely"
   ]
  },
  {
   "cell_type": "code",
   "execution_count": 1,
   "metadata": {},
   "outputs": [],
   "source": [
    "import pandas as pd\n",
    "import numpy as np\n",
    "import sqlite3\n",
    "from pprint import pprint\n",
    "import seaborn as sb\n",
    "#import altair as alt\n",
    "from multiprocessing import Pool\n",
    "#alt.renderers.enable('notebook')\n",
    "import folium\n",
    "from folium import plugins\n",
    "from folium.plugins import HeatMap\n",
    "%matplotlib inline\n",
    "import matplotlib\n",
    "from sklearn.model_selection import train_test_split\n",
    "from sklearn.linear_model import LinearRegression\n",
    "from sklearn.metrics import r2_score, mean_squared_error\n",
    "#import pygeohash as pgh\n",
    "import matplotlib.pyplot as plt\n",
    "import plotly.express as px\n",
    "\n",
    "plt.style.use('ggplot')\n",
    "plot_options = dict(figsize=(12,6))"
   ]
  },
  {
   "cell_type": "code",
   "execution_count": 2,
   "metadata": {},
   "outputs": [],
   "source": [
    "from sklearn.ensemble import RandomForestClassifier\n",
    "from sklearn.neural_network import MLPClassifier\n",
    "from sklearn.metrics import accuracy_score\n",
    "from sklearn.metrics import confusion_matrix\n",
    "from sklearn.preprocessing import StandardScaler\n",
    "from sklearn.metrics import precision_score\n",
    "from sklearn.linear_model import Perceptron\n",
    "from sklearn.linear_model import LogisticRegression"
   ]
  },
  {
   "cell_type": "code",
   "execution_count": 3,
   "metadata": {
    "scrolled": true
   },
   "outputs": [
    {
     "name": "stderr",
     "output_type": "stream",
     "text": [
      "C:\\Users\\johno\\AppData\\Local\\Temp\\ipykernel_19568\\2933279801.py:1: DtypeWarning: Columns (8,10,11,12,13,14,15,16,17,18,35,37) have mixed types. Specify dtype option on import or set low_memory=False.\n",
      "  df = pd.read_csv(\"../data/Fires.csv\")\n"
     ]
    }
   ],
   "source": [
    "df = pd.read_csv(\"../data/Fires.csv\")"
   ]
  },
  {
   "cell_type": "markdown",
   "metadata": {},
   "source": [
    "Below columns need to either be explicitly define type after reading in or dropped from DF"
   ]
  },
  {
   "cell_type": "code",
   "execution_count": 4,
   "metadata": {},
   "outputs": [
    {
     "data": {
      "text/plain": [
       "Index(['SOURCE_REPORTING_UNIT', 'LOCAL_FIRE_REPORT_ID', 'LOCAL_INCIDENT_ID',\n",
       "       'FIRE_CODE', 'FIRE_NAME', 'ICS_209_INCIDENT_NUMBER', 'ICS_209_NAME',\n",
       "       'MTBS_ID', 'MTBS_FIRE_NAME', 'COMPLEX_NAME', 'COUNTY', 'FIPS_NAME'],\n",
       "      dtype='object')"
      ]
     },
     "execution_count": 4,
     "metadata": {},
     "output_type": "execute_result"
    }
   ],
   "source": [
    "df.columns[[8,10,11,12,13,14,15,16,17,18,35,37]] "
   ]
  },
  {
   "cell_type": "code",
   "execution_count": 5,
   "metadata": {},
   "outputs": [],
   "source": [
    "df['DISCOVERY_DATE'] = pd.to_datetime(df['DISCOVERY_DATE'] - pd.Timestamp(0).to_julian_date(), unit='D')"
   ]
  },
  {
   "cell_type": "code",
   "execution_count": 6,
   "metadata": {},
   "outputs": [],
   "source": [
    "#dropping columns that will have little to no effect on model performance or contain NaN values\n",
    "drop_cols = ['OBJECTID', 'FOD_ID', 'FPA_ID','NWCG_REPORTING_UNIT_ID','NWCG_REPORTING_UNIT_NAME','SOURCE_REPORTING_UNIT','SOURCE_REPORTING_UNIT_NAME','LOCAL_FIRE_REPORT_ID','LOCAL_INCIDENT_ID','FIRE_CODE','FIRE_NAME','ICS_209_INCIDENT_NUMBER', 'ICS_209_NAME', 'MTBS_ID', 'MTBS_FIRE_NAME','COMPLEX_NAME','STAT_CAUSE_CODE','FIPS_CODE', 'FIPS_NAME', 'Shape','OWNER_CODE','DISCOVERY_TIME','COUNTY','CONT_DATE','CONT_DOY','CONT_TIME','SOURCE_SYSTEM','SOURCE_SYSTEM_TYPE']\n",
    "\n",
    "#drop_cols = ['OBJECTID', 'FOD_ID', 'FPA_ID','NWCG_REPORTING_UNIT_ID','NWCG_REPORTING_UNIT_NAME','SOURCE_REPORTING_UNIT','SOURCE_REPORTING_UNIT_NAME','LOCAL_FIRE_REPORT_ID','LOCAL_INCIDENT_ID','FIRE_CODE','FIRE_NAME','ICS_209_INCIDENT_NUMBER', 'ICS_209_NAME', 'MTBS_ID', 'MTBS_FIRE_NAME','COMPLEX_NAME','DISCOVERY_DATE','STAT_CAUSE_CODE','FIPS_CODE', 'FIPS_NAME', 'Shape','OWNER_CODE','DISCOVERY_TIME','COUNTY','CONT_DATE','CONT_DOY','CONT_TIME','SOURCE_SYSTEM','SOURCE_SYSTEM_TYPE']\n",
    "df = df.drop(columns=drop_cols)"
   ]
  },
  {
   "cell_type": "code",
   "execution_count": 7,
   "metadata": {},
   "outputs": [
    {
     "data": {
      "text/html": [
       "<div>\n",
       "<style scoped>\n",
       "    .dataframe tbody tr th:only-of-type {\n",
       "        vertical-align: middle;\n",
       "    }\n",
       "\n",
       "    .dataframe tbody tr th {\n",
       "        vertical-align: top;\n",
       "    }\n",
       "\n",
       "    .dataframe thead th {\n",
       "        text-align: right;\n",
       "    }\n",
       "</style>\n",
       "<table border=\"1\" class=\"dataframe\">\n",
       "  <thead>\n",
       "    <tr style=\"text-align: right;\">\n",
       "      <th></th>\n",
       "      <th>NWCG_REPORTING_AGENCY</th>\n",
       "      <th>FIRE_YEAR</th>\n",
       "      <th>DISCOVERY_DATE</th>\n",
       "      <th>DISCOVERY_DOY</th>\n",
       "      <th>STAT_CAUSE_DESCR</th>\n",
       "      <th>FIRE_SIZE</th>\n",
       "      <th>FIRE_SIZE_CLASS</th>\n",
       "      <th>LATITUDE</th>\n",
       "      <th>LONGITUDE</th>\n",
       "      <th>OWNER_DESCR</th>\n",
       "      <th>STATE</th>\n",
       "    </tr>\n",
       "  </thead>\n",
       "  <tbody>\n",
       "    <tr>\n",
       "      <th>0</th>\n",
       "      <td>FS</td>\n",
       "      <td>2005</td>\n",
       "      <td>2005-02-02</td>\n",
       "      <td>33</td>\n",
       "      <td>Miscellaneous</td>\n",
       "      <td>0.10</td>\n",
       "      <td>A</td>\n",
       "      <td>40.036944</td>\n",
       "      <td>-121.005833</td>\n",
       "      <td>USFS</td>\n",
       "      <td>CA</td>\n",
       "    </tr>\n",
       "    <tr>\n",
       "      <th>1</th>\n",
       "      <td>FS</td>\n",
       "      <td>2004</td>\n",
       "      <td>2004-05-12</td>\n",
       "      <td>133</td>\n",
       "      <td>Lightning</td>\n",
       "      <td>0.25</td>\n",
       "      <td>A</td>\n",
       "      <td>38.933056</td>\n",
       "      <td>-120.404444</td>\n",
       "      <td>USFS</td>\n",
       "      <td>CA</td>\n",
       "    </tr>\n",
       "    <tr>\n",
       "      <th>2</th>\n",
       "      <td>FS</td>\n",
       "      <td>2004</td>\n",
       "      <td>2004-05-31</td>\n",
       "      <td>152</td>\n",
       "      <td>Debris Burning</td>\n",
       "      <td>0.10</td>\n",
       "      <td>A</td>\n",
       "      <td>38.984167</td>\n",
       "      <td>-120.735556</td>\n",
       "      <td>STATE OR PRIVATE</td>\n",
       "      <td>CA</td>\n",
       "    </tr>\n",
       "    <tr>\n",
       "      <th>3</th>\n",
       "      <td>FS</td>\n",
       "      <td>2004</td>\n",
       "      <td>2004-06-28</td>\n",
       "      <td>180</td>\n",
       "      <td>Lightning</td>\n",
       "      <td>0.10</td>\n",
       "      <td>A</td>\n",
       "      <td>38.559167</td>\n",
       "      <td>-119.913333</td>\n",
       "      <td>USFS</td>\n",
       "      <td>CA</td>\n",
       "    </tr>\n",
       "    <tr>\n",
       "      <th>4</th>\n",
       "      <td>FS</td>\n",
       "      <td>2004</td>\n",
       "      <td>2004-06-28</td>\n",
       "      <td>180</td>\n",
       "      <td>Lightning</td>\n",
       "      <td>0.10</td>\n",
       "      <td>A</td>\n",
       "      <td>38.559167</td>\n",
       "      <td>-119.933056</td>\n",
       "      <td>USFS</td>\n",
       "      <td>CA</td>\n",
       "    </tr>\n",
       "  </tbody>\n",
       "</table>\n",
       "</div>"
      ],
      "text/plain": [
       "  NWCG_REPORTING_AGENCY  FIRE_YEAR DISCOVERY_DATE  DISCOVERY_DOY  \\\n",
       "0                    FS       2005     2005-02-02             33   \n",
       "1                    FS       2004     2004-05-12            133   \n",
       "2                    FS       2004     2004-05-31            152   \n",
       "3                    FS       2004     2004-06-28            180   \n",
       "4                    FS       2004     2004-06-28            180   \n",
       "\n",
       "  STAT_CAUSE_DESCR  FIRE_SIZE FIRE_SIZE_CLASS   LATITUDE   LONGITUDE  \\\n",
       "0    Miscellaneous       0.10               A  40.036944 -121.005833   \n",
       "1        Lightning       0.25               A  38.933056 -120.404444   \n",
       "2   Debris Burning       0.10               A  38.984167 -120.735556   \n",
       "3        Lightning       0.10               A  38.559167 -119.913333   \n",
       "4        Lightning       0.10               A  38.559167 -119.933056   \n",
       "\n",
       "        OWNER_DESCR STATE  \n",
       "0              USFS    CA  \n",
       "1              USFS    CA  \n",
       "2  STATE OR PRIVATE    CA  \n",
       "3              USFS    CA  \n",
       "4              USFS    CA  "
      ]
     },
     "execution_count": 7,
     "metadata": {},
     "output_type": "execute_result"
    }
   ],
   "source": [
    "df.head()"
   ]
  },
  {
   "cell_type": "markdown",
   "metadata": {},
   "source": [
    "Looking at all fires based on lat and long"
   ]
  },
  {
   "cell_type": "code",
   "execution_count": 8,
   "metadata": {},
   "outputs": [],
   "source": [
    "def yearlyFires():\n",
    "    years = list(df.FIRE_YEAR.unique())\n",
    "    years.sort()\n",
    "    for year in years:\n",
    "        yearDf= df[df[\"FIRE_YEAR\"]==year]\n",
    "        print(\"Creating map with \", yearDf.size,\" fires ...\")\n",
    "        fig = px.scatter_geo(yearDf,lat='LATITUDE',lon='LONGITUDE',\n",
    "                          size=\"FIRE_SIZE\",\n",
    "                          color = \"FIRE_SIZE_CLASS\")\n",
    "        title = f\"US Map of Fires(Year ={year})\"\n",
    "        fig.update_layout(title = title,geo_scope='usa', title_x=0.5)\n",
    "\n",
    "        #fig.show()\n",
    "        fig.write_image(f\"USmapByYear/{year}_USmapFires.png\")\n",
    "#yearlyFires()"
   ]
  },
  {
   "cell_type": "code",
   "execution_count": 9,
   "metadata": {},
   "outputs": [
    {
     "name": "stdout",
     "output_type": "stream",
     "text": [
      "Creating map with all fires - size:  20685115\n"
     ]
    }
   ],
   "source": [
    "print(\"Creating map with all fires - size: \", df.size)\n",
    "fig = px.scatter_geo(df,lat='LATITUDE',lon='LONGITUDE',\n",
    "                  size=\"FIRE_SIZE\",\n",
    "                  color = \"FIRE_SIZE_CLASS\")\n",
    "title = f\"US Map of Fires\"\n",
    "fig.update_layout(title = title,geo_scope='usa', title_x=0.5)\n",
    "\n",
    "#fig.show()\n",
    "fig.write_image(f\"USmapByYear/All_USmapFires.png\")"
   ]
  },
  {
   "cell_type": "code",
   "execution_count": 10,
   "metadata": {},
   "outputs": [],
   "source": [
    "#https://www.fs.usda.gov/about-agency/contact-us/regional-offices\n",
    "#https://www.latlong.net/\n",
    "#[ top left, bottom left, bottom right top right]\n",
    "region1_coordinates = [(48.998625,-117.032181),(45.424841, -116.575238), (45.548077, -114.563236),(45.458889, -114.340904),(45.702748,-113.970683),(44.355692,-112.842069),(44.501816, -112.716047),(44.446140,-112.386114),(44.536460, -112.353637) ,(44.562305,-111.868789),(44.541651,-111.463793),(44.752791,-111.382034),(44.476095, -111.052484),(45.000642, -111.054512),(44.997898,-104.039652),(45.945135, -104.045442),(45.935240, -96.563685),(49.000315,-97.238073)]\n",
    "region2_coordinates = [(44.476095, -111.052484),(44.476095,-110.001004),(44.159549,-109.050031),(41.000701,-109.050031),(36.998911, -109.045210),(36.689620,-109.045210),(36.689620,-103.002242),(37.000070,-103.002242),(37.000070,-94.617957),(39.101825,-94.617957),(42.435240, -96.420416),(45.301939, -96.420416),(45.604551, -96.855765),(45.935240, -96.563685),(45.00064,111.0545),(44.9979,104.0397),(45.94519,104.0454),(45.000642, -111.054512),(44.997898,-104.039652),(45.945135, -104.045442),(45.935240, -96.563685)]\n",
    "region3_coordinates = [(36.689620,-114.050103) ,(36.195716,-114.050103),(36.023904,-114.152134),(36.095684,-114.748691),(35.001852,-114.633024),(34.876637,-114.635455),(34.715618,-114.486139),(34.466089,-114.402030),(34.302181,-114.138016),(34.258653,-114.132248),(34.095316,-114.422722),(33.933782,-114.535904),(33.347272,-114.698987),(33.289786,-114.726255),(33.071656,-114.687490),(32.974216,-114.472487),(32.844382,-114.469185),(32.718194,-114.719968),(32.493855,-114.813498),(31.332248,-111.074822),(31.332248,-108.208456),(31.783597,-108.208456),(31.783597,-106.527977),(31.897016,-106.645840),(32.000679,-106.645840),(32.000379,-103.064510) ,(36.689620,-109.045210),(36.689620,-103.002242)]\n",
    "region4_coordinates = [(45.424841, -116.575238), (45.548077, -114.563236),(45.458889, -114.340904),(45.702748,-113.970683),(44.355692,-112.842069),(44.501816, -112.716047),(44.446140,-112.386114),(44.536460, -112.353637) ,(44.562305,-111.868789),(44.541651,-111.463793),(44.752791,-111.382034),(44.476095, -111.052484),(44.476095,-110.001004),(44.159549,-109.050031),(41.000701,-109.050031),(36.998911, -109.045210),(36.689620,-109.045210),(36.689620,-114.050103) ,(36.195716,-114.050103),(36.023904,-114.152134),(36.095684,-114.748691),(35.001852,-114.633024)   ,(38.999594,-120.001012) ,(41.994873,-120.001012) ,(41.994873,-117.026266) ]\n",
    "region5_coordinates = [(35.001852,-114.633024),(34.876637,-114.635455),(34.715618,-114.486139),(34.466089,-114.402030),(34.302181,-114.138016),(34.258653,-114.132248),(34.095316,-114.422722),(33.933782,-114.535904),(33.347272,-114.698987),(33.289786,-114.726255),(33.071656,-114.687490),(32.974216,-114.472487),(32.844382,-114.469185),(32.718194,-114.719968),(38.999594,-120.001012),(41.994873,-120.001012),(32.515552,-117.235491),(34.243595,-120.939332),(40.338170,-124.717891),(41.99487,-124.598449) ]     \n",
    "region6_coordinates=[(48.407326,-125.003417),(48.380882,-123.134889),(48.999592,-123.320267),(48.999099,-117.032380),(41.99487,-124.598449),(41.994873,-120.001012),(41.99487,-117.0263),(45.4284,-116.5752),(48.99863,-117.0322)]\n",
    "region8_coordinates = [(36.689620,-103.002242),(31.332248,-108.208456),(31.783597,-108.208456),(31.783597,-106.527977),(31.897016,-106.645840),(32.000679,-106.645840),(32.000379,-103.064510),(37.000070,-103.002242),(37.000070,-94.617957),(36.499488,-94.617874), (36.484245,-90.159248),(35.994952,-90.375636), (36.000941,-89.706940), (36.974033,-89.137409), (37.145540,-89.089624), (37.219940,-88.948239), (37.067780,-88.554268), (37.087364,-88.448597), (37.205586,-88.450610), (37.290170,-88.512708), (37.423889,-88.409754), (37.400437,-88.368572), (37.469136,-88.095988), (37.495290,-88.062357), (37.673767,-88.146777), (37.924024,-87.904758), (38.854681,-84.793704), (39.105022,-84.487693), (38.781922,-84.216453), (38.717662,-82.882168), (38.415938,-82.590182), (38.146438,-82.639409), (37.620758,-82.348588), (37.103932,-81.727357), (37.447606,-80.304973), (38.451438,-79.228965), (39.270537,-78.389899), (39.680769,-78.173912), (39.331111,-77.762201), (39.216295,-77.465616), (39.120472,-77.528761) , (38.874998,-77.042818), (38.399797,-77.312423), (37.881357,-76.252680), (37.983175,-74.876576),(36.888408,-75.589566),(35.146863,-75.172259),(31.306715,-80.882779),(27.000408,-79.896863),(24.507143,-80.555769),(28.902397,-84.904550),(28.709861,-89.345415),(28.478349,-95.187717),(25.943227,-96.910542),(26.357420,-99.119591),(29.621221,-101.513572),(28.912015,-103.138874),(30.073848,-104.830540)]#\n",
    "region9_coordinates = [(37.000070,-94.617957),(39.101825,-94.617957),(42.435240, -96.420416),(45.301939, -96.420416),(45.604551, -96.855765),(45.935240, -96.563685),(36.499488,-94.617874), (36.484245,-90.159248),(35.994952,-90.375636), (36.000941,-89.706940), (36.974033,-89.137409), (37.145540,-89.089624), (37.219940,-88.948239), (37.067780,-88.554268), (37.087364,-88.448597), (37.205586,-88.450610), (37.290170,-88.512708), (37.423889,-88.409754), (37.400437,-88.368572), (37.469136,-88.095988), (37.495290,-88.062357), (37.673767,-88.146777), (37.924024,-87.904758), (38.854681,-84.793704), (39.105022,-84.487693), (38.781922,-84.216453), (38.717662,-82.882168), (38.415938,-82.590182), (38.146438,-82.639409), (37.620758,-82.348588), (37.103932,-81.727357), (37.447606,-80.304973), (38.451438,-79.228965), (39.270537,-78.389899), (39.680769,-78.173912), (39.331111,-77.762201), (39.216295,-77.465616), (39.120472,-77.528761) , (38.874998,-77.042818), (38.399797,-77.312423), (37.881357,-76.252680), (37.983175,-74.876576),(49.00032,-97.23807),(49.368066,-94.978894),(46.483265,-84.392468),(44.071800,-82.152187),(41.656497,-82.635385),(44.918139,-74.948146),(47.323931,-69.237625),(47.234490,-68.079804),(44.543505,-66.937208),(40.896906,-69.484978)]\n",
    "region10_coordinates = [(70.641769,-166.837630),(65.594800,-168.271506),(60.053874,-167.876564),(57.715885,-159.793981),(57.868132,-158.483863),(52.133488,-177.723924),(53.357109,-187.651444),(55.751849,-193.449818),(55.553495,-194.679777),(54.546580,-194.416214),(51.481383,-186.333632),(50.541363,-176.230403),(59.063154,-143.548657),(54.431713,-133.649274),(55.216490,-129.871545),(59.745326,-135.401178),(58.893296,-137.377897),(60.307906,-140.988369),(69.885010,-140.718507)]"
   ]
  },
  {
   "cell_type": "code",
   "execution_count": 11,
   "metadata": {},
   "outputs": [
    {
     "name": "stdout",
     "output_type": "stream",
     "text": [
      "Regions in Dataframe  [ 1  2  3  4  5  6  8  9 10]\n"
     ]
    }
   ],
   "source": [
    "def createRegionDF(coords,regionName,regionDF):\n",
    "    coords = [ (coord[0],coord[1],regionName) for coord in coords]\n",
    "    if(len(regionDF)==0 ):\n",
    "        regionDF = pd.DataFrame(data= coords, index=None, columns=[\"lat\",\"lon\",\"region\"] )\n",
    "    else:\n",
    "        newRegionDF = pd.DataFrame(data= coords, index=None, columns=[\"lat\",\"lon\",\"region\"] )\n",
    "        regionDF = pd.concat([regionDF,newRegionDF],axis=0)\n",
    "    return regionDF\n",
    "regionDF = createRegionDF(region1_coordinates,1,pd.DataFrame())\n",
    "regionDF = createRegionDF(region2_coordinates,2,regionDF)\n",
    "regionDF = createRegionDF(region3_coordinates,3,regionDF)\n",
    "regionDF = createRegionDF(region4_coordinates,4,regionDF)\n",
    "regionDF = createRegionDF(region5_coordinates,5,regionDF)\n",
    "regionDF = createRegionDF(region6_coordinates,6,regionDF)\n",
    "regionDF = createRegionDF(region8_coordinates,8,regionDF)\n",
    "regionDF = createRegionDF(region9_coordinates,9,regionDF)\n",
    "regionDF = createRegionDF(region10_coordinates,10,regionDF)\n",
    "\n",
    "print(\"Regions in Dataframe \",regionDF[\"region\"].unique())"
   ]
  },
  {
   "cell_type": "code",
   "execution_count": 12,
   "metadata": {
    "scrolled": true
   },
   "outputs": [],
   "source": [
    "from shapely.geometry import Point\n",
    "from shapely.geometry.polygon import Polygon\n",
    " \n",
    "def checkIfCoordInRegion(regionName,regionDF,df):#reference: https://stackoverflow.com/questions/61042261/how-to-check-if-a-lat-lon-coordinate-is-within-a-polygon-using-python-taking\n",
    "    polygon = Polygon([tuple(x) for x in regionDF[['lat', 'lon']].to_numpy()])\n",
    "    df[f'Within_{regionName}'] = df.apply(lambda x: polygon.contains(Point(x['LATITUDE'], x['LONGITUDE'])), axis=1)\n",
    "    return df\n",
    "\n",
    "\n",
    "for i in range(1,11):\n",
    "    if(i!=7):\n",
    "        df = checkIfCoordInRegion(f\"Region{i}\",regionDF[regionDF[\"region\"]==i],df)\n"
   ]
  },
  {
   "cell_type": "code",
   "execution_count": 13,
   "metadata": {},
   "outputs": [
    {
     "name": "stdout",
     "output_type": "stream",
     "text": [
      "     LATITUDE   LONGITUDE  Within_Region1  Within_Region2  Within_Region5\n",
      "0   40.036944 -121.005833           False           False           False\n",
      "1   38.933056 -120.404444           False           False            True\n",
      "2   38.984167 -120.735556           False           False            True\n",
      "3   38.559167 -119.913333           False           False            True\n",
      "4   38.559167 -119.933056           False           False            True\n",
      "5   38.635278 -120.103611           False           False            True\n",
      "6   38.688333 -120.153333           False           False            True\n",
      "7   40.968056 -122.433889           False           False           False\n",
      "8   41.233611 -122.283333           False           False           False\n",
      "9   38.548333 -120.149167           False           False            True\n",
      "10  38.691667 -120.159722           False           False            True\n",
      "11  38.527500 -120.106111           False           False            True\n",
      "12  38.786667 -120.193333           False           False            True\n",
      "13  38.433333 -120.510000           False           False            True\n",
      "14  38.675833 -120.279722           False           False            True\n"
     ]
    }
   ],
   "source": [
    "region1Coord_test =df[df[\"STATE\"]== \"CA\"][0:15][[\"LATITUDE\",\"LONGITUDE\",\"Within_Region1\",\"Within_Region2\",\"Within_Region5\"]]\n",
    "print(region1Coord_test)"
   ]
  },
  {
   "cell_type": "markdown",
   "metadata": {},
   "source": [
    "Can see from the test are polygons are not 100% accurate at identifying the correct region for lat,long which is to be expected, will be handled below..."
   ]
  },
  {
   "cell_type": "code",
   "execution_count": 14,
   "metadata": {},
   "outputs": [],
   "source": [
    "def regionNum(x):\n",
    "    #print(x)\n",
    "    if(x['STATE']=='HI'):\n",
    "        return 5\n",
    "    else:\n",
    "        #print(x[[\"LATITUDE\",\"LONGITUDE\",\"STATE\"]])\n",
    "        listRegion = list(x[[\"Within_Region1\",\"Within_Region2\",\"Within_Region3\",\"Within_Region4\",\"Within_Region5\",\"Within_Region6\",\"Within_Region8\",\"Within_Region9\",\"Within_Region10\"]])\n",
    "        #print(istRegion)\n",
    "        if(np.sum(listRegion)!=1):\n",
    "                return -1\n",
    "        if(x[\"Within_Region1\"]):\n",
    "            return 1\n",
    "        if(x[\"Within_Region2\"]):\n",
    "            return 2\n",
    "        if(x[\"Within_Region3\"]):\n",
    "            return 3\n",
    "        if(x[\"Within_Region4\"]):\n",
    "            return 4\n",
    "        if(x[\"Within_Region5\"]):\n",
    "            return 5\n",
    "        if(x[\"Within_Region6\"]):\n",
    "            return 6\n",
    "        if(x[\"Within_Region8\"]):\n",
    "            return 8\n",
    "        if(x[\"Within_Region9\"]):\n",
    "            return 9\n",
    "        if(x[\"Within_Region10\"]):\n",
    "            return 10\n",
    "def reformatRegionClassification(df):\n",
    "    df[\"Region\"] = df.apply( lambda x: regionNum(x), axis=1)\n",
    "    return df\n",
    "df = reformatRegionClassification(df)\n"
   ]
  },
  {
   "cell_type": "code",
   "execution_count": 15,
   "metadata": {},
   "outputs": [
    {
     "name": "stdout",
     "output_type": "stream",
     "text": [
      "5169423\n"
     ]
    }
   ],
   "source": [
    "print(df[df[\"Region\"]== -1].size)"
   ]
  },
  {
   "cell_type": "markdown",
   "metadata": {},
   "source": [
    "Meaning 5169423 are not classified correctly, which means we neet either delete classify them correctly. The caveat is there are some states in which the region boundaries over lap, hence we will not use state to classify those ones.Will also exclude puerto rico from the df as it is out of scope of this project."
   ]
  },
  {
   "cell_type": "code",
   "execution_count": 16,
   "metadata": {},
   "outputs": [
    {
     "name": "stdout",
     "output_type": "stream",
     "text": [
      "States with overlap: ['OK', 'WY', 'ID', 'PR']\n"
     ]
    }
   ],
   "source": [
    "statesLeft = df[df[\"Region\"]==-1][\"STATE\"].unique()\n",
    "overlapStates = ['OK','WY','ID','PR']\n",
    "for i in range(len(overlapStates)):\n",
    "    statesLeft=statesLeft[statesLeft != overlapStates[i]]\n",
    "print(\"States with overlap:\", overlapStates)\n"
   ]
  },
  {
   "cell_type": "code",
   "execution_count": 17,
   "metadata": {},
   "outputs": [
    {
     "name": "stdout",
     "output_type": "stream",
     "text": [
      "Before adjustments there are  5169423  rows classified incorrectly\n",
      "After adjustments:  481215  --these rows will be dropped from the df\n",
      "Final count of misclassified fire regions:  481215\n"
     ]
    }
   ],
   "source": [
    "print(f\"Before adjustments there are \",df[df[\"Region\"]== -1].size ,\" rows classified incorrectly\") \n",
    "\n",
    "#will go by state(assuming no overlap within state with region) to classify \n",
    "df['Region'] = np.where((df['Region'] ==-1) & (df['STATE'] == 'MT') , 1, df['Region'])\n",
    "df['Region'] = np.where((df['Region'] ==-1) & (df['STATE'] == 'SD') , 2, df['Region'])\n",
    "df['Region'] = np.where((df['Region'] ==-1) & (df['STATE'] == 'KS') , 2, df['Region'])\n",
    "\n",
    "df['Region'] = np.where((df['Region'] ==-1) & (df['STATE'] == 'AZ') , 3, df['Region'])\n",
    "\n",
    "df['Region'] = np.where((df['Region'] ==-1) & (df['STATE'] == 'NM') , 4, df['Region'])\n",
    "df['Region'] = np.where((df['Region'] ==-1) & (df['STATE'] == 'NV') , 4, df['Region'])\n",
    "\n",
    "\n",
    "df['Region'] = np.where((df['Region'] ==-1) & (df['STATE'] == 'CA') , 5, df['Region'])\n",
    "\n",
    "df['Region'] = np.where((df['Region'] ==-1) & (df['STATE'] == 'WA') , 6, df['Region'])\n",
    "df['Region'] = np.where((df['Region'] ==-1) & (df['STATE'] == 'OR') , 6, df['Region'])\n",
    "\n",
    "df['Region'] = np.where((df['Region'] ==-1) & (df['STATE'] == 'TX') , 8, df['Region'])\n",
    "df['Region'] = np.where((df['Region'] ==-1) & (df['STATE'] == 'FL') , 8, df['Region'])\n",
    "df['Region'] = np.where((df['Region'] ==-1) & (df['STATE'] == 'KY') , 8, df['Region'])\n",
    "\n",
    "df['Region'] = np.where((df['Region'] ==-1) & (df['STATE'] == 'NJ') , 9, df['Region'])\n",
    "df['Region'] = np.where((df['Region'] ==-1) & (df['STATE'] == 'MD') , 9, df['Region'])\n",
    "df['Region'] = np.where((df['Region'] ==-1) & (df['STATE'] == 'WV') , 9, df['Region'])\n",
    "df['Region'] = np.where((df['Region'] ==-1) & (df['STATE'] == 'DE') , 9, df['Region'])\n",
    "df['Region'] = np.where((df['Region'] ==-1) & (df['STATE'] == 'PA') , 9, df['Region'])\n",
    "df['Region'] = np.where((df['Region'] ==-1) & (df['STATE'] == 'NY') , 9, df['Region'])\n",
    "df['Region'] = np.where((df['Region'] ==-1) & (df['STATE'] == 'MN') , 9, df['Region'])\n",
    "df['Region'] = np.where((df['Region'] ==-1) & (df['STATE'] == 'MO') , 9, df['Region'])\n",
    "df['Region'] = np.where((df['Region'] ==-1) & (df['STATE'] == 'IN') , 9, df['Region'])\n",
    "df['Region'] = np.where((df['Region'] ==-1) & (df['STATE'] == 'IL') , 9, df['Region'])\n",
    "df['Region'] = np.where((df['Region'] ==-1) & (df['STATE'] == 'WI') , 9, df['Region'])\n",
    "df['Region'] = np.where((df['Region'] ==-1) & (df['STATE'] == 'MI') , 9, df['Region'])\n",
    "df['Region'] = np.where((df['Region'] ==-1) & (df['STATE'] == 'OH') , 9, df['Region'])\n",
    "df['Region'] = np.where((df['Region'] ==-1) & (df['STATE'] == 'ME') , 9, df['Region'])\n",
    "df['Region'] = np.where((df['Region'] ==-1) & (df['STATE'] == 'IA') , 9, df['Region'])\n",
    "\n",
    "df['Region'] = np.where((df['Region'] ==-1) & (df['STATE'] == 'AK') , 10, df['Region'])\n",
    "\n",
    "#rest of them to a region else will be dropped from the DS\n",
    "print(\"After adjustments: \",df[df[\"Region\"]== -1].size, \" --these rows will be dropped from the df\")\n",
    "#df = df[df['Region'] != -1]\n",
    "print(\"Final count of misclassified fire regions: \",df[df[\"Region\"]== -1].size)"
   ]
  },
  {
   "cell_type": "code",
   "execution_count": 18,
   "metadata": {
    "scrolled": true
   },
   "outputs": [],
   "source": [
    "import plotly.express as px\n",
    "#import plotly.graph_objects as go\n",
    "import pandas as pd\n",
    "#check to make sure forming polygons correctly\n",
    "for i in range(1,11):\n",
    "    if(i!=7):\n",
    "        fig = px.scatter_geo(regionDF[regionDF[\"region\"]==i],lat='lat',lon='lon',color = \"region\")\n",
    "        fig.update_layout(title = f'Region {i}',geo_scope='usa', title_x=0.5)\n",
    "        fig.write_image(f\"Regions/region{i}.png\")\n",
    "        #fig.show()"
   ]
  },
  {
   "cell_type": "markdown",
   "metadata": {},
   "source": [
    "![alt text](Regions/region1.png \"Region1\")\n",
    "![alt text](Regions/region2.png \"Region2\")\n",
    "![alt text](Regions/region3.png \"Region3\")\n",
    "![alt text](Regions/region4.png \"Region4\")\n",
    "![alt text](Regions/region5.png \"Region5\")\n",
    "![alt text](Regions/region6.png \"Region6\")\n",
    "![alt text](Regions/region8.png \"Region8\")\n",
    "![alt text](Regions/region9.png \"Region9\")\n",
    "![alt text](Regions/region10.png \"Region10\")"
   ]
  },
  {
   "cell_type": "code",
   "execution_count": 21,
   "metadata": {
    "scrolled": false
   },
   "outputs": [
    {
     "data": {
      "application/vnd.plotly.v1+json": {
       "config": {
        "plotlyServerURL": "https://plot.ly"
       },
       "data": [
        {
         "geo": "geo",
         "hovertemplate": "lat=%{lat}<br>lon=%{lon}<br>region=%{marker.color}<extra></extra>",
         "lat": [
          48.998625,
          45.424841,
          45.548077,
          45.458889,
          45.702748,
          44.355692,
          44.501816,
          44.44614,
          44.53646,
          44.562305,
          44.541651,
          44.752791,
          44.476095,
          45.000642,
          44.997898,
          45.945135,
          45.93524,
          49.000315,
          44.476095,
          44.476095,
          44.159549,
          41.000701,
          36.998911,
          36.68962,
          36.68962,
          37.00007,
          37.00007,
          39.101825,
          42.43524,
          45.301939,
          45.604551,
          45.93524,
          45.00064,
          44.9979,
          45.94519,
          45.000642,
          44.997898,
          45.945135,
          45.93524,
          36.68962,
          36.195716,
          36.023904,
          36.095684,
          35.001852,
          34.876637,
          34.715618,
          34.466089,
          34.302181,
          34.258653,
          34.095316,
          33.933782,
          33.347272,
          33.289786,
          33.071656,
          32.974216,
          32.844382,
          32.718194,
          32.493855,
          31.332248,
          31.332248,
          31.783597,
          31.783597,
          31.897016,
          32.000679,
          32.000379,
          36.68962,
          36.68962,
          45.424841,
          45.548077,
          45.458889,
          45.702748,
          44.355692,
          44.501816,
          44.44614,
          44.53646,
          44.562305,
          44.541651,
          44.752791,
          44.476095,
          44.476095,
          44.159549,
          41.000701,
          36.998911,
          36.68962,
          36.68962,
          36.195716,
          36.023904,
          36.095684,
          35.001852,
          38.999594,
          41.994873,
          41.994873,
          35.001852,
          34.876637,
          34.715618,
          34.466089,
          34.302181,
          34.258653,
          34.095316,
          33.933782,
          33.347272,
          33.289786,
          33.071656,
          32.974216,
          32.844382,
          32.718194,
          38.999594,
          41.994873,
          32.515552,
          34.243595,
          40.33817,
          41.99487,
          48.407326,
          48.380882,
          48.999592,
          48.999099,
          41.99487,
          41.994873,
          41.99487,
          45.4284,
          48.99863,
          36.68962,
          31.332248,
          31.783597,
          31.783597,
          31.897016,
          32.000679,
          32.000379,
          37.00007,
          37.00007,
          36.499488,
          36.484245,
          35.994952,
          36.000941,
          36.974033,
          37.14554,
          37.21994,
          37.06778,
          37.087364,
          37.205586,
          37.29017,
          37.423889,
          37.400437,
          37.469136,
          37.49529,
          37.673767,
          37.924024,
          38.854681,
          39.105022,
          38.781922,
          38.717662,
          38.415938,
          38.146438,
          37.620758,
          37.103932,
          37.447606,
          38.451438,
          39.270537,
          39.680769,
          39.331111,
          39.216295,
          39.120472,
          38.874998,
          38.399797,
          37.881357,
          37.983175,
          36.888408,
          35.146863,
          31.306715,
          27.000408,
          24.507143,
          28.902397,
          28.709861,
          28.478349,
          25.943227,
          26.35742,
          29.621221,
          28.912015,
          30.073848,
          37.00007,
          39.101825,
          42.43524,
          45.301939,
          45.604551,
          45.93524,
          36.499488,
          36.484245,
          35.994952,
          36.000941,
          36.974033,
          37.14554,
          37.21994,
          37.06778,
          37.087364,
          37.205586,
          37.29017,
          37.423889,
          37.400437,
          37.469136,
          37.49529,
          37.673767,
          37.924024,
          38.854681,
          39.105022,
          38.781922,
          38.717662,
          38.415938,
          38.146438,
          37.620758,
          37.103932,
          37.447606,
          38.451438,
          39.270537,
          39.680769,
          39.331111,
          39.216295,
          39.120472,
          38.874998,
          38.399797,
          37.881357,
          37.983175,
          49.00032,
          49.368066,
          46.483265,
          44.0718,
          41.656497,
          44.918139,
          47.323931,
          47.23449,
          44.543505,
          40.896906,
          70.641769,
          65.5948,
          60.053874,
          57.715885,
          57.868132,
          52.133488,
          53.357109,
          55.751849,
          55.553495,
          54.54658,
          51.481383,
          50.541363,
          59.063154,
          54.431713,
          55.21649,
          59.745326,
          58.893296,
          60.307906,
          69.88501
         ],
         "legendgroup": "",
         "lon": [
          -117.032181,
          -116.575238,
          -114.563236,
          -114.340904,
          -113.970683,
          -112.842069,
          -112.716047,
          -112.386114,
          -112.353637,
          -111.868789,
          -111.463793,
          -111.382034,
          -111.052484,
          -111.054512,
          -104.039652,
          -104.045442,
          -96.563685,
          -97.238073,
          -111.052484,
          -110.001004,
          -109.050031,
          -109.050031,
          -109.04521,
          -109.04521,
          -103.002242,
          -103.002242,
          -94.617957,
          -94.617957,
          -96.420416,
          -96.420416,
          -96.855765,
          -96.563685,
          111.0545,
          104.0397,
          104.0454,
          -111.054512,
          -104.039652,
          -104.045442,
          -96.563685,
          -114.050103,
          -114.050103,
          -114.152134,
          -114.748691,
          -114.633024,
          -114.635455,
          -114.486139,
          -114.40203,
          -114.138016,
          -114.132248,
          -114.422722,
          -114.535904,
          -114.698987,
          -114.726255,
          -114.68749,
          -114.472487,
          -114.469185,
          -114.719968,
          -114.813498,
          -111.074822,
          -108.208456,
          -108.208456,
          -106.527977,
          -106.64584,
          -106.64584,
          -103.06451,
          -109.04521,
          -103.002242,
          -116.575238,
          -114.563236,
          -114.340904,
          -113.970683,
          -112.842069,
          -112.716047,
          -112.386114,
          -112.353637,
          -111.868789,
          -111.463793,
          -111.382034,
          -111.052484,
          -110.001004,
          -109.050031,
          -109.050031,
          -109.04521,
          -109.04521,
          -114.050103,
          -114.050103,
          -114.152134,
          -114.748691,
          -114.633024,
          -120.001012,
          -120.001012,
          -117.026266,
          -114.633024,
          -114.635455,
          -114.486139,
          -114.40203,
          -114.138016,
          -114.132248,
          -114.422722,
          -114.535904,
          -114.698987,
          -114.726255,
          -114.68749,
          -114.472487,
          -114.469185,
          -114.719968,
          -120.001012,
          -120.001012,
          -117.235491,
          -120.939332,
          -124.717891,
          -124.598449,
          -125.003417,
          -123.134889,
          -123.320267,
          -117.03238,
          -124.598449,
          -120.001012,
          -117.0263,
          -116.5752,
          -117.0322,
          -103.002242,
          -108.208456,
          -108.208456,
          -106.527977,
          -106.64584,
          -106.64584,
          -103.06451,
          -103.002242,
          -94.617957,
          -94.617874,
          -90.159248,
          -90.375636,
          -89.70694,
          -89.137409,
          -89.089624,
          -88.948239,
          -88.554268,
          -88.448597,
          -88.45061,
          -88.512708,
          -88.409754,
          -88.368572,
          -88.095988,
          -88.062357,
          -88.146777,
          -87.904758,
          -84.793704,
          -84.487693,
          -84.216453,
          -82.882168,
          -82.590182,
          -82.639409,
          -82.348588,
          -81.727357,
          -80.304973,
          -79.228965,
          -78.389899,
          -78.173912,
          -77.762201,
          -77.465616,
          -77.528761,
          -77.042818,
          -77.312423,
          -76.25268,
          -74.876576,
          -75.589566,
          -75.172259,
          -80.882779,
          -79.896863,
          -80.555769,
          -84.90455,
          -89.345415,
          -95.187717,
          -96.910542,
          -99.119591,
          -101.513572,
          -103.138874,
          -104.83054,
          -94.617957,
          -94.617957,
          -96.420416,
          -96.420416,
          -96.855765,
          -96.563685,
          -94.617874,
          -90.159248,
          -90.375636,
          -89.70694,
          -89.137409,
          -89.089624,
          -88.948239,
          -88.554268,
          -88.448597,
          -88.45061,
          -88.512708,
          -88.409754,
          -88.368572,
          -88.095988,
          -88.062357,
          -88.146777,
          -87.904758,
          -84.793704,
          -84.487693,
          -84.216453,
          -82.882168,
          -82.590182,
          -82.639409,
          -82.348588,
          -81.727357,
          -80.304973,
          -79.228965,
          -78.389899,
          -78.173912,
          -77.762201,
          -77.465616,
          -77.528761,
          -77.042818,
          -77.312423,
          -76.25268,
          -74.876576,
          -97.23807,
          -94.978894,
          -84.392468,
          -82.152187,
          -82.635385,
          -74.948146,
          -69.237625,
          -68.079804,
          -66.937208,
          -69.484978,
          -166.83763,
          -168.271506,
          -167.876564,
          -159.793981,
          -158.483863,
          -177.723924,
          -187.651444,
          -193.449818,
          -194.679777,
          -194.416214,
          -186.333632,
          -176.230403,
          -143.548657,
          -133.649274,
          -129.871545,
          -135.401178,
          -137.377897,
          -140.988369,
          -140.718507
         ],
         "marker": {
          "color": [
           1,
           1,
           1,
           1,
           1,
           1,
           1,
           1,
           1,
           1,
           1,
           1,
           1,
           1,
           1,
           1,
           1,
           1,
           2,
           2,
           2,
           2,
           2,
           2,
           2,
           2,
           2,
           2,
           2,
           2,
           2,
           2,
           2,
           2,
           2,
           2,
           2,
           2,
           2,
           3,
           3,
           3,
           3,
           3,
           3,
           3,
           3,
           3,
           3,
           3,
           3,
           3,
           3,
           3,
           3,
           3,
           3,
           3,
           3,
           3,
           3,
           3,
           3,
           3,
           3,
           3,
           3,
           4,
           4,
           4,
           4,
           4,
           4,
           4,
           4,
           4,
           4,
           4,
           4,
           4,
           4,
           4,
           4,
           4,
           4,
           4,
           4,
           4,
           4,
           4,
           4,
           4,
           5,
           5,
           5,
           5,
           5,
           5,
           5,
           5,
           5,
           5,
           5,
           5,
           5,
           5,
           5,
           5,
           5,
           5,
           5,
           5,
           6,
           6,
           6,
           6,
           6,
           6,
           6,
           6,
           6,
           8,
           8,
           8,
           8,
           8,
           8,
           8,
           8,
           8,
           8,
           8,
           8,
           8,
           8,
           8,
           8,
           8,
           8,
           8,
           8,
           8,
           8,
           8,
           8,
           8,
           8,
           8,
           8,
           8,
           8,
           8,
           8,
           8,
           8,
           8,
           8,
           8,
           8,
           8,
           8,
           8,
           8,
           8,
           8,
           8,
           8,
           8,
           8,
           8,
           8,
           8,
           8,
           8,
           8,
           8,
           8,
           8,
           8,
           9,
           9,
           9,
           9,
           9,
           9,
           9,
           9,
           9,
           9,
           9,
           9,
           9,
           9,
           9,
           9,
           9,
           9,
           9,
           9,
           9,
           9,
           9,
           9,
           9,
           9,
           9,
           9,
           9,
           9,
           9,
           9,
           9,
           9,
           9,
           9,
           9,
           9,
           9,
           9,
           9,
           9,
           9,
           9,
           9,
           9,
           9,
           9,
           9,
           9,
           9,
           9,
           10,
           10,
           10,
           10,
           10,
           10,
           10,
           10,
           10,
           10,
           10,
           10,
           10,
           10,
           10,
           10,
           10,
           10,
           10
          ],
          "coloraxis": "coloraxis",
          "symbol": "circle"
         },
         "mode": "markers",
         "name": "",
         "showlegend": false,
         "type": "scattergeo"
        }
       ],
       "layout": {
        "coloraxis": {
         "colorbar": {
          "title": {
           "text": "region"
          }
         },
         "colorscale": [
          [
           0,
           "#0d0887"
          ],
          [
           0.1111111111111111,
           "#46039f"
          ],
          [
           0.2222222222222222,
           "#7201a8"
          ],
          [
           0.3333333333333333,
           "#9c179e"
          ],
          [
           0.4444444444444444,
           "#bd3786"
          ],
          [
           0.5555555555555556,
           "#d8576b"
          ],
          [
           0.6666666666666666,
           "#ed7953"
          ],
          [
           0.7777777777777778,
           "#fb9f3a"
          ],
          [
           0.8888888888888888,
           "#fdca26"
          ],
          [
           1,
           "#f0f921"
          ]
         ]
        },
        "geo": {
         "center": {},
         "domain": {
          "x": [
           0,
           1
          ],
          "y": [
           0,
           1
          ]
         },
         "scope": "usa"
        },
        "legend": {
         "tracegroupgap": 0
        },
        "margin": {
         "t": 60
        },
        "template": {
         "data": {
          "bar": [
           {
            "error_x": {
             "color": "#2a3f5f"
            },
            "error_y": {
             "color": "#2a3f5f"
            },
            "marker": {
             "line": {
              "color": "#E5ECF6",
              "width": 0.5
             },
             "pattern": {
              "fillmode": "overlay",
              "size": 10,
              "solidity": 0.2
             }
            },
            "type": "bar"
           }
          ],
          "barpolar": [
           {
            "marker": {
             "line": {
              "color": "#E5ECF6",
              "width": 0.5
             },
             "pattern": {
              "fillmode": "overlay",
              "size": 10,
              "solidity": 0.2
             }
            },
            "type": "barpolar"
           }
          ],
          "carpet": [
           {
            "aaxis": {
             "endlinecolor": "#2a3f5f",
             "gridcolor": "white",
             "linecolor": "white",
             "minorgridcolor": "white",
             "startlinecolor": "#2a3f5f"
            },
            "baxis": {
             "endlinecolor": "#2a3f5f",
             "gridcolor": "white",
             "linecolor": "white",
             "minorgridcolor": "white",
             "startlinecolor": "#2a3f5f"
            },
            "type": "carpet"
           }
          ],
          "choropleth": [
           {
            "colorbar": {
             "outlinewidth": 0,
             "ticks": ""
            },
            "type": "choropleth"
           }
          ],
          "contour": [
           {
            "colorbar": {
             "outlinewidth": 0,
             "ticks": ""
            },
            "colorscale": [
             [
              0,
              "#0d0887"
             ],
             [
              0.1111111111111111,
              "#46039f"
             ],
             [
              0.2222222222222222,
              "#7201a8"
             ],
             [
              0.3333333333333333,
              "#9c179e"
             ],
             [
              0.4444444444444444,
              "#bd3786"
             ],
             [
              0.5555555555555556,
              "#d8576b"
             ],
             [
              0.6666666666666666,
              "#ed7953"
             ],
             [
              0.7777777777777778,
              "#fb9f3a"
             ],
             [
              0.8888888888888888,
              "#fdca26"
             ],
             [
              1,
              "#f0f921"
             ]
            ],
            "type": "contour"
           }
          ],
          "contourcarpet": [
           {
            "colorbar": {
             "outlinewidth": 0,
             "ticks": ""
            },
            "type": "contourcarpet"
           }
          ],
          "heatmap": [
           {
            "colorbar": {
             "outlinewidth": 0,
             "ticks": ""
            },
            "colorscale": [
             [
              0,
              "#0d0887"
             ],
             [
              0.1111111111111111,
              "#46039f"
             ],
             [
              0.2222222222222222,
              "#7201a8"
             ],
             [
              0.3333333333333333,
              "#9c179e"
             ],
             [
              0.4444444444444444,
              "#bd3786"
             ],
             [
              0.5555555555555556,
              "#d8576b"
             ],
             [
              0.6666666666666666,
              "#ed7953"
             ],
             [
              0.7777777777777778,
              "#fb9f3a"
             ],
             [
              0.8888888888888888,
              "#fdca26"
             ],
             [
              1,
              "#f0f921"
             ]
            ],
            "type": "heatmap"
           }
          ],
          "heatmapgl": [
           {
            "colorbar": {
             "outlinewidth": 0,
             "ticks": ""
            },
            "colorscale": [
             [
              0,
              "#0d0887"
             ],
             [
              0.1111111111111111,
              "#46039f"
             ],
             [
              0.2222222222222222,
              "#7201a8"
             ],
             [
              0.3333333333333333,
              "#9c179e"
             ],
             [
              0.4444444444444444,
              "#bd3786"
             ],
             [
              0.5555555555555556,
              "#d8576b"
             ],
             [
              0.6666666666666666,
              "#ed7953"
             ],
             [
              0.7777777777777778,
              "#fb9f3a"
             ],
             [
              0.8888888888888888,
              "#fdca26"
             ],
             [
              1,
              "#f0f921"
             ]
            ],
            "type": "heatmapgl"
           }
          ],
          "histogram": [
           {
            "marker": {
             "pattern": {
              "fillmode": "overlay",
              "size": 10,
              "solidity": 0.2
             }
            },
            "type": "histogram"
           }
          ],
          "histogram2d": [
           {
            "colorbar": {
             "outlinewidth": 0,
             "ticks": ""
            },
            "colorscale": [
             [
              0,
              "#0d0887"
             ],
             [
              0.1111111111111111,
              "#46039f"
             ],
             [
              0.2222222222222222,
              "#7201a8"
             ],
             [
              0.3333333333333333,
              "#9c179e"
             ],
             [
              0.4444444444444444,
              "#bd3786"
             ],
             [
              0.5555555555555556,
              "#d8576b"
             ],
             [
              0.6666666666666666,
              "#ed7953"
             ],
             [
              0.7777777777777778,
              "#fb9f3a"
             ],
             [
              0.8888888888888888,
              "#fdca26"
             ],
             [
              1,
              "#f0f921"
             ]
            ],
            "type": "histogram2d"
           }
          ],
          "histogram2dcontour": [
           {
            "colorbar": {
             "outlinewidth": 0,
             "ticks": ""
            },
            "colorscale": [
             [
              0,
              "#0d0887"
             ],
             [
              0.1111111111111111,
              "#46039f"
             ],
             [
              0.2222222222222222,
              "#7201a8"
             ],
             [
              0.3333333333333333,
              "#9c179e"
             ],
             [
              0.4444444444444444,
              "#bd3786"
             ],
             [
              0.5555555555555556,
              "#d8576b"
             ],
             [
              0.6666666666666666,
              "#ed7953"
             ],
             [
              0.7777777777777778,
              "#fb9f3a"
             ],
             [
              0.8888888888888888,
              "#fdca26"
             ],
             [
              1,
              "#f0f921"
             ]
            ],
            "type": "histogram2dcontour"
           }
          ],
          "mesh3d": [
           {
            "colorbar": {
             "outlinewidth": 0,
             "ticks": ""
            },
            "type": "mesh3d"
           }
          ],
          "parcoords": [
           {
            "line": {
             "colorbar": {
              "outlinewidth": 0,
              "ticks": ""
             }
            },
            "type": "parcoords"
           }
          ],
          "pie": [
           {
            "automargin": true,
            "type": "pie"
           }
          ],
          "scatter": [
           {
            "fillpattern": {
             "fillmode": "overlay",
             "size": 10,
             "solidity": 0.2
            },
            "type": "scatter"
           }
          ],
          "scatter3d": [
           {
            "line": {
             "colorbar": {
              "outlinewidth": 0,
              "ticks": ""
             }
            },
            "marker": {
             "colorbar": {
              "outlinewidth": 0,
              "ticks": ""
             }
            },
            "type": "scatter3d"
           }
          ],
          "scattercarpet": [
           {
            "marker": {
             "colorbar": {
              "outlinewidth": 0,
              "ticks": ""
             }
            },
            "type": "scattercarpet"
           }
          ],
          "scattergeo": [
           {
            "marker": {
             "colorbar": {
              "outlinewidth": 0,
              "ticks": ""
             }
            },
            "type": "scattergeo"
           }
          ],
          "scattergl": [
           {
            "marker": {
             "colorbar": {
              "outlinewidth": 0,
              "ticks": ""
             }
            },
            "type": "scattergl"
           }
          ],
          "scattermapbox": [
           {
            "marker": {
             "colorbar": {
              "outlinewidth": 0,
              "ticks": ""
             }
            },
            "type": "scattermapbox"
           }
          ],
          "scatterpolar": [
           {
            "marker": {
             "colorbar": {
              "outlinewidth": 0,
              "ticks": ""
             }
            },
            "type": "scatterpolar"
           }
          ],
          "scatterpolargl": [
           {
            "marker": {
             "colorbar": {
              "outlinewidth": 0,
              "ticks": ""
             }
            },
            "type": "scatterpolargl"
           }
          ],
          "scatterternary": [
           {
            "marker": {
             "colorbar": {
              "outlinewidth": 0,
              "ticks": ""
             }
            },
            "type": "scatterternary"
           }
          ],
          "surface": [
           {
            "colorbar": {
             "outlinewidth": 0,
             "ticks": ""
            },
            "colorscale": [
             [
              0,
              "#0d0887"
             ],
             [
              0.1111111111111111,
              "#46039f"
             ],
             [
              0.2222222222222222,
              "#7201a8"
             ],
             [
              0.3333333333333333,
              "#9c179e"
             ],
             [
              0.4444444444444444,
              "#bd3786"
             ],
             [
              0.5555555555555556,
              "#d8576b"
             ],
             [
              0.6666666666666666,
              "#ed7953"
             ],
             [
              0.7777777777777778,
              "#fb9f3a"
             ],
             [
              0.8888888888888888,
              "#fdca26"
             ],
             [
              1,
              "#f0f921"
             ]
            ],
            "type": "surface"
           }
          ],
          "table": [
           {
            "cells": {
             "fill": {
              "color": "#EBF0F8"
             },
             "line": {
              "color": "white"
             }
            },
            "header": {
             "fill": {
              "color": "#C8D4E3"
             },
             "line": {
              "color": "white"
             }
            },
            "type": "table"
           }
          ]
         },
         "layout": {
          "annotationdefaults": {
           "arrowcolor": "#2a3f5f",
           "arrowhead": 0,
           "arrowwidth": 1
          },
          "autotypenumbers": "strict",
          "coloraxis": {
           "colorbar": {
            "outlinewidth": 0,
            "ticks": ""
           }
          },
          "colorscale": {
           "diverging": [
            [
             0,
             "#8e0152"
            ],
            [
             0.1,
             "#c51b7d"
            ],
            [
             0.2,
             "#de77ae"
            ],
            [
             0.3,
             "#f1b6da"
            ],
            [
             0.4,
             "#fde0ef"
            ],
            [
             0.5,
             "#f7f7f7"
            ],
            [
             0.6,
             "#e6f5d0"
            ],
            [
             0.7,
             "#b8e186"
            ],
            [
             0.8,
             "#7fbc41"
            ],
            [
             0.9,
             "#4d9221"
            ],
            [
             1,
             "#276419"
            ]
           ],
           "sequential": [
            [
             0,
             "#0d0887"
            ],
            [
             0.1111111111111111,
             "#46039f"
            ],
            [
             0.2222222222222222,
             "#7201a8"
            ],
            [
             0.3333333333333333,
             "#9c179e"
            ],
            [
             0.4444444444444444,
             "#bd3786"
            ],
            [
             0.5555555555555556,
             "#d8576b"
            ],
            [
             0.6666666666666666,
             "#ed7953"
            ],
            [
             0.7777777777777778,
             "#fb9f3a"
            ],
            [
             0.8888888888888888,
             "#fdca26"
            ],
            [
             1,
             "#f0f921"
            ]
           ],
           "sequentialminus": [
            [
             0,
             "#0d0887"
            ],
            [
             0.1111111111111111,
             "#46039f"
            ],
            [
             0.2222222222222222,
             "#7201a8"
            ],
            [
             0.3333333333333333,
             "#9c179e"
            ],
            [
             0.4444444444444444,
             "#bd3786"
            ],
            [
             0.5555555555555556,
             "#d8576b"
            ],
            [
             0.6666666666666666,
             "#ed7953"
            ],
            [
             0.7777777777777778,
             "#fb9f3a"
            ],
            [
             0.8888888888888888,
             "#fdca26"
            ],
            [
             1,
             "#f0f921"
            ]
           ]
          },
          "colorway": [
           "#636efa",
           "#EF553B",
           "#00cc96",
           "#ab63fa",
           "#FFA15A",
           "#19d3f3",
           "#FF6692",
           "#B6E880",
           "#FF97FF",
           "#FECB52"
          ],
          "font": {
           "color": "#2a3f5f"
          },
          "geo": {
           "bgcolor": "white",
           "lakecolor": "white",
           "landcolor": "#E5ECF6",
           "showlakes": true,
           "showland": true,
           "subunitcolor": "white"
          },
          "hoverlabel": {
           "align": "left"
          },
          "hovermode": "closest",
          "mapbox": {
           "style": "light"
          },
          "paper_bgcolor": "white",
          "plot_bgcolor": "#E5ECF6",
          "polar": {
           "angularaxis": {
            "gridcolor": "white",
            "linecolor": "white",
            "ticks": ""
           },
           "bgcolor": "#E5ECF6",
           "radialaxis": {
            "gridcolor": "white",
            "linecolor": "white",
            "ticks": ""
           }
          },
          "scene": {
           "xaxis": {
            "backgroundcolor": "#E5ECF6",
            "gridcolor": "white",
            "gridwidth": 2,
            "linecolor": "white",
            "showbackground": true,
            "ticks": "",
            "zerolinecolor": "white"
           },
           "yaxis": {
            "backgroundcolor": "#E5ECF6",
            "gridcolor": "white",
            "gridwidth": 2,
            "linecolor": "white",
            "showbackground": true,
            "ticks": "",
            "zerolinecolor": "white"
           },
           "zaxis": {
            "backgroundcolor": "#E5ECF6",
            "gridcolor": "white",
            "gridwidth": 2,
            "linecolor": "white",
            "showbackground": true,
            "ticks": "",
            "zerolinecolor": "white"
           }
          },
          "shapedefaults": {
           "line": {
            "color": "#2a3f5f"
           }
          },
          "ternary": {
           "aaxis": {
            "gridcolor": "white",
            "linecolor": "white",
            "ticks": ""
           },
           "baxis": {
            "gridcolor": "white",
            "linecolor": "white",
            "ticks": ""
           },
           "bgcolor": "#E5ECF6",
           "caxis": {
            "gridcolor": "white",
            "linecolor": "white",
            "ticks": ""
           }
          },
          "title": {
           "x": 0.05
          },
          "xaxis": {
           "automargin": true,
           "gridcolor": "white",
           "linecolor": "white",
           "ticks": "",
           "title": {
            "standoff": 15
           },
           "zerolinecolor": "white",
           "zerolinewidth": 2
          },
          "yaxis": {
           "automargin": true,
           "gridcolor": "white",
           "linecolor": "white",
           "ticks": "",
           "title": {
            "standoff": 15
           },
           "zerolinecolor": "white",
           "zerolinewidth": 2
          }
         }
        },
        "title": {
         "text": "US map By region borders",
         "x": 0.5
        }
       }
      },
      "text/html": [
       "<div>                            <div id=\"23348cb1-aeae-46bd-b934-79a7023caa26\" class=\"plotly-graph-div\" style=\"height:525px; width:100%;\"></div>            <script type=\"text/javascript\">                require([\"plotly\"], function(Plotly) {                    window.PLOTLYENV=window.PLOTLYENV || {};                                    if (document.getElementById(\"23348cb1-aeae-46bd-b934-79a7023caa26\")) {                    Plotly.newPlot(                        \"23348cb1-aeae-46bd-b934-79a7023caa26\",                        [{\"geo\":\"geo\",\"hovertemplate\":\"lat=%{lat}<br>lon=%{lon}<br>region=%{marker.color}<extra></extra>\",\"lat\":[48.998625,45.424841,45.548077,45.458889,45.702748,44.355692,44.501816,44.44614,44.53646,44.562305,44.541651,44.752791,44.476095,45.000642,44.997898,45.945135,45.93524,49.000315,44.476095,44.476095,44.159549,41.000701,36.998911,36.68962,36.68962,37.00007,37.00007,39.101825,42.43524,45.301939,45.604551,45.93524,45.00064,44.9979,45.94519,45.000642,44.997898,45.945135,45.93524,36.68962,36.195716,36.023904,36.095684,35.001852,34.876637,34.715618,34.466089,34.302181,34.258653,34.095316,33.933782,33.347272,33.289786,33.071656,32.974216,32.844382,32.718194,32.493855,31.332248,31.332248,31.783597,31.783597,31.897016,32.000679,32.000379,36.68962,36.68962,45.424841,45.548077,45.458889,45.702748,44.355692,44.501816,44.44614,44.53646,44.562305,44.541651,44.752791,44.476095,44.476095,44.159549,41.000701,36.998911,36.68962,36.68962,36.195716,36.023904,36.095684,35.001852,38.999594,41.994873,41.994873,35.001852,34.876637,34.715618,34.466089,34.302181,34.258653,34.095316,33.933782,33.347272,33.289786,33.071656,32.974216,32.844382,32.718194,38.999594,41.994873,32.515552,34.243595,40.33817,41.99487,48.407326,48.380882,48.999592,48.999099,41.99487,41.994873,41.99487,45.4284,48.99863,36.68962,31.332248,31.783597,31.783597,31.897016,32.000679,32.000379,37.00007,37.00007,36.499488,36.484245,35.994952,36.000941,36.974033,37.14554,37.21994,37.06778,37.087364,37.205586,37.29017,37.423889,37.400437,37.469136,37.49529,37.673767,37.924024,38.854681,39.105022,38.781922,38.717662,38.415938,38.146438,37.620758,37.103932,37.447606,38.451438,39.270537,39.680769,39.331111,39.216295,39.120472,38.874998,38.399797,37.881357,37.983175,36.888408,35.146863,31.306715,27.000408,24.507143,28.902397,28.709861,28.478349,25.943227,26.35742,29.621221,28.912015,30.073848,37.00007,39.101825,42.43524,45.301939,45.604551,45.93524,36.499488,36.484245,35.994952,36.000941,36.974033,37.14554,37.21994,37.06778,37.087364,37.205586,37.29017,37.423889,37.400437,37.469136,37.49529,37.673767,37.924024,38.854681,39.105022,38.781922,38.717662,38.415938,38.146438,37.620758,37.103932,37.447606,38.451438,39.270537,39.680769,39.331111,39.216295,39.120472,38.874998,38.399797,37.881357,37.983175,49.00032,49.368066,46.483265,44.0718,41.656497,44.918139,47.323931,47.23449,44.543505,40.896906,70.641769,65.5948,60.053874,57.715885,57.868132,52.133488,53.357109,55.751849,55.553495,54.54658,51.481383,50.541363,59.063154,54.431713,55.21649,59.745326,58.893296,60.307906,69.88501],\"legendgroup\":\"\",\"lon\":[-117.032181,-116.575238,-114.563236,-114.340904,-113.970683,-112.842069,-112.716047,-112.386114,-112.353637,-111.868789,-111.463793,-111.382034,-111.052484,-111.054512,-104.039652,-104.045442,-96.563685,-97.238073,-111.052484,-110.001004,-109.050031,-109.050031,-109.04521,-109.04521,-103.002242,-103.002242,-94.617957,-94.617957,-96.420416,-96.420416,-96.855765,-96.563685,111.0545,104.0397,104.0454,-111.054512,-104.039652,-104.045442,-96.563685,-114.050103,-114.050103,-114.152134,-114.748691,-114.633024,-114.635455,-114.486139,-114.40203,-114.138016,-114.132248,-114.422722,-114.535904,-114.698987,-114.726255,-114.68749,-114.472487,-114.469185,-114.719968,-114.813498,-111.074822,-108.208456,-108.208456,-106.527977,-106.64584,-106.64584,-103.06451,-109.04521,-103.002242,-116.575238,-114.563236,-114.340904,-113.970683,-112.842069,-112.716047,-112.386114,-112.353637,-111.868789,-111.463793,-111.382034,-111.052484,-110.001004,-109.050031,-109.050031,-109.04521,-109.04521,-114.050103,-114.050103,-114.152134,-114.748691,-114.633024,-120.001012,-120.001012,-117.026266,-114.633024,-114.635455,-114.486139,-114.40203,-114.138016,-114.132248,-114.422722,-114.535904,-114.698987,-114.726255,-114.68749,-114.472487,-114.469185,-114.719968,-120.001012,-120.001012,-117.235491,-120.939332,-124.717891,-124.598449,-125.003417,-123.134889,-123.320267,-117.03238,-124.598449,-120.001012,-117.0263,-116.5752,-117.0322,-103.002242,-108.208456,-108.208456,-106.527977,-106.64584,-106.64584,-103.06451,-103.002242,-94.617957,-94.617874,-90.159248,-90.375636,-89.70694,-89.137409,-89.089624,-88.948239,-88.554268,-88.448597,-88.45061,-88.512708,-88.409754,-88.368572,-88.095988,-88.062357,-88.146777,-87.904758,-84.793704,-84.487693,-84.216453,-82.882168,-82.590182,-82.639409,-82.348588,-81.727357,-80.304973,-79.228965,-78.389899,-78.173912,-77.762201,-77.465616,-77.528761,-77.042818,-77.312423,-76.25268,-74.876576,-75.589566,-75.172259,-80.882779,-79.896863,-80.555769,-84.90455,-89.345415,-95.187717,-96.910542,-99.119591,-101.513572,-103.138874,-104.83054,-94.617957,-94.617957,-96.420416,-96.420416,-96.855765,-96.563685,-94.617874,-90.159248,-90.375636,-89.70694,-89.137409,-89.089624,-88.948239,-88.554268,-88.448597,-88.45061,-88.512708,-88.409754,-88.368572,-88.095988,-88.062357,-88.146777,-87.904758,-84.793704,-84.487693,-84.216453,-82.882168,-82.590182,-82.639409,-82.348588,-81.727357,-80.304973,-79.228965,-78.389899,-78.173912,-77.762201,-77.465616,-77.528761,-77.042818,-77.312423,-76.25268,-74.876576,-97.23807,-94.978894,-84.392468,-82.152187,-82.635385,-74.948146,-69.237625,-68.079804,-66.937208,-69.484978,-166.83763,-168.271506,-167.876564,-159.793981,-158.483863,-177.723924,-187.651444,-193.449818,-194.679777,-194.416214,-186.333632,-176.230403,-143.548657,-133.649274,-129.871545,-135.401178,-137.377897,-140.988369,-140.718507],\"marker\":{\"color\":[1,1,1,1,1,1,1,1,1,1,1,1,1,1,1,1,1,1,2,2,2,2,2,2,2,2,2,2,2,2,2,2,2,2,2,2,2,2,2,3,3,3,3,3,3,3,3,3,3,3,3,3,3,3,3,3,3,3,3,3,3,3,3,3,3,3,3,4,4,4,4,4,4,4,4,4,4,4,4,4,4,4,4,4,4,4,4,4,4,4,4,4,5,5,5,5,5,5,5,5,5,5,5,5,5,5,5,5,5,5,5,5,6,6,6,6,6,6,6,6,6,8,8,8,8,8,8,8,8,8,8,8,8,8,8,8,8,8,8,8,8,8,8,8,8,8,8,8,8,8,8,8,8,8,8,8,8,8,8,8,8,8,8,8,8,8,8,8,8,8,8,8,8,8,8,8,8,8,8,9,9,9,9,9,9,9,9,9,9,9,9,9,9,9,9,9,9,9,9,9,9,9,9,9,9,9,9,9,9,9,9,9,9,9,9,9,9,9,9,9,9,9,9,9,9,9,9,9,9,9,9,10,10,10,10,10,10,10,10,10,10,10,10,10,10,10,10,10,10,10],\"coloraxis\":\"coloraxis\",\"symbol\":\"circle\"},\"mode\":\"markers\",\"name\":\"\",\"showlegend\":false,\"type\":\"scattergeo\"}],                        {\"template\":{\"data\":{\"histogram2dcontour\":[{\"type\":\"histogram2dcontour\",\"colorbar\":{\"outlinewidth\":0,\"ticks\":\"\"},\"colorscale\":[[0.0,\"#0d0887\"],[0.1111111111111111,\"#46039f\"],[0.2222222222222222,\"#7201a8\"],[0.3333333333333333,\"#9c179e\"],[0.4444444444444444,\"#bd3786\"],[0.5555555555555556,\"#d8576b\"],[0.6666666666666666,\"#ed7953\"],[0.7777777777777778,\"#fb9f3a\"],[0.8888888888888888,\"#fdca26\"],[1.0,\"#f0f921\"]]}],\"choropleth\":[{\"type\":\"choropleth\",\"colorbar\":{\"outlinewidth\":0,\"ticks\":\"\"}}],\"histogram2d\":[{\"type\":\"histogram2d\",\"colorbar\":{\"outlinewidth\":0,\"ticks\":\"\"},\"colorscale\":[[0.0,\"#0d0887\"],[0.1111111111111111,\"#46039f\"],[0.2222222222222222,\"#7201a8\"],[0.3333333333333333,\"#9c179e\"],[0.4444444444444444,\"#bd3786\"],[0.5555555555555556,\"#d8576b\"],[0.6666666666666666,\"#ed7953\"],[0.7777777777777778,\"#fb9f3a\"],[0.8888888888888888,\"#fdca26\"],[1.0,\"#f0f921\"]]}],\"heatmap\":[{\"type\":\"heatmap\",\"colorbar\":{\"outlinewidth\":0,\"ticks\":\"\"},\"colorscale\":[[0.0,\"#0d0887\"],[0.1111111111111111,\"#46039f\"],[0.2222222222222222,\"#7201a8\"],[0.3333333333333333,\"#9c179e\"],[0.4444444444444444,\"#bd3786\"],[0.5555555555555556,\"#d8576b\"],[0.6666666666666666,\"#ed7953\"],[0.7777777777777778,\"#fb9f3a\"],[0.8888888888888888,\"#fdca26\"],[1.0,\"#f0f921\"]]}],\"heatmapgl\":[{\"type\":\"heatmapgl\",\"colorbar\":{\"outlinewidth\":0,\"ticks\":\"\"},\"colorscale\":[[0.0,\"#0d0887\"],[0.1111111111111111,\"#46039f\"],[0.2222222222222222,\"#7201a8\"],[0.3333333333333333,\"#9c179e\"],[0.4444444444444444,\"#bd3786\"],[0.5555555555555556,\"#d8576b\"],[0.6666666666666666,\"#ed7953\"],[0.7777777777777778,\"#fb9f3a\"],[0.8888888888888888,\"#fdca26\"],[1.0,\"#f0f921\"]]}],\"contourcarpet\":[{\"type\":\"contourcarpet\",\"colorbar\":{\"outlinewidth\":0,\"ticks\":\"\"}}],\"contour\":[{\"type\":\"contour\",\"colorbar\":{\"outlinewidth\":0,\"ticks\":\"\"},\"colorscale\":[[0.0,\"#0d0887\"],[0.1111111111111111,\"#46039f\"],[0.2222222222222222,\"#7201a8\"],[0.3333333333333333,\"#9c179e\"],[0.4444444444444444,\"#bd3786\"],[0.5555555555555556,\"#d8576b\"],[0.6666666666666666,\"#ed7953\"],[0.7777777777777778,\"#fb9f3a\"],[0.8888888888888888,\"#fdca26\"],[1.0,\"#f0f921\"]]}],\"surface\":[{\"type\":\"surface\",\"colorbar\":{\"outlinewidth\":0,\"ticks\":\"\"},\"colorscale\":[[0.0,\"#0d0887\"],[0.1111111111111111,\"#46039f\"],[0.2222222222222222,\"#7201a8\"],[0.3333333333333333,\"#9c179e\"],[0.4444444444444444,\"#bd3786\"],[0.5555555555555556,\"#d8576b\"],[0.6666666666666666,\"#ed7953\"],[0.7777777777777778,\"#fb9f3a\"],[0.8888888888888888,\"#fdca26\"],[1.0,\"#f0f921\"]]}],\"mesh3d\":[{\"type\":\"mesh3d\",\"colorbar\":{\"outlinewidth\":0,\"ticks\":\"\"}}],\"scatter\":[{\"fillpattern\":{\"fillmode\":\"overlay\",\"size\":10,\"solidity\":0.2},\"type\":\"scatter\"}],\"parcoords\":[{\"type\":\"parcoords\",\"line\":{\"colorbar\":{\"outlinewidth\":0,\"ticks\":\"\"}}}],\"scatterpolargl\":[{\"type\":\"scatterpolargl\",\"marker\":{\"colorbar\":{\"outlinewidth\":0,\"ticks\":\"\"}}}],\"bar\":[{\"error_x\":{\"color\":\"#2a3f5f\"},\"error_y\":{\"color\":\"#2a3f5f\"},\"marker\":{\"line\":{\"color\":\"#E5ECF6\",\"width\":0.5},\"pattern\":{\"fillmode\":\"overlay\",\"size\":10,\"solidity\":0.2}},\"type\":\"bar\"}],\"scattergeo\":[{\"type\":\"scattergeo\",\"marker\":{\"colorbar\":{\"outlinewidth\":0,\"ticks\":\"\"}}}],\"scatterpolar\":[{\"type\":\"scatterpolar\",\"marker\":{\"colorbar\":{\"outlinewidth\":0,\"ticks\":\"\"}}}],\"histogram\":[{\"marker\":{\"pattern\":{\"fillmode\":\"overlay\",\"size\":10,\"solidity\":0.2}},\"type\":\"histogram\"}],\"scattergl\":[{\"type\":\"scattergl\",\"marker\":{\"colorbar\":{\"outlinewidth\":0,\"ticks\":\"\"}}}],\"scatter3d\":[{\"type\":\"scatter3d\",\"line\":{\"colorbar\":{\"outlinewidth\":0,\"ticks\":\"\"}},\"marker\":{\"colorbar\":{\"outlinewidth\":0,\"ticks\":\"\"}}}],\"scattermapbox\":[{\"type\":\"scattermapbox\",\"marker\":{\"colorbar\":{\"outlinewidth\":0,\"ticks\":\"\"}}}],\"scatterternary\":[{\"type\":\"scatterternary\",\"marker\":{\"colorbar\":{\"outlinewidth\":0,\"ticks\":\"\"}}}],\"scattercarpet\":[{\"type\":\"scattercarpet\",\"marker\":{\"colorbar\":{\"outlinewidth\":0,\"ticks\":\"\"}}}],\"carpet\":[{\"aaxis\":{\"endlinecolor\":\"#2a3f5f\",\"gridcolor\":\"white\",\"linecolor\":\"white\",\"minorgridcolor\":\"white\",\"startlinecolor\":\"#2a3f5f\"},\"baxis\":{\"endlinecolor\":\"#2a3f5f\",\"gridcolor\":\"white\",\"linecolor\":\"white\",\"minorgridcolor\":\"white\",\"startlinecolor\":\"#2a3f5f\"},\"type\":\"carpet\"}],\"table\":[{\"cells\":{\"fill\":{\"color\":\"#EBF0F8\"},\"line\":{\"color\":\"white\"}},\"header\":{\"fill\":{\"color\":\"#C8D4E3\"},\"line\":{\"color\":\"white\"}},\"type\":\"table\"}],\"barpolar\":[{\"marker\":{\"line\":{\"color\":\"#E5ECF6\",\"width\":0.5},\"pattern\":{\"fillmode\":\"overlay\",\"size\":10,\"solidity\":0.2}},\"type\":\"barpolar\"}],\"pie\":[{\"automargin\":true,\"type\":\"pie\"}]},\"layout\":{\"autotypenumbers\":\"strict\",\"colorway\":[\"#636efa\",\"#EF553B\",\"#00cc96\",\"#ab63fa\",\"#FFA15A\",\"#19d3f3\",\"#FF6692\",\"#B6E880\",\"#FF97FF\",\"#FECB52\"],\"font\":{\"color\":\"#2a3f5f\"},\"hovermode\":\"closest\",\"hoverlabel\":{\"align\":\"left\"},\"paper_bgcolor\":\"white\",\"plot_bgcolor\":\"#E5ECF6\",\"polar\":{\"bgcolor\":\"#E5ECF6\",\"angularaxis\":{\"gridcolor\":\"white\",\"linecolor\":\"white\",\"ticks\":\"\"},\"radialaxis\":{\"gridcolor\":\"white\",\"linecolor\":\"white\",\"ticks\":\"\"}},\"ternary\":{\"bgcolor\":\"#E5ECF6\",\"aaxis\":{\"gridcolor\":\"white\",\"linecolor\":\"white\",\"ticks\":\"\"},\"baxis\":{\"gridcolor\":\"white\",\"linecolor\":\"white\",\"ticks\":\"\"},\"caxis\":{\"gridcolor\":\"white\",\"linecolor\":\"white\",\"ticks\":\"\"}},\"coloraxis\":{\"colorbar\":{\"outlinewidth\":0,\"ticks\":\"\"}},\"colorscale\":{\"sequential\":[[0.0,\"#0d0887\"],[0.1111111111111111,\"#46039f\"],[0.2222222222222222,\"#7201a8\"],[0.3333333333333333,\"#9c179e\"],[0.4444444444444444,\"#bd3786\"],[0.5555555555555556,\"#d8576b\"],[0.6666666666666666,\"#ed7953\"],[0.7777777777777778,\"#fb9f3a\"],[0.8888888888888888,\"#fdca26\"],[1.0,\"#f0f921\"]],\"sequentialminus\":[[0.0,\"#0d0887\"],[0.1111111111111111,\"#46039f\"],[0.2222222222222222,\"#7201a8\"],[0.3333333333333333,\"#9c179e\"],[0.4444444444444444,\"#bd3786\"],[0.5555555555555556,\"#d8576b\"],[0.6666666666666666,\"#ed7953\"],[0.7777777777777778,\"#fb9f3a\"],[0.8888888888888888,\"#fdca26\"],[1.0,\"#f0f921\"]],\"diverging\":[[0,\"#8e0152\"],[0.1,\"#c51b7d\"],[0.2,\"#de77ae\"],[0.3,\"#f1b6da\"],[0.4,\"#fde0ef\"],[0.5,\"#f7f7f7\"],[0.6,\"#e6f5d0\"],[0.7,\"#b8e186\"],[0.8,\"#7fbc41\"],[0.9,\"#4d9221\"],[1,\"#276419\"]]},\"xaxis\":{\"gridcolor\":\"white\",\"linecolor\":\"white\",\"ticks\":\"\",\"title\":{\"standoff\":15},\"zerolinecolor\":\"white\",\"automargin\":true,\"zerolinewidth\":2},\"yaxis\":{\"gridcolor\":\"white\",\"linecolor\":\"white\",\"ticks\":\"\",\"title\":{\"standoff\":15},\"zerolinecolor\":\"white\",\"automargin\":true,\"zerolinewidth\":2},\"scene\":{\"xaxis\":{\"backgroundcolor\":\"#E5ECF6\",\"gridcolor\":\"white\",\"linecolor\":\"white\",\"showbackground\":true,\"ticks\":\"\",\"zerolinecolor\":\"white\",\"gridwidth\":2},\"yaxis\":{\"backgroundcolor\":\"#E5ECF6\",\"gridcolor\":\"white\",\"linecolor\":\"white\",\"showbackground\":true,\"ticks\":\"\",\"zerolinecolor\":\"white\",\"gridwidth\":2},\"zaxis\":{\"backgroundcolor\":\"#E5ECF6\",\"gridcolor\":\"white\",\"linecolor\":\"white\",\"showbackground\":true,\"ticks\":\"\",\"zerolinecolor\":\"white\",\"gridwidth\":2}},\"shapedefaults\":{\"line\":{\"color\":\"#2a3f5f\"}},\"annotationdefaults\":{\"arrowcolor\":\"#2a3f5f\",\"arrowhead\":0,\"arrowwidth\":1},\"geo\":{\"bgcolor\":\"white\",\"landcolor\":\"#E5ECF6\",\"subunitcolor\":\"white\",\"showland\":true,\"showlakes\":true,\"lakecolor\":\"white\"},\"title\":{\"x\":0.05},\"mapbox\":{\"style\":\"light\"}}},\"geo\":{\"domain\":{\"x\":[0.0,1.0],\"y\":[0.0,1.0]},\"center\":{},\"scope\":\"usa\"},\"coloraxis\":{\"colorbar\":{\"title\":{\"text\":\"region\"}},\"colorscale\":[[0.0,\"#0d0887\"],[0.1111111111111111,\"#46039f\"],[0.2222222222222222,\"#7201a8\"],[0.3333333333333333,\"#9c179e\"],[0.4444444444444444,\"#bd3786\"],[0.5555555555555556,\"#d8576b\"],[0.6666666666666666,\"#ed7953\"],[0.7777777777777778,\"#fb9f3a\"],[0.8888888888888888,\"#fdca26\"],[1.0,\"#f0f921\"]]},\"legend\":{\"tracegroupgap\":0},\"margin\":{\"t\":60},\"title\":{\"text\":\"US map By region borders\",\"x\":0.5}},                        {\"responsive\": true}                    ).then(function(){\n",
       "                            \n",
       "var gd = document.getElementById('23348cb1-aeae-46bd-b934-79a7023caa26');\n",
       "var x = new MutationObserver(function (mutations, observer) {{\n",
       "        var display = window.getComputedStyle(gd).display;\n",
       "        if (!display || display === 'none') {{\n",
       "            console.log([gd, 'removed!']);\n",
       "            Plotly.purge(gd);\n",
       "            observer.disconnect();\n",
       "        }}\n",
       "}});\n",
       "\n",
       "// Listen for the removal of the full notebook cells\n",
       "var notebookContainer = gd.closest('#notebook-container');\n",
       "if (notebookContainer) {{\n",
       "    x.observe(notebookContainer, {childList: true});\n",
       "}}\n",
       "\n",
       "// Listen for the clearing of the current output cell\n",
       "var outputEl = gd.closest('.output');\n",
       "if (outputEl) {{\n",
       "    x.observe(outputEl, {childList: true});\n",
       "}}\n",
       "\n",
       "                        })                };                });            </script>        </div>"
      ]
     },
     "metadata": {},
     "output_type": "display_data"
    }
   ],
   "source": [
    "fig = px.scatter_geo(regionDF,lat='lat',lon='lon',color = \"region\")\n",
    "fig.update_layout(title = 'US map By region borders',geo_scope='usa', title_x=0.5)\n",
    "fig.write_image(f\"Regions/allRegions.png\")\n",
    "fig.show()"
   ]
  },
  {
   "cell_type": "code",
   "execution_count": null,
   "metadata": {},
   "outputs": [],
   "source": []
  },
  {
   "cell_type": "code",
   "execution_count": null,
   "metadata": {},
   "outputs": [],
   "source": [
    "# separation of training and testing data \n",
    "label_names = sorted(df['STAT_CAUSE_DESCR'].unique())\n",
    "df_dummies_X = df.drop(columns=['STAT_CAUSE_DESCR'])\n",
    "df_dummies_X = pd.get_dummies(df_dummies_X)\n",
    "X = df_dummies_X\n",
    "Y = df['STAT_CAUSE_DESCR']\n",
    "\n",
    "X_train, X_test, Y_train, Y_test = train_test_split(X,Y, test_size=0.2, random_state=1, stratify=Y)"
   ]
  },
  {
   "cell_type": "code",
   "execution_count": 20,
   "metadata": {},
   "outputs": [
    {
     "ename": "TypeError",
     "evalue": "The DType <class 'numpy.dtype[datetime64]'> could not be promoted by <class 'numpy.dtype[float64]'>. This means that no common DType exists for the given inputs. For example they cannot be stored in a single array unless the dtype is `object`. The full list of DTypes is: (<class 'numpy.dtype[int64]'>, <class 'numpy.dtype[datetime64]'>, <class 'numpy.dtype[int64]'>, <class 'numpy.dtype[float64]'>, <class 'numpy.dtype[float64]'>, <class 'numpy.dtype[float64]'>, <class 'numpy.dtype[bool_]'>, <class 'numpy.dtype[bool_]'>, <class 'numpy.dtype[bool_]'>, <class 'numpy.dtype[bool_]'>, <class 'numpy.dtype[bool_]'>, <class 'numpy.dtype[bool_]'>, <class 'numpy.dtype[bool_]'>, <class 'numpy.dtype[bool_]'>, <class 'numpy.dtype[bool_]'>, <class 'numpy.dtype[int64]'>, <class 'numpy.dtype[uint8]'>, <class 'numpy.dtype[uint8]'>, <class 'numpy.dtype[uint8]'>, <class 'numpy.dtype[uint8]'>, <class 'numpy.dtype[uint8]'>, <class 'numpy.dtype[uint8]'>, <class 'numpy.dtype[uint8]'>, <class 'numpy.dtype[uint8]'>, <class 'numpy.dtype[uint8]'>, <class 'numpy.dtype[uint8]'>, <class 'numpy.dtype[uint8]'>, <class 'numpy.dtype[uint8]'>, <class 'numpy.dtype[uint8]'>, <class 'numpy.dtype[uint8]'>, <class 'numpy.dtype[uint8]'>, <class 'numpy.dtype[uint8]'>, <class 'numpy.dtype[uint8]'>, <class 'numpy.dtype[uint8]'>, <class 'numpy.dtype[uint8]'>, <class 'numpy.dtype[uint8]'>, <class 'numpy.dtype[uint8]'>, <class 'numpy.dtype[uint8]'>, <class 'numpy.dtype[uint8]'>, <class 'numpy.dtype[uint8]'>, <class 'numpy.dtype[uint8]'>, <class 'numpy.dtype[uint8]'>, <class 'numpy.dtype[uint8]'>, <class 'numpy.dtype[uint8]'>, <class 'numpy.dtype[uint8]'>, <class 'numpy.dtype[uint8]'>, <class 'numpy.dtype[uint8]'>, <class 'numpy.dtype[uint8]'>, <class 'numpy.dtype[uint8]'>, <class 'numpy.dtype[uint8]'>, <class 'numpy.dtype[uint8]'>, <class 'numpy.dtype[uint8]'>, <class 'numpy.dtype[uint8]'>, <class 'numpy.dtype[uint8]'>, <class 'numpy.dtype[uint8]'>, <class 'numpy.dtype[uint8]'>, <class 'numpy.dtype[uint8]'>, <class 'numpy.dtype[uint8]'>, <class 'numpy.dtype[uint8]'>, <class 'numpy.dtype[uint8]'>, <class 'numpy.dtype[uint8]'>, <class 'numpy.dtype[uint8]'>, <class 'numpy.dtype[uint8]'>, <class 'numpy.dtype[uint8]'>, <class 'numpy.dtype[uint8]'>, <class 'numpy.dtype[uint8]'>, <class 'numpy.dtype[uint8]'>, <class 'numpy.dtype[uint8]'>, <class 'numpy.dtype[uint8]'>, <class 'numpy.dtype[uint8]'>, <class 'numpy.dtype[uint8]'>, <class 'numpy.dtype[uint8]'>, <class 'numpy.dtype[uint8]'>, <class 'numpy.dtype[uint8]'>, <class 'numpy.dtype[uint8]'>, <class 'numpy.dtype[uint8]'>, <class 'numpy.dtype[uint8]'>, <class 'numpy.dtype[uint8]'>, <class 'numpy.dtype[uint8]'>, <class 'numpy.dtype[uint8]'>, <class 'numpy.dtype[uint8]'>, <class 'numpy.dtype[uint8]'>, <class 'numpy.dtype[uint8]'>, <class 'numpy.dtype[uint8]'>, <class 'numpy.dtype[uint8]'>, <class 'numpy.dtype[uint8]'>, <class 'numpy.dtype[uint8]'>, <class 'numpy.dtype[uint8]'>, <class 'numpy.dtype[uint8]'>, <class 'numpy.dtype[uint8]'>, <class 'numpy.dtype[uint8]'>, <class 'numpy.dtype[uint8]'>, <class 'numpy.dtype[uint8]'>, <class 'numpy.dtype[uint8]'>, <class 'numpy.dtype[uint8]'>, <class 'numpy.dtype[uint8]'>, <class 'numpy.dtype[uint8]'>, <class 'numpy.dtype[uint8]'>, <class 'numpy.dtype[uint8]'>, <class 'numpy.dtype[uint8]'>, <class 'numpy.dtype[uint8]'>, <class 'numpy.dtype[uint8]'>)",
     "output_type": "error",
     "traceback": [
      "\u001b[1;31m---------------------------------------------------------------------------\u001b[0m",
      "\u001b[1;31mTypeError\u001b[0m                                 Traceback (most recent call last)",
      "Input \u001b[1;32mIn [20]\u001b[0m, in \u001b[0;36m<cell line: 11>\u001b[1;34m()\u001b[0m\n\u001b[0;32m      6\u001b[0m X_train, X_test, Y_train, Y_test \u001b[38;5;241m=\u001b[39m train_test_split(X,Y, test_size\u001b[38;5;241m=\u001b[39m\u001b[38;5;241m0.4\u001b[39m, random_state\u001b[38;5;241m=\u001b[39m\u001b[38;5;241m1\u001b[39m, stratify\u001b[38;5;241m=\u001b[39mY)\n\u001b[0;32m      9\u001b[0m classifier \u001b[38;5;241m=\u001b[39m RandomForestClassifier(n_estimators\u001b[38;5;241m=\u001b[39m\u001b[38;5;241m500\u001b[39m, max_depth\u001b[38;5;241m=\u001b[39m\u001b[38;5;241m50\u001b[39m, min_samples_leaf\u001b[38;5;241m=\u001b[39m\u001b[38;5;241m50\u001b[39m, random_state\u001b[38;5;241m=\u001b[39m\u001b[38;5;241m123\u001b[39m)\n\u001b[1;32m---> 11\u001b[0m classifier \u001b[38;5;241m=\u001b[39m \u001b[43mclassifier\u001b[49m\u001b[38;5;241;43m.\u001b[39;49m\u001b[43mfit\u001b[49m\u001b[43m(\u001b[49m\u001b[43mX_train\u001b[49m\u001b[43m,\u001b[49m\u001b[43m \u001b[49m\u001b[43mY_train\u001b[49m\u001b[43m)\u001b[49m\n\u001b[0;32m     12\u001b[0m training_accuracy \u001b[38;5;241m=\u001b[39m accuracy_score(Y_train, classifier\u001b[38;5;241m.\u001b[39mpredict(X_train))\n\u001b[0;32m     13\u001b[0m pred \u001b[38;5;241m=\u001b[39m classifier\u001b[38;5;241m.\u001b[39mpredict(X_test)\n",
      "File \u001b[1;32m~\\Anaconda3\\envs\\py39\\lib\\site-packages\\sklearn\\ensemble\\_forest.py:331\u001b[0m, in \u001b[0;36mBaseForest.fit\u001b[1;34m(self, X, y, sample_weight)\u001b[0m\n\u001b[0;32m    329\u001b[0m \u001b[38;5;28;01mif\u001b[39;00m issparse(y):\n\u001b[0;32m    330\u001b[0m     \u001b[38;5;28;01mraise\u001b[39;00m \u001b[38;5;167;01mValueError\u001b[39;00m(\u001b[38;5;124m\"\u001b[39m\u001b[38;5;124msparse multilabel-indicator for y is not supported.\u001b[39m\u001b[38;5;124m\"\u001b[39m)\n\u001b[1;32m--> 331\u001b[0m X, y \u001b[38;5;241m=\u001b[39m \u001b[38;5;28;43mself\u001b[39;49m\u001b[38;5;241;43m.\u001b[39;49m\u001b[43m_validate_data\u001b[49m\u001b[43m(\u001b[49m\n\u001b[0;32m    332\u001b[0m \u001b[43m    \u001b[49m\u001b[43mX\u001b[49m\u001b[43m,\u001b[49m\u001b[43m \u001b[49m\u001b[43my\u001b[49m\u001b[43m,\u001b[49m\u001b[43m \u001b[49m\u001b[43mmulti_output\u001b[49m\u001b[38;5;241;43m=\u001b[39;49m\u001b[38;5;28;43;01mTrue\u001b[39;49;00m\u001b[43m,\u001b[49m\u001b[43m \u001b[49m\u001b[43maccept_sparse\u001b[49m\u001b[38;5;241;43m=\u001b[39;49m\u001b[38;5;124;43m\"\u001b[39;49m\u001b[38;5;124;43mcsc\u001b[39;49m\u001b[38;5;124;43m\"\u001b[39;49m\u001b[43m,\u001b[49m\u001b[43m \u001b[49m\u001b[43mdtype\u001b[49m\u001b[38;5;241;43m=\u001b[39;49m\u001b[43mDTYPE\u001b[49m\n\u001b[0;32m    333\u001b[0m \u001b[43m\u001b[49m\u001b[43m)\u001b[49m\n\u001b[0;32m    334\u001b[0m \u001b[38;5;28;01mif\u001b[39;00m sample_weight \u001b[38;5;129;01mis\u001b[39;00m \u001b[38;5;129;01mnot\u001b[39;00m \u001b[38;5;28;01mNone\u001b[39;00m:\n\u001b[0;32m    335\u001b[0m     sample_weight \u001b[38;5;241m=\u001b[39m _check_sample_weight(sample_weight, X)\n",
      "File \u001b[1;32m~\\Anaconda3\\envs\\py39\\lib\\site-packages\\sklearn\\base.py:596\u001b[0m, in \u001b[0;36mBaseEstimator._validate_data\u001b[1;34m(self, X, y, reset, validate_separately, **check_params)\u001b[0m\n\u001b[0;32m    594\u001b[0m         y \u001b[38;5;241m=\u001b[39m check_array(y, input_name\u001b[38;5;241m=\u001b[39m\u001b[38;5;124m\"\u001b[39m\u001b[38;5;124my\u001b[39m\u001b[38;5;124m\"\u001b[39m, \u001b[38;5;241m*\u001b[39m\u001b[38;5;241m*\u001b[39mcheck_y_params)\n\u001b[0;32m    595\u001b[0m     \u001b[38;5;28;01melse\u001b[39;00m:\n\u001b[1;32m--> 596\u001b[0m         X, y \u001b[38;5;241m=\u001b[39m check_X_y(X, y, \u001b[38;5;241m*\u001b[39m\u001b[38;5;241m*\u001b[39mcheck_params)\n\u001b[0;32m    597\u001b[0m     out \u001b[38;5;241m=\u001b[39m X, y\n\u001b[0;32m    599\u001b[0m \u001b[38;5;28;01mif\u001b[39;00m \u001b[38;5;129;01mnot\u001b[39;00m no_val_X \u001b[38;5;129;01mand\u001b[39;00m check_params\u001b[38;5;241m.\u001b[39mget(\u001b[38;5;124m\"\u001b[39m\u001b[38;5;124mensure_2d\u001b[39m\u001b[38;5;124m\"\u001b[39m, \u001b[38;5;28;01mTrue\u001b[39;00m):\n",
      "File \u001b[1;32m~\\Anaconda3\\envs\\py39\\lib\\site-packages\\sklearn\\utils\\validation.py:1074\u001b[0m, in \u001b[0;36mcheck_X_y\u001b[1;34m(X, y, accept_sparse, accept_large_sparse, dtype, order, copy, force_all_finite, ensure_2d, allow_nd, multi_output, ensure_min_samples, ensure_min_features, y_numeric, estimator)\u001b[0m\n\u001b[0;32m   1069\u001b[0m         estimator_name \u001b[38;5;241m=\u001b[39m _check_estimator_name(estimator)\n\u001b[0;32m   1070\u001b[0m     \u001b[38;5;28;01mraise\u001b[39;00m \u001b[38;5;167;01mValueError\u001b[39;00m(\n\u001b[0;32m   1071\u001b[0m         \u001b[38;5;124mf\u001b[39m\u001b[38;5;124m\"\u001b[39m\u001b[38;5;132;01m{\u001b[39;00mestimator_name\u001b[38;5;132;01m}\u001b[39;00m\u001b[38;5;124m requires y to be passed, but the target y is None\u001b[39m\u001b[38;5;124m\"\u001b[39m\n\u001b[0;32m   1072\u001b[0m     )\n\u001b[1;32m-> 1074\u001b[0m X \u001b[38;5;241m=\u001b[39m \u001b[43mcheck_array\u001b[49m\u001b[43m(\u001b[49m\n\u001b[0;32m   1075\u001b[0m \u001b[43m    \u001b[49m\u001b[43mX\u001b[49m\u001b[43m,\u001b[49m\n\u001b[0;32m   1076\u001b[0m \u001b[43m    \u001b[49m\u001b[43maccept_sparse\u001b[49m\u001b[38;5;241;43m=\u001b[39;49m\u001b[43maccept_sparse\u001b[49m\u001b[43m,\u001b[49m\n\u001b[0;32m   1077\u001b[0m \u001b[43m    \u001b[49m\u001b[43maccept_large_sparse\u001b[49m\u001b[38;5;241;43m=\u001b[39;49m\u001b[43maccept_large_sparse\u001b[49m\u001b[43m,\u001b[49m\n\u001b[0;32m   1078\u001b[0m \u001b[43m    \u001b[49m\u001b[43mdtype\u001b[49m\u001b[38;5;241;43m=\u001b[39;49m\u001b[43mdtype\u001b[49m\u001b[43m,\u001b[49m\n\u001b[0;32m   1079\u001b[0m \u001b[43m    \u001b[49m\u001b[43morder\u001b[49m\u001b[38;5;241;43m=\u001b[39;49m\u001b[43morder\u001b[49m\u001b[43m,\u001b[49m\n\u001b[0;32m   1080\u001b[0m \u001b[43m    \u001b[49m\u001b[43mcopy\u001b[49m\u001b[38;5;241;43m=\u001b[39;49m\u001b[43mcopy\u001b[49m\u001b[43m,\u001b[49m\n\u001b[0;32m   1081\u001b[0m \u001b[43m    \u001b[49m\u001b[43mforce_all_finite\u001b[49m\u001b[38;5;241;43m=\u001b[39;49m\u001b[43mforce_all_finite\u001b[49m\u001b[43m,\u001b[49m\n\u001b[0;32m   1082\u001b[0m \u001b[43m    \u001b[49m\u001b[43mensure_2d\u001b[49m\u001b[38;5;241;43m=\u001b[39;49m\u001b[43mensure_2d\u001b[49m\u001b[43m,\u001b[49m\n\u001b[0;32m   1083\u001b[0m \u001b[43m    \u001b[49m\u001b[43mallow_nd\u001b[49m\u001b[38;5;241;43m=\u001b[39;49m\u001b[43mallow_nd\u001b[49m\u001b[43m,\u001b[49m\n\u001b[0;32m   1084\u001b[0m \u001b[43m    \u001b[49m\u001b[43mensure_min_samples\u001b[49m\u001b[38;5;241;43m=\u001b[39;49m\u001b[43mensure_min_samples\u001b[49m\u001b[43m,\u001b[49m\n\u001b[0;32m   1085\u001b[0m \u001b[43m    \u001b[49m\u001b[43mensure_min_features\u001b[49m\u001b[38;5;241;43m=\u001b[39;49m\u001b[43mensure_min_features\u001b[49m\u001b[43m,\u001b[49m\n\u001b[0;32m   1086\u001b[0m \u001b[43m    \u001b[49m\u001b[43mestimator\u001b[49m\u001b[38;5;241;43m=\u001b[39;49m\u001b[43mestimator\u001b[49m\u001b[43m,\u001b[49m\n\u001b[0;32m   1087\u001b[0m \u001b[43m    \u001b[49m\u001b[43minput_name\u001b[49m\u001b[38;5;241;43m=\u001b[39;49m\u001b[38;5;124;43m\"\u001b[39;49m\u001b[38;5;124;43mX\u001b[39;49m\u001b[38;5;124;43m\"\u001b[39;49m\u001b[43m,\u001b[49m\n\u001b[0;32m   1088\u001b[0m \u001b[43m\u001b[49m\u001b[43m)\u001b[49m\n\u001b[0;32m   1090\u001b[0m y \u001b[38;5;241m=\u001b[39m _check_y(y, multi_output\u001b[38;5;241m=\u001b[39mmulti_output, y_numeric\u001b[38;5;241m=\u001b[39my_numeric, estimator\u001b[38;5;241m=\u001b[39mestimator)\n\u001b[0;32m   1092\u001b[0m check_consistent_length(X, y)\n",
      "File \u001b[1;32m~\\Anaconda3\\envs\\py39\\lib\\site-packages\\sklearn\\utils\\validation.py:768\u001b[0m, in \u001b[0;36mcheck_array\u001b[1;34m(array, accept_sparse, accept_large_sparse, dtype, order, copy, force_all_finite, ensure_2d, allow_nd, ensure_min_samples, ensure_min_features, estimator, input_name)\u001b[0m\n\u001b[0;32m    764\u001b[0m     pandas_requires_conversion \u001b[38;5;241m=\u001b[39m \u001b[38;5;28many\u001b[39m(\n\u001b[0;32m    765\u001b[0m         _pandas_dtype_needs_early_conversion(i) \u001b[38;5;28;01mfor\u001b[39;00m i \u001b[38;5;129;01min\u001b[39;00m dtypes_orig\n\u001b[0;32m    766\u001b[0m     )\n\u001b[0;32m    767\u001b[0m     \u001b[38;5;28;01mif\u001b[39;00m \u001b[38;5;28mall\u001b[39m(\u001b[38;5;28misinstance\u001b[39m(dtype_iter, np\u001b[38;5;241m.\u001b[39mdtype) \u001b[38;5;28;01mfor\u001b[39;00m dtype_iter \u001b[38;5;129;01min\u001b[39;00m dtypes_orig):\n\u001b[1;32m--> 768\u001b[0m         dtype_orig \u001b[38;5;241m=\u001b[39m \u001b[43mnp\u001b[49m\u001b[38;5;241;43m.\u001b[39;49m\u001b[43mresult_type\u001b[49m\u001b[43m(\u001b[49m\u001b[38;5;241;43m*\u001b[39;49m\u001b[43mdtypes_orig\u001b[49m\u001b[43m)\u001b[49m\n\u001b[0;32m    770\u001b[0m \u001b[38;5;28;01mif\u001b[39;00m dtype_numeric:\n\u001b[0;32m    771\u001b[0m     \u001b[38;5;28;01mif\u001b[39;00m dtype_orig \u001b[38;5;129;01mis\u001b[39;00m \u001b[38;5;129;01mnot\u001b[39;00m \u001b[38;5;28;01mNone\u001b[39;00m \u001b[38;5;129;01mand\u001b[39;00m dtype_orig\u001b[38;5;241m.\u001b[39mkind \u001b[38;5;241m==\u001b[39m \u001b[38;5;124m\"\u001b[39m\u001b[38;5;124mO\u001b[39m\u001b[38;5;124m\"\u001b[39m:\n\u001b[0;32m    772\u001b[0m         \u001b[38;5;66;03m# if input is object, convert to float.\u001b[39;00m\n",
      "File \u001b[1;32m<__array_function__ internals>:180\u001b[0m, in \u001b[0;36mresult_type\u001b[1;34m(*args, **kwargs)\u001b[0m\n",
      "\u001b[1;31mTypeError\u001b[0m: The DType <class 'numpy.dtype[datetime64]'> could not be promoted by <class 'numpy.dtype[float64]'>. This means that no common DType exists for the given inputs. For example they cannot be stored in a single array unless the dtype is `object`. The full list of DTypes is: (<class 'numpy.dtype[int64]'>, <class 'numpy.dtype[datetime64]'>, <class 'numpy.dtype[int64]'>, <class 'numpy.dtype[float64]'>, <class 'numpy.dtype[float64]'>, <class 'numpy.dtype[float64]'>, <class 'numpy.dtype[bool_]'>, <class 'numpy.dtype[bool_]'>, <class 'numpy.dtype[bool_]'>, <class 'numpy.dtype[bool_]'>, <class 'numpy.dtype[bool_]'>, <class 'numpy.dtype[bool_]'>, <class 'numpy.dtype[bool_]'>, <class 'numpy.dtype[bool_]'>, <class 'numpy.dtype[bool_]'>, <class 'numpy.dtype[int64]'>, <class 'numpy.dtype[uint8]'>, <class 'numpy.dtype[uint8]'>, <class 'numpy.dtype[uint8]'>, <class 'numpy.dtype[uint8]'>, <class 'numpy.dtype[uint8]'>, <class 'numpy.dtype[uint8]'>, <class 'numpy.dtype[uint8]'>, <class 'numpy.dtype[uint8]'>, <class 'numpy.dtype[uint8]'>, <class 'numpy.dtype[uint8]'>, <class 'numpy.dtype[uint8]'>, <class 'numpy.dtype[uint8]'>, <class 'numpy.dtype[uint8]'>, <class 'numpy.dtype[uint8]'>, <class 'numpy.dtype[uint8]'>, <class 'numpy.dtype[uint8]'>, <class 'numpy.dtype[uint8]'>, <class 'numpy.dtype[uint8]'>, <class 'numpy.dtype[uint8]'>, <class 'numpy.dtype[uint8]'>, <class 'numpy.dtype[uint8]'>, <class 'numpy.dtype[uint8]'>, <class 'numpy.dtype[uint8]'>, <class 'numpy.dtype[uint8]'>, <class 'numpy.dtype[uint8]'>, <class 'numpy.dtype[uint8]'>, <class 'numpy.dtype[uint8]'>, <class 'numpy.dtype[uint8]'>, <class 'numpy.dtype[uint8]'>, <class 'numpy.dtype[uint8]'>, <class 'numpy.dtype[uint8]'>, <class 'numpy.dtype[uint8]'>, <class 'numpy.dtype[uint8]'>, <class 'numpy.dtype[uint8]'>, <class 'numpy.dtype[uint8]'>, <class 'numpy.dtype[uint8]'>, <class 'numpy.dtype[uint8]'>, <class 'numpy.dtype[uint8]'>, <class 'numpy.dtype[uint8]'>, <class 'numpy.dtype[uint8]'>, <class 'numpy.dtype[uint8]'>, <class 'numpy.dtype[uint8]'>, <class 'numpy.dtype[uint8]'>, <class 'numpy.dtype[uint8]'>, <class 'numpy.dtype[uint8]'>, <class 'numpy.dtype[uint8]'>, <class 'numpy.dtype[uint8]'>, <class 'numpy.dtype[uint8]'>, <class 'numpy.dtype[uint8]'>, <class 'numpy.dtype[uint8]'>, <class 'numpy.dtype[uint8]'>, <class 'numpy.dtype[uint8]'>, <class 'numpy.dtype[uint8]'>, <class 'numpy.dtype[uint8]'>, <class 'numpy.dtype[uint8]'>, <class 'numpy.dtype[uint8]'>, <class 'numpy.dtype[uint8]'>, <class 'numpy.dtype[uint8]'>, <class 'numpy.dtype[uint8]'>, <class 'numpy.dtype[uint8]'>, <class 'numpy.dtype[uint8]'>, <class 'numpy.dtype[uint8]'>, <class 'numpy.dtype[uint8]'>, <class 'numpy.dtype[uint8]'>, <class 'numpy.dtype[uint8]'>, <class 'numpy.dtype[uint8]'>, <class 'numpy.dtype[uint8]'>, <class 'numpy.dtype[uint8]'>, <class 'numpy.dtype[uint8]'>, <class 'numpy.dtype[uint8]'>, <class 'numpy.dtype[uint8]'>, <class 'numpy.dtype[uint8]'>, <class 'numpy.dtype[uint8]'>, <class 'numpy.dtype[uint8]'>, <class 'numpy.dtype[uint8]'>, <class 'numpy.dtype[uint8]'>, <class 'numpy.dtype[uint8]'>, <class 'numpy.dtype[uint8]'>, <class 'numpy.dtype[uint8]'>, <class 'numpy.dtype[uint8]'>, <class 'numpy.dtype[uint8]'>, <class 'numpy.dtype[uint8]'>, <class 'numpy.dtype[uint8]'>, <class 'numpy.dtype[uint8]'>, <class 'numpy.dtype[uint8]'>, <class 'numpy.dtype[uint8]'>)"
     ]
    }
   ],
   "source": [
    "#df_dummies_X = df.drop(columns=['STAT_CAUSE_DESCR'])\n",
    "#df_dummies_X = pd.get_dummies(df_dummies_X)\n",
    "#X = df_dummies_X\n",
    "#Y = df['STAT_CAUSE_DESCR']\n",
    "\n",
    "#X_train, X_test, Y_train, Y_test = train_test_split(X,Y, test_size=0.4, random_state=1, stratify=Y)\n",
    "\n",
    "\n",
    "classifier = RandomForestClassifier(n_estimators=500, max_depth=50, min_samples_leaf=50, random_state=123)\n",
    "\n",
    "classifier = classifier.fit(X_train, Y_train)\n",
    "training_accuracy = accuracy_score(Y_train, classifier.predict(X_train))\n",
    "pred = classifier.predict(X_test)\n",
    "test_accuracy = accuracy_score(Y_test, pred)\n",
    "print(\"Training accuracy:\",training_accuracy)\n",
    "print(\"Testing accuracy:\",test_accuracy)"
   ]
  },
  {
   "cell_type": "code",
   "execution_count": null,
   "metadata": {},
   "outputs": [],
   "source": [
    "%matplotlib inline\n",
    "import seaborn as sb\n",
    "import matplotlib.pyplot as plt\n",
    "import altair as alt\n",
    "label_names = sorted(df['STAT_CAUSE_DESCR'].unique())\n",
    "\n",
    "matrix = confusion_matrix(Y_test, pred)\n",
    "plt.figure(figsize=(8,8))\n",
    "sb.heatmap(matrix,square=True,annot=True, fmt='d', cbar=False, cmap='Blues',\n",
    "          xticklabels=label_names,yticklabels=label_names)\n",
    "plt.ylabel('True label')\n",
    "plt.xlabel('Predicted label')\n",
    "plt.tight_layout()\n",
    "plt.savefig(\"randomforestconfusionmatrix.png\", dpi=170)"
   ]
  },
  {
   "cell_type": "code",
   "execution_count": null,
   "metadata": {},
   "outputs": [],
   "source": []
  }
 ],
 "metadata": {
  "kernelspec": {
   "display_name": "Python 3 (ipykernel)",
   "language": "python",
   "name": "python3"
  },
  "language_info": {
   "codemirror_mode": {
    "name": "ipython",
    "version": 3
   },
   "file_extension": ".py",
   "mimetype": "text/x-python",
   "name": "python",
   "nbconvert_exporter": "python",
   "pygments_lexer": "ipython3",
   "version": "3.9.12"
  },
  "vscode": {
   "interpreter": {
    "hash": "df6a2a6d0a1ae49166107b0c1e3b39e060bb8c0d4d18204cd0b91feeca5995f7"
   }
  }
 },
 "nbformat": 4,
 "nbformat_minor": 4
}
