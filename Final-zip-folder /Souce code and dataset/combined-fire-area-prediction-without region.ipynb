{
 "cells": [
  {
   "cell_type": "code",
   "execution_count": 21,
   "metadata": {},
   "outputs": [],
   "source": [
    "import matplotlib.pyplot as plt\n",
    "import numpy as np\n",
    "import pandas as pd\n",
    "import plotly.express as px\n",
    "import seaborn as sns\n",
    "import tensorflow as tf\n",
    "import tensorflow.keras as keras\n",
    "from keras.callbacks import ModelCheckpoint\n",
    "from sklearn import metrics, preprocessing\n",
    "from sklearn.decomposition import PCA\n",
    "from sklearn.ensemble import GradientBoostingRegressor, RandomForestRegressor\n",
    "from sklearn.inspection import plot_partial_dependence\n",
    "from sklearn.model_selection import GridSearchCV, train_test_split\n",
    "from sklearn.preprocessing import MinMaxScaler, StandardScaler\n",
    "from sklearn.tree import DecisionTreeRegressor\n",
    "from tensorflow.keras.layers import Dense\n",
    "from tensorflow.keras.models import Sequential"
   ]
  },
  {
   "cell_type": "markdown",
   "metadata": {},
   "source": [
    "Data Set Analysis and getting to know the data better by generating the graphs  by cause of fire and which region is getting effected by the fire  mostly."
   ]
  },
  {
   "cell_type": "code",
   "execution_count": 22,
   "metadata": {},
   "outputs": [
    {
     "data": {
      "text/html": [
       "<div>\n",
       "<style scoped>\n",
       "    .dataframe tbody tr th:only-of-type {\n",
       "        vertical-align: middle;\n",
       "    }\n",
       "\n",
       "    .dataframe tbody tr th {\n",
       "        vertical-align: top;\n",
       "    }\n",
       "\n",
       "    .dataframe thead th {\n",
       "        text-align: right;\n",
       "    }\n",
       "</style>\n",
       "<table border=\"1\" class=\"dataframe\">\n",
       "  <thead>\n",
       "    <tr style=\"text-align: right;\">\n",
       "      <th></th>\n",
       "      <th>Unnamed: 0.1</th>\n",
       "      <th>Unnamed: 0</th>\n",
       "      <th>fire_name</th>\n",
       "      <th>fire_size</th>\n",
       "      <th>fire_size_class</th>\n",
       "      <th>stat_cause_descr</th>\n",
       "      <th>latitude</th>\n",
       "      <th>longitude</th>\n",
       "      <th>state</th>\n",
       "      <th>disc_clean_date</th>\n",
       "      <th>...</th>\n",
       "      <th>Wind_cont</th>\n",
       "      <th>Hum_pre_30</th>\n",
       "      <th>Hum_pre_15</th>\n",
       "      <th>Hum_pre_7</th>\n",
       "      <th>Hum_cont</th>\n",
       "      <th>Prec_pre_30</th>\n",
       "      <th>Prec_pre_15</th>\n",
       "      <th>Prec_pre_7</th>\n",
       "      <th>Prec_cont</th>\n",
       "      <th>remoteness</th>\n",
       "    </tr>\n",
       "  </thead>\n",
       "  <tbody>\n",
       "    <tr>\n",
       "      <th>0</th>\n",
       "      <td>0</td>\n",
       "      <td>0</td>\n",
       "      <td>NaN</td>\n",
       "      <td>10.0</td>\n",
       "      <td>C</td>\n",
       "      <td>Missing/Undefined</td>\n",
       "      <td>18.105072</td>\n",
       "      <td>-66.753044</td>\n",
       "      <td>PR</td>\n",
       "      <td>2/11/2007</td>\n",
       "      <td>...</td>\n",
       "      <td>3.250413</td>\n",
       "      <td>78.216590</td>\n",
       "      <td>76.793750</td>\n",
       "      <td>76.381579</td>\n",
       "      <td>78.724370</td>\n",
       "      <td>0.0</td>\n",
       "      <td>0.0</td>\n",
       "      <td>0.0</td>\n",
       "      <td>0.0</td>\n",
       "      <td>0.017923</td>\n",
       "    </tr>\n",
       "    <tr>\n",
       "      <th>1</th>\n",
       "      <td>1</td>\n",
       "      <td>1</td>\n",
       "      <td>NaN</td>\n",
       "      <td>3.0</td>\n",
       "      <td>B</td>\n",
       "      <td>Arson</td>\n",
       "      <td>35.038330</td>\n",
       "      <td>-87.610000</td>\n",
       "      <td>TN</td>\n",
       "      <td>12/11/2006</td>\n",
       "      <td>...</td>\n",
       "      <td>2.122320</td>\n",
       "      <td>70.840000</td>\n",
       "      <td>65.858911</td>\n",
       "      <td>55.505882</td>\n",
       "      <td>81.682678</td>\n",
       "      <td>59.8</td>\n",
       "      <td>8.4</td>\n",
       "      <td>0.0</td>\n",
       "      <td>86.8</td>\n",
       "      <td>0.184355</td>\n",
       "    </tr>\n",
       "    <tr>\n",
       "      <th>2</th>\n",
       "      <td>2</td>\n",
       "      <td>2</td>\n",
       "      <td>NaN</td>\n",
       "      <td>60.0</td>\n",
       "      <td>C</td>\n",
       "      <td>Arson</td>\n",
       "      <td>34.947800</td>\n",
       "      <td>-88.722500</td>\n",
       "      <td>MS</td>\n",
       "      <td>2/29/2004</td>\n",
       "      <td>...</td>\n",
       "      <td>3.369050</td>\n",
       "      <td>75.531629</td>\n",
       "      <td>75.868613</td>\n",
       "      <td>76.812834</td>\n",
       "      <td>65.063800</td>\n",
       "      <td>168.8</td>\n",
       "      <td>42.2</td>\n",
       "      <td>18.1</td>\n",
       "      <td>124.5</td>\n",
       "      <td>0.194544</td>\n",
       "    </tr>\n",
       "    <tr>\n",
       "      <th>3</th>\n",
       "      <td>3</td>\n",
       "      <td>3</td>\n",
       "      <td>WNA  1</td>\n",
       "      <td>1.0</td>\n",
       "      <td>B</td>\n",
       "      <td>Debris Burning</td>\n",
       "      <td>39.641400</td>\n",
       "      <td>-119.308300</td>\n",
       "      <td>NV</td>\n",
       "      <td>6/6/2005</td>\n",
       "      <td>...</td>\n",
       "      <td>0.000000</td>\n",
       "      <td>44.778429</td>\n",
       "      <td>37.140811</td>\n",
       "      <td>35.353846</td>\n",
       "      <td>0.000000</td>\n",
       "      <td>10.4</td>\n",
       "      <td>7.2</td>\n",
       "      <td>0.0</td>\n",
       "      <td>0.0</td>\n",
       "      <td>0.487447</td>\n",
       "    </tr>\n",
       "    <tr>\n",
       "      <th>4</th>\n",
       "      <td>4</td>\n",
       "      <td>4</td>\n",
       "      <td>NaN</td>\n",
       "      <td>2.0</td>\n",
       "      <td>B</td>\n",
       "      <td>Miscellaneous</td>\n",
       "      <td>30.700600</td>\n",
       "      <td>-90.591400</td>\n",
       "      <td>LA</td>\n",
       "      <td>9/22/1999</td>\n",
       "      <td>...</td>\n",
       "      <td>-1.000000</td>\n",
       "      <td>-1.000000</td>\n",
       "      <td>-1.000000</td>\n",
       "      <td>-1.000000</td>\n",
       "      <td>-1.000000</td>\n",
       "      <td>-1.0</td>\n",
       "      <td>-1.0</td>\n",
       "      <td>-1.0</td>\n",
       "      <td>-1.0</td>\n",
       "      <td>0.214633</td>\n",
       "    </tr>\n",
       "  </tbody>\n",
       "</table>\n",
       "<p>5 rows × 43 columns</p>\n",
       "</div>"
      ],
      "text/plain": [
       "   Unnamed: 0.1  Unnamed: 0 fire_name  fire_size fire_size_class  \\\n",
       "0             0           0       NaN       10.0               C   \n",
       "1             1           1       NaN        3.0               B   \n",
       "2             2           2       NaN       60.0               C   \n",
       "3             3           3    WNA  1        1.0               B   \n",
       "4             4           4       NaN        2.0               B   \n",
       "\n",
       "    stat_cause_descr   latitude   longitude state disc_clean_date  ...  \\\n",
       "0  Missing/Undefined  18.105072  -66.753044    PR       2/11/2007  ...   \n",
       "1              Arson  35.038330  -87.610000    TN      12/11/2006  ...   \n",
       "2              Arson  34.947800  -88.722500    MS       2/29/2004  ...   \n",
       "3     Debris Burning  39.641400 -119.308300    NV        6/6/2005  ...   \n",
       "4      Miscellaneous  30.700600  -90.591400    LA       9/22/1999  ...   \n",
       "\n",
       "  Wind_cont Hum_pre_30 Hum_pre_15  Hum_pre_7   Hum_cont Prec_pre_30  \\\n",
       "0  3.250413  78.216590  76.793750  76.381579  78.724370         0.0   \n",
       "1  2.122320  70.840000  65.858911  55.505882  81.682678        59.8   \n",
       "2  3.369050  75.531629  75.868613  76.812834  65.063800       168.8   \n",
       "3  0.000000  44.778429  37.140811  35.353846   0.000000        10.4   \n",
       "4 -1.000000  -1.000000  -1.000000  -1.000000  -1.000000        -1.0   \n",
       "\n",
       "   Prec_pre_15 Prec_pre_7 Prec_cont  remoteness  \n",
       "0          0.0        0.0       0.0    0.017923  \n",
       "1          8.4        0.0      86.8    0.184355  \n",
       "2         42.2       18.1     124.5    0.194544  \n",
       "3          7.2        0.0       0.0    0.487447  \n",
       "4         -1.0       -1.0      -1.0    0.214633  \n",
       "\n",
       "[5 rows x 43 columns]"
      ]
     },
     "execution_count": 22,
     "metadata": {},
     "output_type": "execute_result"
    }
   ],
   "source": [
    "df = pd.read_csv('Wildfire.csv')\n",
    "df.head()"
   ]
  },
  {
   "cell_type": "code",
   "execution_count": 23,
   "metadata": {},
   "outputs": [
    {
     "name": "stdout",
     "output_type": "stream",
     "text": [
      "    stat_cause_descr   latitude   longitude state disc_clean_date  fire_size\n",
      "0  Missing/Undefined  18.105072  -66.753044    PR       2/11/2007       10.0\n",
      "1              Arson  35.038330  -87.610000    TN      12/11/2006        3.0\n",
      "2              Arson  34.947800  -88.722500    MS       2/29/2004       60.0\n",
      "3     Debris Burning  39.641400 -119.308300    NV        6/6/2005        1.0\n",
      "4      Miscellaneous  30.700600  -90.591400    LA       9/22/1999        2.0\n"
     ]
    },
    {
     "data": {
      "image/png": "[encoded data removed]",
      "text/plain": [
       "<Figure size 640x480 with 1 Axes>"
      ]
     },
     "metadata": {},
     "output_type": "display_data"
    }
   ],
   "source": [
    "subset_df = df[[\"stat_cause_descr\",\"latitude\",\"longitude\",\"state\",\"disc_clean_date\",\"fire_size\" ]]\n",
    "print(subset_df.head())\n",
    "subset_df['stat_cause_descr'].value_counts().plot(kind='barh',color='coral')\n",
    "plt.show()"
   ]
  },
  {
   "cell_type": "code",
   "execution_count": 24,
   "metadata": {},
   "outputs": [
    {
     "data": {
      "image/png": "[encoded data removed]",
      "text/plain": [
       "<Figure size 640x480 with 1 Axes>"
      ]
     },
     "metadata": {},
     "output_type": "display_data"
    }
   ],
   "source": [
    "subset_df['state'].value_counts().head(n=10).plot(kind='barh',color='coral')\n",
    "plt.show()"
   ]
  },
  {
   "cell_type": "code",
   "execution_count": 25,
   "metadata": {},
   "outputs": [],
   "source": [
    "df_CA = subset_df[subset_df['state']=='CA']\n",
    "df_GA = subset_df[subset_df['state']=='GA']\n",
    "df_TX = subset_df[subset_df['state']=='TX']"
   ]
  },
  {
   "cell_type": "code",
   "execution_count": 26,
   "metadata": {},
   "outputs": [
    {
     "data": {
      "image/png": "[encoded data removed]",
      "text/plain": [
       "<Figure size 640x480 with 1 Axes>"
      ]
     },
     "metadata": {},
     "output_type": "display_data"
    }
   ],
   "source": [
    "df_GA['stat_cause_descr'].value_counts().plot(kind='barh',color='coral',title='causes of fires for GA')\n",
    "plt.show()"
   ]
  },
  {
   "cell_type": "code",
   "execution_count": 27,
   "metadata": {},
   "outputs": [
    {
     "data": {
      "image/png": "[encoded data removed]",
      "text/plain": [
       "<Figure size 640x480 with 1 Axes>"
      ]
     },
     "metadata": {},
     "output_type": "display_data"
    }
   ],
   "source": [
    "df_TX['stat_cause_descr'].value_counts().plot(kind='barh',color='coral',title='causes of fires for TX')\n",
    "plt.show()"
   ]
  },
  {
   "cell_type": "code",
   "execution_count": 28,
   "metadata": {},
   "outputs": [
    {
     "data": {
      "image/png": "[encoded data removed]",
      "text/plain": [
       "<Figure size 640x480 with 1 Axes>"
      ]
     },
     "metadata": {},
     "output_type": "display_data"
    }
   ],
   "source": [
    "subset_df.plot(kind='scatter',x='longitude',y='latitude',color='coral',alpha=0.3)\n",
    "plt.show()"
   ]
  },
  {
   "cell_type": "markdown",
   "metadata": {},
   "source": [
    "### The above are the key insights of how fires are in the US states and what is the main cause of the fires based on the state."
   ]
  },
  {
   "cell_type": "markdown",
   "metadata": {},
   "source": [
    "Below are the Pre-processing steps for the preprocessing the dataset."
   ]
  },
  {
   "cell_type": "markdown",
   "metadata": {},
   "source": [
    "## Data Pre-processing and EDA(Exploratory data analysis)"
   ]
  },
  {
   "cell_type": "code",
   "execution_count": 29,
   "metadata": {},
   "outputs": [],
   "source": [
    "pd.set_option('display.max_columns', None)"
   ]
  },
  {
   "cell_type": "markdown",
   "metadata": {},
   "source": [
    "#### Data Cleaning and filtering data which has firesize <5000 as number of small fires are high."
   ]
  },
  {
   "cell_type": "code",
   "execution_count": 30,
   "metadata": {},
   "outputs": [
    {
     "data": {
      "text/plain": [
       "Index(['fire_name', 'fire_size', 'fire_size_class', 'stat_cause_descr',\n",
       "       'latitude', 'longitude', 'state', 'disc_clean_date', 'discovery_month',\n",
       "       'disc_date_pre', 'disc_pre_year', 'disc_pre_month', 'wstation_usaf',\n",
       "       'dstation_m', 'wstation_wban', 'wstation_byear', 'wstation_eyear',\n",
       "       'Vegetation', 'fire_mag', 'weather_file', 'Temp_pre_30', 'Temp_pre_15',\n",
       "       'Temp_pre_7', 'Temp_cont', 'Wind_pre_30', 'Wind_pre_15', 'Wind_pre_7',\n",
       "       'Wind_cont', 'Hum_pre_30', 'Hum_pre_15', 'Hum_pre_7', 'Hum_cont',\n",
       "       'Prec_pre_30', 'Prec_pre_15', 'Prec_pre_7', 'Prec_cont', 'remoteness'],\n",
       "      dtype='object')"
      ]
     },
     "execution_count": 30,
     "metadata": {},
     "output_type": "execute_result"
    }
   ],
   "source": [
    "# Reading the combined CSV files\n",
    "df = df.drop(columns=['Unnamed: 0', 'Unnamed: 0.1','disc_date_final','cont_date_final','cont_clean_date','putout_time'])\n",
    "df['disc_clean_date'] = pd.to_datetime(df['disc_clean_date'], format='%m/%d/%Y')\n",
    "\n",
    "#Get rid of outliers - fires of size larger than 5000 acres, and there are large number of small fires and other very less number are having the high \n",
    "# area of fires, because of which the deviation is very high\n",
    "df = df.loc[df['fire_size'] < 5000]\n",
    "df.columns"
   ]
  },
  {
   "cell_type": "code",
   "execution_count": 31,
   "metadata": {},
   "outputs": [],
   "source": [
    "#As these fieds are categorial, trying to change them into boolean using the one-hot encoding.\n",
    "# So that it will be easy to train.\n",
    "\n",
    "df['Vegetation'] = df['Vegetation'].astype('category')\n",
    "df['Cause'] = df['stat_cause_descr'].astype('category')\n",
    "\n",
    "df = pd.get_dummies(df,prefix=['Vegetation'], columns = ['Vegetation'], drop_first=True)\n",
    "df = pd.get_dummies(df,prefix=['Cause'], columns = ['stat_cause_descr'], drop_first=True)\n"
   ]
  },
  {
   "cell_type": "code",
   "execution_count": 32,
   "metadata": {},
   "outputs": [
    {
     "data": {
      "image/png": "[encoded data removed]",
      "text/plain": [
       "<Figure size 640x480 with 2 Axes>"
      ]
     },
     "metadata": {},
     "output_type": "display_data"
    }
   ],
   "source": [
    "df_numerics_only = df.select_dtypes(include=np.number)\n",
    "\n",
    "corr = df_numerics_only.corr()\n",
    "ax = sns.heatmap(\n",
    "    corr, \n",
    "    vmin=-1, vmax=1, center=0,\n",
    "    cmap=sns.diverging_palette(220, 20, n=200),\n",
    "    square=True\n",
    ")\n",
    "ax.set_xticklabels(\n",
    "    ax.get_xticklabels(),\n",
    "    rotation=45,\n",
    "    horizontalalignment='right'\n",
    ");\n",
    "sns.set(rc={'figure.figsize':(15,15)})"
   ]
  },
  {
   "cell_type": "code",
   "execution_count": 33,
   "metadata": {},
   "outputs": [
    {
     "name": "stdout",
     "output_type": "stream",
     "text": [
      "51395\n",
      "37915\n"
     ]
    }
   ],
   "source": [
    "### Dealing with missing data\n",
    "print(len(df))\n",
    "\n",
    "# drop columns where weather_file is missing in the data, as it wont have the weather situation at that time, so its where ever data is \n",
    "#missing we can remove those rows as it wont be useful\n",
    "index = df[df['weather_file'] == 'File Not Found'].index\n",
    "df.drop(index, inplace = True)\n",
    "print(len(df))"
   ]
  },
  {
   "cell_type": "code",
   "execution_count": 34,
   "metadata": {},
   "outputs": [
    {
     "name": "stdout",
     "output_type": "stream",
     "text": [
      "37915\n",
      "35683\n"
     ]
    }
   ],
   "source": [
    "# Weather data has a lot of 0 and values some of which may be missing values,\n",
    "# Mark '0' values in weather columns as Na (to see how many there are) \n",
    "# As 0 wont add any value to the data, we are converting to NA and then removing them which will make data set\n",
    "subset0 = ['Temp_pre_30','Temp_pre_15','Temp_pre_7','Temp_cont','Wind_pre_30','Wind_pre_15','Wind_pre_7','Wind_cont','Hum_pre_30', 'Hum_pre_15','Hum_pre_7','Hum_cont']\n",
    "df[subset0] = df[subset0].replace({0:np.nan, '0':np.nan})\n",
    "print(len(df))\n",
    "\n",
    "# Mark '-1' as missing\n",
    "subset_neg1 = ['Temp_pre_30','Temp_pre_15','Temp_pre_7','Temp_cont','Wind_pre_30','Wind_pre_15','Wind_pre_7','Wind_cont','Hum_pre_30', 'Hum_pre_15','Hum_pre_7','Hum_cont','Prec_pre_30','Prec_pre_15','Prec_pre_7','Prec_cont']\n",
    "df[subset_neg1] = df[subset_neg1].replace({-1:np.nan})\n",
    "\n",
    "# Drop observations where all weather columns are 0\n",
    "df = df.dropna(how='all',\n",
    "                    subset=['Temp_pre_30','Temp_pre_15','Temp_pre_7','Temp_cont','Wind_pre_30','Wind_pre_15','Wind_pre_7','Wind_cont',])\n",
    "print(len(df))\n",
    "# This leaves us with 38,689 observations  +/- 3,000  to work with (originally we had 50,000)"
   ]
  },
  {
   "cell_type": "code",
   "execution_count": 35,
   "metadata": {},
   "outputs": [],
   "source": [
    "# fill the 'pre' columns temp wind and humidity with mean values\n",
    "subset_fill_mean = ['Temp_pre_30','Temp_pre_15','Temp_pre_7', 'Wind_pre_30','Wind_pre_15','Wind_pre_7', 'Hum_pre_30', 'Hum_pre_15','Hum_pre_7']\n",
    "df[subset_fill_mean] = df[subset_fill_mean].fillna(df[subset_fill_mean].mean())\n",
    "\n",
    "# Fill NAs in the date of fire containment based on mean values from previous days\n",
    "for col in ['Temp','Wind','Hum']:\n",
    "    df[f'{col}_cont'] = df.apply(\n",
    "        lambda row: (row[f'{col}_pre_7']+row[f'{col}_pre_15']+row[f'{col}_pre_30'])/3 if np.isnan(row[f'{col}_cont']) else row[f'{col}_cont'],\n",
    "        axis=1)\n",
    "\n",
    "        "
   ]
  },
  {
   "cell_type": "markdown",
   "metadata": {},
   "source": [
    "## Separation of Experiments into 4 types - for better understanding of the effects on dataset\n"
   ]
  },
  {
   "cell_type": "markdown",
   "metadata": {},
   "source": [
    "### Experiment 1 - which will select all the available  features from the dataset\n",
    "\n"
   ]
  },
  {
   "cell_type": "code",
   "execution_count": 36,
   "metadata": {},
   "outputs": [],
   "source": [
    "# Experiment 1 - which will select all teh available  features from the dataset\n",
    "#Features included - variables related to Vegetation,Temperature, Humidity, Wind, Precipitation, cause of  fire, longitude and latitude\n",
    "# we have 34 variables  for x-variables  to which we are gonna target one y-variable which is fire_size\n",
    "# selecting features and target variables\n",
    "X1 = df[['Vegetation_4','remoteness', 'Vegetation_9','Vegetation_12','Vegetation_14','Vegetation_15','Vegetation_16','latitude','Temp_pre_30','Temp_pre_15','Temp_pre_7','Temp_cont','Wind_pre_30','Wind_pre_15','Wind_pre_7','Wind_cont','Hum_pre_30', 'Hum_pre_15','Hum_pre_7','Hum_cont','Prec_pre_30','Prec_pre_15','Prec_pre_7','Prec_cont','Cause_Debris Burning','Cause_Equipment Use','Cause_Fireworks','Cause_Lightning','Cause_Miscellaneous','Cause_Missing/Undefined','Cause_Powerline','Cause_Railroad','Cause_Smoking','Cause_Structure', 'longitude']]\n",
    "# X1 = df[['Vegetation_4','Vegetation_9','Vegetation_12','Vegetation_14','Vegetation_15','Vegetation_16','latitude','Temp_pre_30','Temp_pre_15','Temp_pre_7','Temp_cont','Wind_pre_30','Wind_pre_15','Wind_pre_7','Wind_cont','Hum_pre_30', 'Hum_pre_15','Hum_pre_7','Hum_cont','Prec_pre_30','Prec_pre_15','Prec_pre_7','Prec_cont','Cause_Debris Burning','Cause_Equipment Use','Cause_Fireworks','Cause_Lightning','Cause_Miscellaneous','Cause_Missing/Undefined','Cause_Powerline','Cause_Railroad','Cause_Smoking','Cause_Structure', 'longitude']]\n",
    "\n",
    "y = df['fire_size']\n",
    "\n",
    "#train test split\n",
    "X1_train, X1_test, y_train, y_test = train_test_split(X1, y, test_size=0.2, random_state=42)\n",
    "df1 = [X1_train, X1_test, y_train, y_test]\n",
    "\n"
   ]
  },
  {
   "cell_type": "markdown",
   "metadata": {},
   "source": [
    "### Experiment  type 2 :  Include only long, lat, vegetation, cause and pre- weather data, without cont"
   ]
  },
  {
   "cell_type": "code",
   "execution_count": 37,
   "metadata": {},
   "outputs": [],
   "source": [
    "# which is the data set where I removed the variables  on which the fire is  containining on the day\n",
    "# removed 4 variables\n",
    "# selecting features and target variables\n",
    "X2 = df[['Vegetation_4','Vegetation_9','Vegetation_12','Vegetation_14','Vegetation_15','Vegetation_16','latitude','Temp_pre_30','Temp_pre_15','Temp_pre_7','Wind_pre_30','Wind_pre_15','Wind_pre_7','Hum_pre_30', 'Hum_pre_15','Hum_pre_7','Prec_pre_30','Prec_pre_15','Prec_pre_7','Cause_Debris Burning','Cause_Equipment Use','Cause_Fireworks','Cause_Lightning','Cause_Miscellaneous','Cause_Missing/Undefined','Cause_Powerline','Cause_Railroad','Cause_Smoking','Cause_Structure', 'longitude']]\n",
    "y = df['fire_size']\n",
    "\n",
    "#train test split\n",
    "X2_train, X2_test, y_train, y_test = train_test_split(X2, y, test_size=0.2, random_state=42)\n",
    "df2 = [X2_train, X2_test, y_train, y_test]"
   ]
  },
  {
   "cell_type": "markdown",
   "metadata": {},
   "source": [
    "### Experiment 3 - Including only lat, long and weather pre- data"
   ]
  },
  {
   "cell_type": "code",
   "execution_count": 38,
   "metadata": {},
   "outputs": [],
   "source": [
    "#When I have done the feature importance, I got to know that the cause and vegetation is not that important, so here we removed the 2 \n",
    "#  selecting features and target variables\n",
    "X3 = df[['latitude','longitude','Temp_pre_30','Temp_pre_15','Temp_pre_7','Wind_pre_30','Wind_pre_15','Wind_pre_7','Hum_pre_30', 'Hum_pre_15','Hum_pre_7','Prec_pre_30','Prec_pre_15','Prec_pre_7']]\n",
    "y = df['fire_size']\n",
    "\n",
    "#train test split\n",
    "X3_train, X3_test, y_train, y_test = train_test_split(X3, y, test_size=0.2, random_state=42)\n",
    "df3 = [X3_train, X3_test, y_train, y_test]"
   ]
  },
  {
   "cell_type": "markdown",
   "metadata": {},
   "source": [
    "### Experiment 4 :-  with experiment 1 data with normalization\n"
   ]
  },
  {
   "cell_type": "code",
   "execution_count": 39,
   "metadata": {},
   "outputs": [],
   "source": [
    "# have done the minMax normalization for the experiment 1 data frame.\n",
    "\n",
    "df_4 = df[['Vegetation_4','remoteness','Vegetation_9','Vegetation_12','Vegetation_14','Vegetation_15','Vegetation_16','latitude','Temp_pre_30','Temp_pre_15','Temp_pre_7','Temp_cont','Wind_pre_30','Wind_pre_15','Wind_pre_7','Wind_cont','Hum_pre_30', 'Hum_pre_15','Hum_pre_7','Hum_cont','Prec_pre_30','Prec_pre_15','Prec_pre_7','Prec_cont','Cause_Debris Burning','Cause_Equipment Use','Cause_Fireworks','Cause_Lightning','Cause_Miscellaneous','Cause_Missing/Undefined','Cause_Powerline','Cause_Railroad','Cause_Smoking','Cause_Structure', 'longitude']]\n",
    "names = df_4.columns\n",
    "\n",
    "# normalizing data\n",
    "df_4 = preprocessing.normalize(df_4)\n",
    "scaled_df = pd.DataFrame(df_4, columns=names)\n",
    "\n",
    "#train test split\n",
    "X4_train, X4_test, y_train, y_test = train_test_split(scaled_df, y, test_size=0.2, random_state=42)\n",
    "df4 = [X4_train, X4_test, y_train, y_test]"
   ]
  },
  {
   "cell_type": "markdown",
   "metadata": {},
   "source": [
    "# Applying different Models: \n",
    "### The above experiments with different models like  decision tree,gradient bosting, random  forest\n"
   ]
  },
  {
   "cell_type": "markdown",
   "metadata": {},
   "source": [
    "#### Decision Tree - Experiment 1\n"
   ]
  },
  {
   "cell_type": "code",
   "execution_count": 40,
   "metadata": {},
   "outputs": [
    {
     "name": "stdout",
     "output_type": "stream",
     "text": [
      "Mean Absolute Error: 94.29199963430013\n",
      "R Squared: 0.7398227084553771\n"
     ]
    }
   ],
   "source": [
    "dectr = DecisionTreeRegressor(random_state=0)\n",
    "dectr.fit(df1[0], df1[2])\n",
    "\n",
    "predictions = dectr.predict(df1[1])\n",
    "print('Mean Absolute Error:', metrics.mean_absolute_error(df1[3], predictions))\n",
    "print('R Squared:', metrics.r2_score(df1[3], predictions))"
   ]
  },
  {
   "cell_type": "markdown",
   "metadata": {},
   "source": [
    "\n",
    "#### Gradient Boosting - Experiment 1\n",
    "\n"
   ]
  },
  {
   "cell_type": "code",
   "execution_count": 41,
   "metadata": {},
   "outputs": [
    {
     "name": "stdout",
     "output_type": "stream",
     "text": [
      "Mean Absolute Error: 97.54234398303657\n",
      "R Squared: 0.8153076323200559\n"
     ]
    }
   ],
   "source": [
    "gr_boost = GradientBoostingRegressor()\n",
    "gr_boost.fit(df1[0], df1[2])\n",
    "\n",
    "predictions = gr_boost.predict(df1[1])\n",
    "print('Mean Absolute Error:', metrics.mean_absolute_error(df1[3], predictions))\n",
    "print('R Squared:', metrics.r2_score(df1[3], predictions))\n"
   ]
  },
  {
   "cell_type": "markdown",
   "metadata": {},
   "source": [
    "#### Random Forest - Experiment 1"
   ]
  },
  {
   "cell_type": "code",
   "execution_count": 42,
   "metadata": {},
   "outputs": [
    {
     "name": "stdout",
     "output_type": "stream",
     "text": [
      "Mean Absolute Error: 86.28031613270346\n",
      "R Squared: 0.8568642285773174\n"
     ]
    }
   ],
   "source": [
    "rf = RandomForestRegressor()\n",
    "rf.fit(df1[0], df1[2])\n",
    "\n",
    "predictions = rf.predict(df1[1])\n",
    "print('Mean Absolute Error:', metrics.mean_absolute_error(df1[3], predictions))\n",
    "print('R Squared:', metrics.r2_score(df1[3], predictions))\n"
   ]
  },
  {
   "cell_type": "markdown",
   "metadata": {},
   "source": [
    "## Modelling all the experirments by printing the results at one place\n"
   ]
  },
  {
   "cell_type": "code",
   "execution_count": 43,
   "metadata": {},
   "outputs": [
    {
     "name": "stdout",
     "output_type": "stream",
     "text": [
      "DecisionTreeRegressor(); Experiment 1; Mean Absolute Error: 93.34386455933866\n",
      "DecisionTreeRegressor(); Experiment 1; R Squared: 0.7498253133595525\n",
      "\n",
      "DecisionTreeRegressor(); Experiment 2; Mean Absolute Error: 255.91166606137034\n",
      "DecisionTreeRegressor(); Experiment 2; R Squared: -0.4759152873978243\n",
      "\n",
      "DecisionTreeRegressor(); Experiment 3; Mean Absolute Error: 257.6208760179347\n",
      "DecisionTreeRegressor(); Experiment 3; R Squared: -0.494751675297334\n",
      "\n",
      "DecisionTreeRegressor(); Experiment 4; Mean Absolute Error: 132.3797475662043\n",
      "DecisionTreeRegressor(); Experiment 4; R Squared: 0.4561654993112745\n",
      "\n",
      "GradientBoostingRegressor(); Experiment 1; Mean Absolute Error: 97.56668939154544\n",
      "GradientBoostingRegressor(); Experiment 1; R Squared: 0.8152956044888933\n",
      "\n",
      "GradientBoostingRegressor(); Experiment 2; Mean Absolute Error: 252.07410550884833\n",
      "GradientBoostingRegressor(); Experiment 2; R Squared: 0.16991140595688758\n",
      "\n",
      "GradientBoostingRegressor(); Experiment 3; Mean Absolute Error: 257.25369481826914\n",
      "GradientBoostingRegressor(); Experiment 3; R Squared: 0.1476815474959784\n",
      "\n",
      "GradientBoostingRegressor(); Experiment 4; Mean Absolute Error: 150.1888312527924\n",
      "GradientBoostingRegressor(); Experiment 4; R Squared: 0.6135427523442243\n",
      "\n",
      "RandomForestRegressor(); Experiment 1; Mean Absolute Error: 85.60436046403251\n",
      "RandomForestRegressor(); Experiment 1; R Squared: 0.8606711577725942\n",
      "\n",
      "RandomForestRegressor(); Experiment 2; Mean Absolute Error: 246.80479534570483\n",
      "RandomForestRegressor(); Experiment 2; R Squared: 0.20537720493454936\n",
      "\n",
      "RandomForestRegressor(); Experiment 3; Mean Absolute Error: 252.35951040913483\n",
      "RandomForestRegressor(); Experiment 3; R Squared: 0.18568302829054983\n",
      "\n",
      "RandomForestRegressor(); Experiment 4; Mean Absolute Error: 122.41485255875216\n",
      "RandomForestRegressor(); Experiment 4; R Squared: 0.7010700742279223\n",
      "\n"
     ]
    }
   ],
   "source": [
    "# less than 5000\n",
    "for model in [DecisionTreeRegressor(), GradientBoostingRegressor(), RandomForestRegressor()]:\n",
    "    for idx,df in enumerate([df1, df2, df3, df4]):\n",
    "        model.fit(df[0], df[2])\n",
    "        print(f'{model}; Experiment {idx+1}; Mean Absolute Error:', metrics.mean_absolute_error(df[3], model.predict(df[1])))\n",
    "        print(f'{model}; Experiment {idx+1}; R Squared:', metrics.r2_score(df[3], model.predict(df[1])))\n",
    "        print('')\n"
   ]
  },
  {
   "cell_type": "markdown",
   "metadata": {},
   "source": [
    "## Results :\n",
    "The best performing basemodel is the Random Forest algorithm with Experiment 1. This is the model we will use for further analysis and improvement.\n"
   ]
  },
  {
   "cell_type": "markdown",
   "metadata": {},
   "source": [
    "# Feature Importance\n",
    "\n",
    "What features are the most influential in the model?"
   ]
  },
  {
   "cell_type": "code",
   "execution_count": 44,
   "metadata": {},
   "outputs": [
    {
     "data": {
      "text/html": [
       "<div>\n",
       "<style scoped>\n",
       "    .dataframe tbody tr th:only-of-type {\n",
       "        vertical-align: middle;\n",
       "    }\n",
       "\n",
       "    .dataframe tbody tr th {\n",
       "        vertical-align: top;\n",
       "    }\n",
       "\n",
       "    .dataframe thead th {\n",
       "        text-align: right;\n",
       "    }\n",
       "</style>\n",
       "<table border=\"1\" class=\"dataframe\">\n",
       "  <thead>\n",
       "    <tr style=\"text-align: right;\">\n",
       "      <th></th>\n",
       "      <th>importance</th>\n",
       "    </tr>\n",
       "  </thead>\n",
       "  <tbody>\n",
       "    <tr>\n",
       "      <th>remoteness</th>\n",
       "      <td>0.739365</td>\n",
       "    </tr>\n",
       "    <tr>\n",
       "      <th>longitude</th>\n",
       "      <td>0.107473</td>\n",
       "    </tr>\n",
       "    <tr>\n",
       "      <th>latitude</th>\n",
       "      <td>0.029685</td>\n",
       "    </tr>\n",
       "    <tr>\n",
       "      <th>Hum_cont</th>\n",
       "      <td>0.016094</td>\n",
       "    </tr>\n",
       "    <tr>\n",
       "      <th>Wind_cont</th>\n",
       "      <td>0.011187</td>\n",
       "    </tr>\n",
       "    <tr>\n",
       "      <th>Temp_cont</th>\n",
       "      <td>0.008709</td>\n",
       "    </tr>\n",
       "    <tr>\n",
       "      <th>Temp_pre_30</th>\n",
       "      <td>0.008216</td>\n",
       "    </tr>\n",
       "    <tr>\n",
       "      <th>Temp_pre_7</th>\n",
       "      <td>0.007952</td>\n",
       "    </tr>\n",
       "    <tr>\n",
       "      <th>Hum_pre_7</th>\n",
       "      <td>0.007143</td>\n",
       "    </tr>\n",
       "    <tr>\n",
       "      <th>Hum_pre_30</th>\n",
       "      <td>0.007073</td>\n",
       "    </tr>\n",
       "    <tr>\n",
       "      <th>Wind_pre_30</th>\n",
       "      <td>0.006875</td>\n",
       "    </tr>\n",
       "    <tr>\n",
       "      <th>Wind_pre_7</th>\n",
       "      <td>0.006535</td>\n",
       "    </tr>\n",
       "    <tr>\n",
       "      <th>Hum_pre_15</th>\n",
       "      <td>0.006466</td>\n",
       "    </tr>\n",
       "    <tr>\n",
       "      <th>Wind_pre_15</th>\n",
       "      <td>0.006024</td>\n",
       "    </tr>\n",
       "    <tr>\n",
       "      <th>Cause_Lightning</th>\n",
       "      <td>0.005944</td>\n",
       "    </tr>\n",
       "    <tr>\n",
       "      <th>Prec_cont</th>\n",
       "      <td>0.005061</td>\n",
       "    </tr>\n",
       "    <tr>\n",
       "      <th>Temp_pre_15</th>\n",
       "      <td>0.004966</td>\n",
       "    </tr>\n",
       "    <tr>\n",
       "      <th>Prec_pre_30</th>\n",
       "      <td>0.003194</td>\n",
       "    </tr>\n",
       "    <tr>\n",
       "      <th>Prec_pre_15</th>\n",
       "      <td>0.002362</td>\n",
       "    </tr>\n",
       "    <tr>\n",
       "      <th>Prec_pre_7</th>\n",
       "      <td>0.001943</td>\n",
       "    </tr>\n",
       "    <tr>\n",
       "      <th>Cause_Missing/Undefined</th>\n",
       "      <td>0.001756</td>\n",
       "    </tr>\n",
       "    <tr>\n",
       "      <th>Vegetation_14</th>\n",
       "      <td>0.000894</td>\n",
       "    </tr>\n",
       "    <tr>\n",
       "      <th>Cause_Equipment Use</th>\n",
       "      <td>0.000777</td>\n",
       "    </tr>\n",
       "    <tr>\n",
       "      <th>Vegetation_9</th>\n",
       "      <td>0.000703</td>\n",
       "    </tr>\n",
       "    <tr>\n",
       "      <th>Vegetation_4</th>\n",
       "      <td>0.000668</td>\n",
       "    </tr>\n",
       "    <tr>\n",
       "      <th>Cause_Miscellaneous</th>\n",
       "      <td>0.000602</td>\n",
       "    </tr>\n",
       "    <tr>\n",
       "      <th>Cause_Powerline</th>\n",
       "      <td>0.000440</td>\n",
       "    </tr>\n",
       "    <tr>\n",
       "      <th>Vegetation_15</th>\n",
       "      <td>0.000438</td>\n",
       "    </tr>\n",
       "    <tr>\n",
       "      <th>Vegetation_16</th>\n",
       "      <td>0.000403</td>\n",
       "    </tr>\n",
       "    <tr>\n",
       "      <th>Cause_Railroad</th>\n",
       "      <td>0.000334</td>\n",
       "    </tr>\n",
       "    <tr>\n",
       "      <th>Cause_Debris Burning</th>\n",
       "      <td>0.000290</td>\n",
       "    </tr>\n",
       "    <tr>\n",
       "      <th>Vegetation_12</th>\n",
       "      <td>0.000186</td>\n",
       "    </tr>\n",
       "    <tr>\n",
       "      <th>Cause_Smoking</th>\n",
       "      <td>0.000183</td>\n",
       "    </tr>\n",
       "    <tr>\n",
       "      <th>Cause_Structure</th>\n",
       "      <td>0.000033</td>\n",
       "    </tr>\n",
       "    <tr>\n",
       "      <th>Cause_Fireworks</th>\n",
       "      <td>0.000028</td>\n",
       "    </tr>\n",
       "  </tbody>\n",
       "</table>\n",
       "</div>"
      ],
      "text/plain": [
       "                         importance\n",
       "remoteness                 0.739365\n",
       "longitude                  0.107473\n",
       "latitude                   0.029685\n",
       "Hum_cont                   0.016094\n",
       "Wind_cont                  0.011187\n",
       "Temp_cont                  0.008709\n",
       "Temp_pre_30                0.008216\n",
       "Temp_pre_7                 0.007952\n",
       "Hum_pre_7                  0.007143\n",
       "Hum_pre_30                 0.007073\n",
       "Wind_pre_30                0.006875\n",
       "Wind_pre_7                 0.006535\n",
       "Hum_pre_15                 0.006466\n",
       "Wind_pre_15                0.006024\n",
       "Cause_Lightning            0.005944\n",
       "Prec_cont                  0.005061\n",
       "Temp_pre_15                0.004966\n",
       "Prec_pre_30                0.003194\n",
       "Prec_pre_15                0.002362\n",
       "Prec_pre_7                 0.001943\n",
       "Cause_Missing/Undefined    0.001756\n",
       "Vegetation_14              0.000894\n",
       "Cause_Equipment Use        0.000777\n",
       "Vegetation_9               0.000703\n",
       "Vegetation_4               0.000668\n",
       "Cause_Miscellaneous        0.000602\n",
       "Cause_Powerline            0.000440\n",
       "Vegetation_15              0.000438\n",
       "Vegetation_16              0.000403\n",
       "Cause_Railroad             0.000334\n",
       "Cause_Debris Burning       0.000290\n",
       "Vegetation_12              0.000186\n",
       "Cause_Smoking              0.000183\n",
       "Cause_Structure            0.000033\n",
       "Cause_Fireworks            0.000028"
      ]
     },
     "execution_count": 44,
     "metadata": {},
     "output_type": "execute_result"
    }
   ],
   "source": [
    "feature_importances = pd.DataFrame(rf.feature_importances_,\n",
    "    index = df1[0].columns,columns=['importance']).sort_values('importance',ascending=False)\n",
    "feature_importances"
   ]
  },
  {
   "cell_type": "markdown",
   "metadata": {},
   "source": [
    "## Hyper-parameter tuning for better results"
   ]
  },
  {
   "cell_type": "code",
   "execution_count": 45,
   "metadata": {},
   "outputs": [
    {
     "name": "stdout",
     "output_type": "stream",
     "text": [
      "Fitting 5 folds for each of 12 candidates, totalling 60 fits\n",
      "-80.32375504948575\n",
      "{'max_depth': 10, 'n_estimators': 200}\n"
     ]
    }
   ],
   "source": [
    "rf_reg = RandomForestRegressor()\n",
    "search_grid={'n_estimators':[50,100,200],'max_depth':[2,5,8,10]}\n",
    "search=GridSearchCV(estimator=rf_reg,param_grid=search_grid,scoring='neg_mean_absolute_error',n_jobs=1,cv=5, verbose=1)\n",
    "search.fit(df1[0], df1[2])\n",
    "print(search.best_score_)\n",
    "print(search.best_params_)\n"
   ]
  },
  {
   "cell_type": "code",
   "execution_count": 251,
   "metadata": {},
   "outputs": [
    {
     "name": "stdout",
     "output_type": "stream",
     "text": [
      "Mean Absolute Error: 83.50171356666195\n",
      "R Squared: 0.8533604377393926\n"
     ]
    }
   ],
   "source": [
    "# Random Forest Regressor \n",
    "rf_reg = RandomForestRegressor(n_estimators = 200, max_depth=10)\n",
    "\n",
    "# fit the regressor with x and y data\n",
    "rf_reg.fit(df1[0], df1[2])\n",
    "\n",
    "predictions = rf_reg.predict(df1[1])\n",
    "print('Mean Absolute Error:', metrics.mean_absolute_error(df1[3], predictions))\n",
    "print('R Squared:', metrics.r2_score(df1[3], predictions))"
   ]
  },
  {
   "cell_type": "code",
   "execution_count": 253,
   "metadata": {},
   "outputs": [],
   "source": [
    "X = df[['Vegetation_9','latitude','Temp_pre_30','Temp_pre_15','Temp_pre_7','Temp_cont','Wind_pre_30','Wind_pre_15','Wind_pre_7','Wind_cont','Hum_pre_30', 'Hum_pre_15','Hum_pre_7','Hum_cont','Prec_pre_30','Prec_pre_15','Prec_pre_7','Prec_cont','Cause_Lightning','longitude']]\n",
    "y = df['fire_size']\n",
    "\n",
    "#train test split\n",
    "X_train, X_test, y_train, y_test = train_test_split(X, y, test_size=0.2, random_state=42)\n",
    "\n"
   ]
  },
  {
   "cell_type": "markdown",
   "metadata": {},
   "source": [
    "\n",
    "# Neural network model and its results\n"
   ]
  },
  {
   "cell_type": "code",
   "execution_count": 254,
   "metadata": {},
   "outputs": [],
   "source": [
    "import os\n",
    "os.environ['TF_CPP_MIN_LOG_LEVEL'] = '2'\n",
    "\n",
    "normalizer = tf.keras.layers.Normalization(axis=-1)\n",
    "normalizer.adapt(np.array(X_train))"
   ]
  },
  {
   "cell_type": "code",
   "execution_count": 255,
   "metadata": {},
   "outputs": [
    {
     "data": {
      "text/plain": [
       "(28546, 20)"
      ]
     },
     "execution_count": 255,
     "metadata": {},
     "output_type": "execute_result"
    }
   ],
   "source": [
    "X_train.shape"
   ]
  },
  {
   "cell_type": "code",
   "execution_count": 256,
   "metadata": {},
   "outputs": [],
   "source": [
    "model = Sequential([\n",
    "    #normalizer,\n",
    "    Dense(34, activation=\"relu\", kernel_regularizer = regularizers.l2(0.01), kernel_initializer='normal',input_dim = X_train.shape[1]),\n",
    "    Dense(34, activation=\"relu\", kernel_regularizer = regularizers.l2(0.01)),\n",
    "    Dense(64, activation=\"relu\", kernel_regularizer = regularizers.l2(0.01)),\n",
    "    Dense(32, activation=\"relu\", kernel_regularizer = regularizers.l2(0.01)),\n",
    "    Dense(1, activation='linear')\n",
    "])\n",
    "\n",
    "model.compile(\n",
    "    optimizer='adam',\n",
    "    loss='mean_squared_error',\n",
    "    metrics=['accuracy','mae']\n",
    ")"
   ]
  },
  {
   "cell_type": "code",
   "execution_count": 198,
   "metadata": {},
   "outputs": [
    {
     "name": "stdout",
     "output_type": "stream",
     "text": [
      "Epoch 1/150\n",
      "759/759 [==============================] - 1s 1ms/step - loss: 487235.3125 - accuracy: 0.2167 - mae: 257.7435 - val_loss: 484998.4688 - val_accuracy: 0.2167 - val_mae: 241.1130\n",
      "Epoch 2/150\n",
      "759/759 [==============================] - 1s 1ms/step - loss: 472589.2812 - accuracy: 0.2171 - mae: 259.1883 - val_loss: 479511.8125 - val_accuracy: 0.2167 - val_mae: 238.4337\n",
      "Epoch 3/150\n",
      "759/759 [==============================] - 1s 1ms/step - loss: 469659.5625 - accuracy: 0.2165 - mae: 256.8068 - val_loss: 470249.8125 - val_accuracy: 0.2167 - val_mae: 262.8446\n",
      "Epoch 4/150\n",
      "759/759 [==============================] - 1s 1ms/step - loss: 465675.0000 - accuracy: 0.2171 - mae: 255.3619 - val_loss: 471215.3125 - val_accuracy: 0.2167 - val_mae: 228.4272\n",
      "Epoch 5/150\n",
      "759/759 [==============================] - 1s 1ms/step - loss: 464156.9375 - accuracy: 0.2171 - mae: 254.2477 - val_loss: 461401.7812 - val_accuracy: 0.2167 - val_mae: 243.0974\n",
      "Epoch 6/150\n",
      "759/759 [==============================] - 1s 1ms/step - loss: 461416.1562 - accuracy: 0.2171 - mae: 252.4059 - val_loss: 453857.1250 - val_accuracy: 0.2167 - val_mae: 264.2348\n",
      "Epoch 7/150\n",
      "759/759 [==============================] - 1s 1ms/step - loss: 459620.3438 - accuracy: 0.2169 - mae: 250.7637 - val_loss: 457384.2812 - val_accuracy: 0.2167 - val_mae: 227.3738\n",
      "Epoch 8/150\n",
      "759/759 [==============================] - 1s 1ms/step - loss: 455371.8438 - accuracy: 0.2169 - mae: 249.9421 - val_loss: 447311.4688 - val_accuracy: 0.2167 - val_mae: 262.5616\n",
      "Epoch 9/150\n",
      "759/759 [==============================] - 1s 992us/step - loss: 454655.7812 - accuracy: 0.2171 - mae: 246.6296 - val_loss: 452188.3750 - val_accuracy: 0.2167 - val_mae: 242.1914\n",
      "Epoch 10/150\n",
      "759/759 [==============================] - 1s 994us/step - loss: 453445.2500 - accuracy: 0.2171 - mae: 249.4836 - val_loss: 452953.7500 - val_accuracy: 0.2167 - val_mae: 308.3798\n",
      "Epoch 11/150\n",
      "759/759 [==============================] - 1s 994us/step - loss: 450919.4062 - accuracy: 0.2170 - mae: 247.3792 - val_loss: 446324.0938 - val_accuracy: 0.2167 - val_mae: 215.5805\n",
      "Epoch 12/150\n",
      "759/759 [==============================] - 1s 1ms/step - loss: 449281.5625 - accuracy: 0.2171 - mae: 245.7883 - val_loss: 461262.6250 - val_accuracy: 0.2167 - val_mae: 210.2643\n",
      "Epoch 13/150\n",
      "759/759 [==============================] - 1s 994us/step - loss: 448696.8438 - accuracy: 0.2171 - mae: 244.8781 - val_loss: 439341.9688 - val_accuracy: 0.2167 - val_mae: 260.1484\n",
      "Epoch 14/150\n",
      "759/759 [==============================] - 1s 1000us/step - loss: 447592.2500 - accuracy: 0.2170 - mae: 245.3835 - val_loss: 449636.8125 - val_accuracy: 0.2167 - val_mae: 269.5458\n",
      "Epoch 15/150\n",
      "759/759 [==============================] - 1s 994us/step - loss: 447205.8750 - accuracy: 0.2171 - mae: 245.1815 - val_loss: 435956.6875 - val_accuracy: 0.2167 - val_mae: 222.4917\n",
      "Epoch 16/150\n",
      "759/759 [==============================] - 1s 1ms/step - loss: 446085.4062 - accuracy: 0.2171 - mae: 244.7938 - val_loss: 431384.1875 - val_accuracy: 0.2167 - val_mae: 221.7531\n",
      "Epoch 17/150\n",
      "759/759 [==============================] - 1s 1ms/step - loss: 446818.8438 - accuracy: 0.2171 - mae: 242.8563 - val_loss: 451848.0938 - val_accuracy: 0.2167 - val_mae: 223.7386\n",
      "Epoch 18/150\n",
      "759/759 [==============================] - 1s 998us/step - loss: 445592.1875 - accuracy: 0.2171 - mae: 245.2290 - val_loss: 431475.0625 - val_accuracy: 0.2167 - val_mae: 264.3972\n",
      "Epoch 19/150\n",
      "759/759 [==============================] - 1s 1ms/step - loss: 445479.9688 - accuracy: 0.2170 - mae: 243.5450 - val_loss: 432131.6562 - val_accuracy: 0.2167 - val_mae: 239.2666\n",
      "Epoch 20/150\n",
      "759/759 [==============================] - 1s 997us/step - loss: 443566.0312 - accuracy: 0.2171 - mae: 242.4348 - val_loss: 432825.4688 - val_accuracy: 0.2167 - val_mae: 228.7225\n",
      "Epoch 21/150\n",
      "759/759 [==============================] - 1s 1ms/step - loss: 442515.7812 - accuracy: 0.2171 - mae: 242.7461 - val_loss: 436623.5312 - val_accuracy: 0.2167 - val_mae: 299.1756\n",
      "Epoch 22/150\n",
      "759/759 [==============================] - 1s 993us/step - loss: 442290.3438 - accuracy: 0.2171 - mae: 241.7724 - val_loss: 433757.6562 - val_accuracy: 0.2167 - val_mae: 254.2297\n",
      "Epoch 23/150\n",
      "759/759 [==============================] - 1s 996us/step - loss: 441892.1562 - accuracy: 0.2170 - mae: 242.3856 - val_loss: 429934.7188 - val_accuracy: 0.2167 - val_mae: 220.6856\n",
      "Epoch 24/150\n",
      "759/759 [==============================] - 1s 992us/step - loss: 441711.7500 - accuracy: 0.2171 - mae: 241.1095 - val_loss: 432658.7188 - val_accuracy: 0.2167 - val_mae: 227.8309\n",
      "Epoch 25/150\n",
      "759/759 [==============================] - 1s 994us/step - loss: 441830.0312 - accuracy: 0.2171 - mae: 240.9259 - val_loss: 427467.5000 - val_accuracy: 0.2167 - val_mae: 243.6996\n",
      "Epoch 26/150\n",
      "759/759 [==============================] - 1s 1ms/step - loss: 440249.7188 - accuracy: 0.2170 - mae: 242.6356 - val_loss: 433381.6875 - val_accuracy: 0.2165 - val_mae: 236.8471\n",
      "Epoch 27/150\n",
      "759/759 [==============================] - 1s 992us/step - loss: 441219.3750 - accuracy: 0.2170 - mae: 239.3439 - val_loss: 436954.1562 - val_accuracy: 0.2167 - val_mae: 268.2120\n",
      "Epoch 28/150\n",
      "759/759 [==============================] - 1s 987us/step - loss: 440240.1875 - accuracy: 0.2170 - mae: 239.9239 - val_loss: 428246.0312 - val_accuracy: 0.2167 - val_mae: 225.2922\n",
      "Epoch 29/150\n",
      "759/759 [==============================] - 1s 987us/step - loss: 440482.0938 - accuracy: 0.2169 - mae: 240.1265 - val_loss: 430198.9688 - val_accuracy: 0.2160 - val_mae: 267.1283\n",
      "Epoch 30/150\n",
      "759/759 [==============================] - 1s 1ms/step - loss: 439419.0625 - accuracy: 0.2170 - mae: 239.1154 - val_loss: 426828.5625 - val_accuracy: 0.2167 - val_mae: 253.1993\n",
      "Epoch 31/150\n",
      "759/759 [==============================] - 1s 987us/step - loss: 439764.8125 - accuracy: 0.2171 - mae: 239.4238 - val_loss: 429327.8438 - val_accuracy: 0.2167 - val_mae: 229.6476\n",
      "Epoch 32/150\n",
      "759/759 [==============================] - 1s 985us/step - loss: 438660.0000 - accuracy: 0.2170 - mae: 239.9965 - val_loss: 432198.4375 - val_accuracy: 0.2167 - val_mae: 239.4352\n"
     ]
    }
   ],
   "source": [
    "history = model.fit(\n",
    "    X_train,\n",
    "    y_train,\n",
    "    epochs=150,\n",
    "    validation_split=0.15,\n",
    "    callbacks=[tf.keras.callbacks.EarlyStopping(\n",
    "        monitor='val_mae',\n",
    "        patience=20,\n",
    "        mode='min',\n",
    "        restore_best_weights=True\n",
    "    )]\n",
    ")"
   ]
  },
  {
   "cell_type": "code",
   "execution_count": 257,
   "metadata": {},
   "outputs": [
    {
     "data": {
      "image/png": "[encoded data removed]",
      "text/plain": [
       "<Figure size 1000x500 with 1 Axes>"
      ]
     },
     "metadata": {},
     "output_type": "display_data"
    }
   ],
   "source": [
    "\n",
    "historydf = pd.DataFrame(history.history)\n",
    "\n",
    "#Run this cell to plot the epoch vs loss graph\n",
    "plt.figure(figsize=(10, 5))\n",
    "plt.plot(historydf['mae'],label='mae')\n",
    "plt.plot(historydf['val_mae'],label='val_mae')\n",
    "plt.title('MAE vs. epochs')\n",
    "plt.ylabel('MAE')\n",
    "plt.xlabel('Epoch')\n",
    "plt.legend(['Training', 'Validation'], loc='upper right')\n",
    "plt.show() "
   ]
  },
  {
   "cell_type": "code",
   "execution_count": 258,
   "metadata": {},
   "outputs": [
    {
     "name": "stdout",
     "output_type": "stream",
     "text": [
      "Mean Absolute Error: 174.660\n",
      "accuracy: 0.002\n",
      "loss: 583550.812\n"
     ]
    }
   ],
   "source": [
    "test_loss, test_acc, test_mae = model.evaluate(x=X_test, y=y_test, verbose=0)\n",
    "print('Mean Absolute Error: {acc:0.3f}'.format(acc=test_mae))\n",
    "print('accuracy: {acc:0.3f}'.format(acc=test_acc))\n",
    "print('loss: {acc:0.3f}'.format(acc=test_loss))"
   ]
  },
  {
   "cell_type": "markdown",
   "metadata": {},
   "source": [
    "# Classification Introduction:\n",
    "\n",
    "Starting the classification process, and checking if we need to do more preprocessing steps to the current dataset.\n",
    "\n",
    "\n"
   ]
  },
  {
   "cell_type": "code",
   "execution_count": 227,
   "metadata": {},
   "outputs": [
    {
     "name": "stdout",
     "output_type": "stream",
     "text": [
      "<class 'pandas.core.frame.DataFrame'>\n",
      "Int64Index: 51395 entries, 0 to 55365\n",
      "Data columns (total 37 columns):\n",
      " #   Column            Non-Null Count  Dtype         \n",
      "---  ------            --------------  -----         \n",
      " 0   fire_name         22043 non-null  object        \n",
      " 1   fire_size         51395 non-null  float64       \n",
      " 2   fire_size_class   51395 non-null  object        \n",
      " 3   stat_cause_descr  51395 non-null  object        \n",
      " 4   latitude          51395 non-null  float64       \n",
      " 5   longitude         51395 non-null  float64       \n",
      " 6   state             51395 non-null  object        \n",
      " 7   disc_clean_date   51395 non-null  datetime64[ns]\n",
      " 8   discovery_month   51395 non-null  object        \n",
      " 9   disc_date_pre     51395 non-null  object        \n",
      " 10  disc_pre_year     51395 non-null  int64         \n",
      " 11  disc_pre_month    51395 non-null  object        \n",
      " 12  wstation_usaf     51395 non-null  object        \n",
      " 13  dstation_m        51395 non-null  float64       \n",
      " 14  wstation_wban     51395 non-null  int64         \n",
      " 15  wstation_byear    51395 non-null  int64         \n",
      " 16  wstation_eyear    51395 non-null  int64         \n",
      " 17  Vegetation        51395 non-null  int64         \n",
      " 18  fire_mag          51395 non-null  float64       \n",
      " 19  weather_file      51395 non-null  object        \n",
      " 20  Temp_pre_30       51395 non-null  float64       \n",
      " 21  Temp_pre_15       51395 non-null  float64       \n",
      " 22  Temp_pre_7        51395 non-null  float64       \n",
      " 23  Temp_cont         51395 non-null  float64       \n",
      " 24  Wind_pre_30       51395 non-null  float64       \n",
      " 25  Wind_pre_15       51395 non-null  float64       \n",
      " 26  Wind_pre_7        51395 non-null  float64       \n",
      " 27  Wind_cont         51395 non-null  float64       \n",
      " 28  Hum_pre_30        51395 non-null  float64       \n",
      " 29  Hum_pre_15        51395 non-null  float64       \n",
      " 30  Hum_pre_7         51395 non-null  float64       \n",
      " 31  Hum_cont          51395 non-null  float64       \n",
      " 32  Prec_pre_30       51395 non-null  float64       \n",
      " 33  Prec_pre_15       51395 non-null  float64       \n",
      " 34  Prec_pre_7        51395 non-null  float64       \n",
      " 35  Prec_cont         51395 non-null  float64       \n",
      " 36  remoteness        51395 non-null  float64       \n",
      "dtypes: datetime64[ns](1), float64(22), int64(5), object(9)\n",
      "memory usage: 14.9+ MB\n"
     ]
    }
   ],
   "source": [
    "df.info()"
   ]
  },
  {
   "cell_type": "code",
   "execution_count": 228,
   "metadata": {},
   "outputs": [
    {
     "data": {
      "text/html": [
       "<div>\n",
       "<style scoped>\n",
       "    .dataframe tbody tr th:only-of-type {\n",
       "        vertical-align: middle;\n",
       "    }\n",
       "\n",
       "    .dataframe tbody tr th {\n",
       "        vertical-align: top;\n",
       "    }\n",
       "\n",
       "    .dataframe thead th {\n",
       "        text-align: right;\n",
       "    }\n",
       "</style>\n",
       "<table border=\"1\" class=\"dataframe\">\n",
       "  <thead>\n",
       "    <tr style=\"text-align: right;\">\n",
       "      <th></th>\n",
       "      <th>fire_name</th>\n",
       "      <th>fire_size</th>\n",
       "      <th>fire_size_class</th>\n",
       "      <th>stat_cause_descr</th>\n",
       "      <th>latitude</th>\n",
       "      <th>longitude</th>\n",
       "      <th>state</th>\n",
       "      <th>disc_clean_date</th>\n",
       "      <th>discovery_month</th>\n",
       "      <th>disc_date_pre</th>\n",
       "      <th>disc_pre_year</th>\n",
       "      <th>disc_pre_month</th>\n",
       "      <th>wstation_usaf</th>\n",
       "      <th>dstation_m</th>\n",
       "      <th>wstation_wban</th>\n",
       "      <th>wstation_byear</th>\n",
       "      <th>wstation_eyear</th>\n",
       "      <th>Vegetation</th>\n",
       "      <th>fire_mag</th>\n",
       "      <th>weather_file</th>\n",
       "      <th>Temp_pre_30</th>\n",
       "      <th>Temp_pre_15</th>\n",
       "      <th>Temp_pre_7</th>\n",
       "      <th>Temp_cont</th>\n",
       "      <th>Wind_pre_30</th>\n",
       "      <th>Wind_pre_15</th>\n",
       "      <th>Wind_pre_7</th>\n",
       "      <th>Wind_cont</th>\n",
       "      <th>Hum_pre_30</th>\n",
       "      <th>Hum_pre_15</th>\n",
       "      <th>Hum_pre_7</th>\n",
       "      <th>Hum_cont</th>\n",
       "      <th>Prec_pre_30</th>\n",
       "      <th>Prec_pre_15</th>\n",
       "      <th>Prec_pre_7</th>\n",
       "      <th>Prec_cont</th>\n",
       "      <th>remoteness</th>\n",
       "    </tr>\n",
       "  </thead>\n",
       "  <tbody>\n",
       "    <tr>\n",
       "      <th>3</th>\n",
       "      <td>WNA  1</td>\n",
       "      <td>1.0</td>\n",
       "      <td>B</td>\n",
       "      <td>Debris Burning</td>\n",
       "      <td>39.641400</td>\n",
       "      <td>-119.308300</td>\n",
       "      <td>NV</td>\n",
       "      <td>2005-06-06</td>\n",
       "      <td>Jun</td>\n",
       "      <td>5/7/2005</td>\n",
       "      <td>2005</td>\n",
       "      <td>May</td>\n",
       "      <td>724880</td>\n",
       "      <td>43433.32978</td>\n",
       "      <td>23185</td>\n",
       "      <td>1942</td>\n",
       "      <td>2020</td>\n",
       "      <td>0</td>\n",
       "      <td>0.1</td>\n",
       "      <td>724880-23185-2005.gz</td>\n",
       "      <td>16.275967</td>\n",
       "      <td>18.996181</td>\n",
       "      <td>18.142564</td>\n",
       "      <td>0.00000</td>\n",
       "      <td>4.054982</td>\n",
       "      <td>3.398329</td>\n",
       "      <td>3.671282</td>\n",
       "      <td>0.000000</td>\n",
       "      <td>44.778429</td>\n",
       "      <td>37.140811</td>\n",
       "      <td>35.353846</td>\n",
       "      <td>0.000000</td>\n",
       "      <td>10.4</td>\n",
       "      <td>7.2</td>\n",
       "      <td>0.0</td>\n",
       "      <td>0.0</td>\n",
       "      <td>0.487447</td>\n",
       "    </tr>\n",
       "    <tr>\n",
       "      <th>9</th>\n",
       "      <td>CRAZY</td>\n",
       "      <td>1.0</td>\n",
       "      <td>B</td>\n",
       "      <td>Miscellaneous</td>\n",
       "      <td>48.839400</td>\n",
       "      <td>-99.718500</td>\n",
       "      <td>ND</td>\n",
       "      <td>2004-04-19</td>\n",
       "      <td>Apr</td>\n",
       "      <td>3/20/2004</td>\n",
       "      <td>2004</td>\n",
       "      <td>Mar</td>\n",
       "      <td>727675</td>\n",
       "      <td>129109.88140</td>\n",
       "      <td>99999</td>\n",
       "      <td>1936</td>\n",
       "      <td>2020</td>\n",
       "      <td>15</td>\n",
       "      <td>0.1</td>\n",
       "      <td>727675-99999-2004.gz</td>\n",
       "      <td>4.600950</td>\n",
       "      <td>6.861878</td>\n",
       "      <td>6.053333</td>\n",
       "      <td>0.00000</td>\n",
       "      <td>6.380760</td>\n",
       "      <td>6.334254</td>\n",
       "      <td>6.645333</td>\n",
       "      <td>0.000000</td>\n",
       "      <td>64.606509</td>\n",
       "      <td>55.943038</td>\n",
       "      <td>54.337838</td>\n",
       "      <td>0.000000</td>\n",
       "      <td>12.3</td>\n",
       "      <td>1.8</td>\n",
       "      <td>0.0</td>\n",
       "      <td>0.0</td>\n",
       "      <td>0.291683</td>\n",
       "    </tr>\n",
       "    <tr>\n",
       "      <th>11</th>\n",
       "      <td>SWR-20150212-008</td>\n",
       "      <td>37.0</td>\n",
       "      <td>C</td>\n",
       "      <td>Arson</td>\n",
       "      <td>31.195108</td>\n",
       "      <td>-88.150651</td>\n",
       "      <td>AL</td>\n",
       "      <td>2015-02-12</td>\n",
       "      <td>Feb</td>\n",
       "      <td>1/13/2015</td>\n",
       "      <td>2015</td>\n",
       "      <td>Jan</td>\n",
       "      <td>998196</td>\n",
       "      <td>56031.33313</td>\n",
       "      <td>99999</td>\n",
       "      <td>2008</td>\n",
       "      <td>2020</td>\n",
       "      <td>12</td>\n",
       "      <td>1.0</td>\n",
       "      <td>File Not Found</td>\n",
       "      <td>-1.000000</td>\n",
       "      <td>-1.000000</td>\n",
       "      <td>-1.000000</td>\n",
       "      <td>-1.00000</td>\n",
       "      <td>-1.000000</td>\n",
       "      <td>-1.000000</td>\n",
       "      <td>-1.000000</td>\n",
       "      <td>-1.000000</td>\n",
       "      <td>-1.000000</td>\n",
       "      <td>-1.000000</td>\n",
       "      <td>-1.000000</td>\n",
       "      <td>-1.000000</td>\n",
       "      <td>-1.0</td>\n",
       "      <td>-1.0</td>\n",
       "      <td>-1.0</td>\n",
       "      <td>-1.0</td>\n",
       "      <td>0.191923</td>\n",
       "    </tr>\n",
       "    <tr>\n",
       "      <th>15</th>\n",
       "      <td>ROLSTON</td>\n",
       "      <td>1.0</td>\n",
       "      <td>B</td>\n",
       "      <td>Missing/Undefined</td>\n",
       "      <td>33.988609</td>\n",
       "      <td>-103.135277</td>\n",
       "      <td>NM</td>\n",
       "      <td>1996-02-12</td>\n",
       "      <td>Feb</td>\n",
       "      <td>1/13/1996</td>\n",
       "      <td>1996</td>\n",
       "      <td>Jan</td>\n",
       "      <td>722686</td>\n",
       "      <td>46845.65519</td>\n",
       "      <td>99999</td>\n",
       "      <td>1973</td>\n",
       "      <td>2010</td>\n",
       "      <td>16</td>\n",
       "      <td>0.1</td>\n",
       "      <td>722686-23008-1996.gz</td>\n",
       "      <td>3.523045</td>\n",
       "      <td>2.536364</td>\n",
       "      <td>8.913095</td>\n",
       "      <td>8.39681</td>\n",
       "      <td>6.245931</td>\n",
       "      <td>6.014404</td>\n",
       "      <td>5.798795</td>\n",
       "      <td>6.062726</td>\n",
       "      <td>38.712707</td>\n",
       "      <td>45.180055</td>\n",
       "      <td>40.493976</td>\n",
       "      <td>33.537604</td>\n",
       "      <td>10.0</td>\n",
       "      <td>8.0</td>\n",
       "      <td>0.0</td>\n",
       "      <td>0.0</td>\n",
       "      <td>0.330323</td>\n",
       "    </tr>\n",
       "    <tr>\n",
       "      <th>16</th>\n",
       "      <td>TREE HOUSE LIGHTER</td>\n",
       "      <td>1.5</td>\n",
       "      <td>B</td>\n",
       "      <td>Children</td>\n",
       "      <td>36.083300</td>\n",
       "      <td>-78.916700</td>\n",
       "      <td>NC</td>\n",
       "      <td>2001-04-16</td>\n",
       "      <td>Apr</td>\n",
       "      <td>3/17/2001</td>\n",
       "      <td>2001</td>\n",
       "      <td>Mar</td>\n",
       "      <td>722193</td>\n",
       "      <td>23185.42332</td>\n",
       "      <td>3722</td>\n",
       "      <td>1973</td>\n",
       "      <td>2020</td>\n",
       "      <td>0</td>\n",
       "      <td>0.1</td>\n",
       "      <td>File Not Found</td>\n",
       "      <td>-1.000000</td>\n",
       "      <td>-1.000000</td>\n",
       "      <td>-1.000000</td>\n",
       "      <td>-1.00000</td>\n",
       "      <td>-1.000000</td>\n",
       "      <td>-1.000000</td>\n",
       "      <td>-1.000000</td>\n",
       "      <td>-1.000000</td>\n",
       "      <td>-1.000000</td>\n",
       "      <td>-1.000000</td>\n",
       "      <td>-1.000000</td>\n",
       "      <td>-1.000000</td>\n",
       "      <td>-1.0</td>\n",
       "      <td>-1.0</td>\n",
       "      <td>-1.0</td>\n",
       "      <td>-1.0</td>\n",
       "      <td>0.106035</td>\n",
       "    </tr>\n",
       "  </tbody>\n",
       "</table>\n",
       "</div>"
      ],
      "text/plain": [
       "             fire_name  fire_size fire_size_class   stat_cause_descr  \\\n",
       "3               WNA  1        1.0               B     Debris Burning   \n",
       "9                CRAZY        1.0               B      Miscellaneous   \n",
       "11    SWR-20150212-008       37.0               C              Arson   \n",
       "15             ROLSTON        1.0               B  Missing/Undefined   \n",
       "16  TREE HOUSE LIGHTER        1.5               B           Children   \n",
       "\n",
       "     latitude   longitude state disc_clean_date discovery_month disc_date_pre  \\\n",
       "3   39.641400 -119.308300    NV      2005-06-06             Jun      5/7/2005   \n",
       "9   48.839400  -99.718500    ND      2004-04-19             Apr     3/20/2004   \n",
       "11  31.195108  -88.150651    AL      2015-02-12             Feb     1/13/2015   \n",
       "15  33.988609 -103.135277    NM      1996-02-12             Feb     1/13/1996   \n",
       "16  36.083300  -78.916700    NC      2001-04-16             Apr     3/17/2001   \n",
       "\n",
       "    disc_pre_year disc_pre_month wstation_usaf    dstation_m  wstation_wban  \\\n",
       "3            2005            May        724880   43433.32978          23185   \n",
       "9            2004            Mar        727675  129109.88140          99999   \n",
       "11           2015            Jan        998196   56031.33313          99999   \n",
       "15           1996            Jan        722686   46845.65519          99999   \n",
       "16           2001            Mar        722193   23185.42332           3722   \n",
       "\n",
       "    wstation_byear  wstation_eyear  Vegetation  fire_mag  \\\n",
       "3             1942            2020           0       0.1   \n",
       "9             1936            2020          15       0.1   \n",
       "11            2008            2020          12       1.0   \n",
       "15            1973            2010          16       0.1   \n",
       "16            1973            2020           0       0.1   \n",
       "\n",
       "            weather_file  Temp_pre_30  Temp_pre_15  Temp_pre_7  Temp_cont  \\\n",
       "3   724880-23185-2005.gz    16.275967    18.996181   18.142564    0.00000   \n",
       "9   727675-99999-2004.gz     4.600950     6.861878    6.053333    0.00000   \n",
       "11        File Not Found    -1.000000    -1.000000   -1.000000   -1.00000   \n",
       "15  722686-23008-1996.gz     3.523045     2.536364    8.913095    8.39681   \n",
       "16        File Not Found    -1.000000    -1.000000   -1.000000   -1.00000   \n",
       "\n",
       "    Wind_pre_30  Wind_pre_15  Wind_pre_7  Wind_cont  Hum_pre_30  Hum_pre_15  \\\n",
       "3      4.054982     3.398329    3.671282   0.000000   44.778429   37.140811   \n",
       "9      6.380760     6.334254    6.645333   0.000000   64.606509   55.943038   \n",
       "11    -1.000000    -1.000000   -1.000000  -1.000000   -1.000000   -1.000000   \n",
       "15     6.245931     6.014404    5.798795   6.062726   38.712707   45.180055   \n",
       "16    -1.000000    -1.000000   -1.000000  -1.000000   -1.000000   -1.000000   \n",
       "\n",
       "    Hum_pre_7   Hum_cont  Prec_pre_30  Prec_pre_15  Prec_pre_7  Prec_cont  \\\n",
       "3   35.353846   0.000000         10.4          7.2         0.0        0.0   \n",
       "9   54.337838   0.000000         12.3          1.8         0.0        0.0   \n",
       "11  -1.000000  -1.000000         -1.0         -1.0        -1.0       -1.0   \n",
       "15  40.493976  33.537604         10.0          8.0         0.0        0.0   \n",
       "16  -1.000000  -1.000000         -1.0         -1.0        -1.0       -1.0   \n",
       "\n",
       "    remoteness  \n",
       "3     0.487447  \n",
       "9     0.291683  \n",
       "11    0.191923  \n",
       "15    0.330323  \n",
       "16    0.106035  "
      ]
     },
     "execution_count": 228,
     "metadata": {},
     "output_type": "execute_result"
    }
   ],
   "source": [
    "df.dropna(axis='rows', how='any', inplace=True)\n",
    "df.head()"
   ]
  },
  {
   "cell_type": "code",
   "execution_count": 19,
   "metadata": {},
   "outputs": [
    {
     "name": "stdout",
     "output_type": "stream",
     "text": [
      "<class 'pandas.core.frame.DataFrame'>\n",
      "Int64Index: 38756 entries, 16778 to 41212\n",
      "Data columns (total 43 columns):\n",
      " #   Column            Non-Null Count  Dtype  \n",
      "---  ------            --------------  -----  \n",
      " 0   Unnamed: 0.1      38756 non-null  int64  \n",
      " 1   Unnamed: 0        38756 non-null  int64  \n",
      " 2   fire_name         18092 non-null  object \n",
      " 3   fire_size         38756 non-null  float64\n",
      " 4   fire_size_class   38756 non-null  object \n",
      " 5   stat_cause_descr  38756 non-null  object \n",
      " 6   latitude          38756 non-null  float64\n",
      " 7   longitude         38756 non-null  float64\n",
      " 8   state             38756 non-null  object \n",
      " 9   disc_clean_date   38756 non-null  object \n",
      " 10  cont_clean_date   19141 non-null  object \n",
      " 11  discovery_month   38756 non-null  object \n",
      " 12  disc_date_final   20010 non-null  object \n",
      " 13  cont_date_final   17825 non-null  object \n",
      " 14  putout_time       19141 non-null  object \n",
      " 15  disc_date_pre     38756 non-null  object \n",
      " 16  disc_pre_year     38756 non-null  int64  \n",
      " 17  disc_pre_month    38756 non-null  object \n",
      " 18  wstation_usaf     38756 non-null  object \n",
      " 19  dstation_m        38756 non-null  float64\n",
      " 20  wstation_wban     38756 non-null  int64  \n",
      " 21  wstation_byear    38756 non-null  int64  \n",
      " 22  wstation_eyear    38756 non-null  int64  \n",
      " 23  Vegetation        38756 non-null  int64  \n",
      " 24  fire_mag          38756 non-null  float64\n",
      " 25  weather_file      38756 non-null  object \n",
      " 26  Temp_pre_30       38756 non-null  float64\n",
      " 27  Temp_pre_15       38756 non-null  float64\n",
      " 28  Temp_pre_7        38756 non-null  float64\n",
      " 29  Temp_cont         38756 non-null  float64\n",
      " 30  Wind_pre_30       38756 non-null  float64\n",
      " 31  Wind_pre_15       38756 non-null  float64\n",
      " 32  Wind_pre_7        38756 non-null  float64\n",
      " 33  Wind_cont         38756 non-null  float64\n",
      " 34  Hum_pre_30        38756 non-null  float64\n",
      " 35  Hum_pre_15        38756 non-null  float64\n",
      " 36  Hum_pre_7         38756 non-null  float64\n",
      " 37  Hum_cont          38756 non-null  float64\n",
      " 38  Prec_pre_30       38756 non-null  float64\n",
      " 39  Prec_pre_15       38756 non-null  float64\n",
      " 40  Prec_pre_7        38756 non-null  float64\n",
      " 41  Prec_cont         38756 non-null  float64\n",
      " 42  remoteness        38756 non-null  float64\n",
      "dtypes: float64(22), int64(7), object(14)\n",
      "memory usage: 13.0+ MB\n",
      "None\n"
     ]
    }
   ],
   "source": [
    "from sklearn.tree import DecisionTreeClassifier\n",
    "\n",
    "train_set, test_set = train_test_split(df, test_size=0.30, random_state=568)\n",
    "\n",
    "#Train set -Int64Index: 38756 entries, 16778 to 41212\n",
    "print(train_set.info())\n",
    "# Test Set - Int64Index: 16611 entries, 45469 to 21122\n",
    "\n",
    "\n"
   ]
  },
  {
   "cell_type": "markdown",
   "metadata": {},
   "source": [
    "## Reasons and Insights for selecting the feature list\n",
    "\n",
    "I am dividing the feature list into 2 parts as we have already done the feature importance.\n",
    "\n",
    "Why I am selecting features, as we have seen before most fires are based on the natural cause, i want to predict the  based on the climatic conditions\n",
    "\n",
    "### List 1\n",
    "--> X = \"remoteness\",\"latitude\" ,\"longitude\",\"Temp_pre_7\",\"Wind_pre_7\",\"Hum_pre_7\",\"Prec_pre_7\"\n",
    "\n",
    "### List 2\n",
    "--> X = \"Temp_pre_7\",\"Wind_pre_7\",\"Hum_pre_7\",\"Prec_pre_7\"\n",
    "\n",
    "### Target variables\n",
    "Y = \"fire_size_class\" || \"fire_size\"\n",
    "\n",
    "## issues while selecting the targets  \n",
    "\n",
    "When I was using \"fire_size_class\" for the Y feature, I had gotten continuous value error. After that using label encoder changed that unknown label error  was fixed and able to predict for the target  variable fire_size too.\n",
    "\n",
    "## Reasons for selecting the target variable fire_size and fire_size_class\n",
    "\n",
    "As our project end goal is to predict the fire_size, which will be useful for the people in real time to get to know the size of the fire and can be evacuated to the safe plce. But while working on the project, we felt fire_size_class is important as the fire_size that will give us the reason of the fire.\n",
    "\n",
    "Also from the results of the PCA and Feature importance, we have finalised these target variables."
   ]
  },
  {
   "cell_type": "markdown",
   "metadata": {},
   "source": [
    "## Decision Tree Classifier\n"
   ]
  },
  {
   "cell_type": "code",
   "execution_count": 291,
   "metadata": {},
   "outputs": [
    {
     "name": "stdout",
     "output_type": "stream",
     "text": [
      "DecisionTreeClassifier()\n",
      "The confusion Matrix is: \n",
      "[[ 6  0  0 ...  0  0  0]\n",
      " [ 0 12  0 ...  0  0  0]\n",
      " [ 0  0  9 ...  0  0  0]\n",
      " ...\n",
      " [ 0  0  0 ...  1  0  0]\n",
      " [ 0  0  0 ...  0  1  0]\n",
      " [ 0  0  0 ...  0  0  1]]\n",
      "The Evalution metrics are as follows: \n",
      "Accuracy:  0.9995596124589639\n",
      "Precision:  0.9995599727734231\n",
      "Sensitivity:  0.9995596124589639\n",
      "F1 Score:  0.999559248866279\n"
     ]
    }
   ],
   "source": [
    "from sklearn.tree import DecisionTreeClassifier\n",
    "from sklearn.metrics import confusion_matrix\n",
    "\n",
    "X = train_set[[\"remoteness\",\"latitude\" ,\"longitude\",\"Temp_pre_7\",\"Wind_pre_7\",\"Hum_pre_7\",\"Prec_pre_7\"]]\n",
    "#X = train_set[[\"Temp_pre_7\",\"Wind_pre_7\",\"Hum_pre_7\",\"Prec_pre_7\"]]\n",
    "\n",
    "Y = train_set[\"fire_size_class\"]\n",
    "# Y = train_set[\"fire_size\"]\n",
    "\n",
    "#Transforming the \"unknown lable continuous variable \"error into label encoder and applying for the classification\n",
    "\n",
    "lab = preprocessing.LabelEncoder()\n",
    "y_transformed = lab.fit_transform(Y)\n",
    "\n",
    "tree_classifier = DecisionTreeClassifier().fit(X,y_transformed)\n",
    "print(tree_classifier)\n",
    "\n",
    "y_pred = tree_classifier.predict(X)\n",
    "c_matrix = confusion_matrix(y_transformed, y_pred)\n",
    "print('The confusion Matrix is: ')\n",
    "print(c_matrix)\n",
    "\n",
    "\n",
    "from sklearn.metrics import accuracy_score, precision_score,recall_score, f1_score\n",
    "print(\"The Evalution metrics are as follows: \")\n",
    "print(\"Accuracy: \", accuracy_score(y_transformed, y_pred))\n",
    "print(\"Precision: \", precision_score(y_transformed, y_pred, average=\"weighted\"))\n",
    "print(\"Sensitivity: \", recall_score(y_transformed, y_pred, average=\"weighted\"))\n",
    "print(\"F1 Score: \", f1_score(y_transformed, y_pred, average=\"weighted\"))"
   ]
  },
  {
   "cell_type": "markdown",
   "metadata": {},
   "source": [
    "\n",
    "## Gaussian Naive Bayes\n"
   ]
  },
  {
   "cell_type": "code",
   "execution_count": 284,
   "metadata": {},
   "outputs": [
    {
     "name": "stdout",
     "output_type": "stream",
     "text": [
      "GaussianNB()\n",
      "Confusion Metrix: \n",
      "[[17261   311     0     0    71]\n",
      " [    0  5054   158     1    30]\n",
      " [    0     2   666    23     6]\n",
      " [    0     0     6   323     9]\n",
      " [    0     0     0    24  1033]]\n",
      "The Evalution metrics are as follows: \n",
      "Accuracy:  0.9743374169268957\n",
      "Precision:  0.9762218246841745\n",
      "Sensitivity:  0.9743374169268957\n",
      "F1 Score:  0.9748867282726823\n"
     ]
    }
   ],
   "source": [
    "from sklearn.naive_bayes import GaussianNB\n",
    "from sklearn.metrics import accuracy_score, precision_score,recall_score, f1_score, confusion_matrix\n",
    "from sklearn.metrics import confusion_matrix\n",
    "\n",
    "# Training Set\n",
    "\n",
    "X = train_set[[\"remoteness\",\"latitude\" ,\"longitude\",\"Temp_pre_7\",\"Wind_pre_7\",\"Hum_pre_7\",\"Prec_pre_7\"]]\n",
    "#X = train_set[[\"Temp_pre_7\",\"Wind_pre_7\",\"Hum_pre_7\",\"Prec_pre_7\"]]\n",
    "Y = train_set[\"fire_size_class\"]\n",
    "# Y = train_set[\"fire_size\"]\n",
    "\n",
    "gnb = GaussianNB()\n",
    "print(gnb.fit(X,Y))\n",
    "\n",
    "y_pred = gnb.predict(X)\n",
    "c_matrix = confusion_matrix(Y, y_pred)\n",
    "print(\"Confusion Metrix: \")\n",
    "print(c_matrix)\n",
    "\n",
    "print(\"The Evalution metrics are as follows: \")\n",
    "print(\"Accuracy: \", accuracy_score(Y, y_pred))\n",
    "print(\"Precision: \", precision_score(Y, y_pred, average=\"weighted\"))\n",
    "print(\"Sensitivity: \", recall_score(Y, y_pred, average=\"weighted\"))\n",
    "print(\"F1 Score: \", f1_score(Y, y_pred, average=\"weighted\"))"
   ]
  },
  {
   "cell_type": "markdown",
   "metadata": {},
   "source": [
    "## Random Forest classifier"
   ]
  },
  {
   "cell_type": "code",
   "execution_count": 287,
   "metadata": {},
   "outputs": [
    {
     "name": "stdout",
     "output_type": "stream",
     "text": [
      "RandomForestClassifier()\n",
      "Confusion Metrix: \n",
      "[[17643     0     0     0     0]\n",
      " [    3  5240     0     0     0]\n",
      " [    0     0   697     0     0]\n",
      " [    0     0     0   338     0]\n",
      " [    0     0     0     0  1057]]\n",
      "The Evalution metrics are as follows: \n",
      "Accuracy:  0.9998798943069902\n",
      "Precision:  0.9998799147261831\n",
      "Sensitivity:  0.9998798943069902\n",
      "F1 Score:  0.9998798822264416\n"
     ]
    }
   ],
   "source": [
    "\n",
    "from sklearn.ensemble import RandomForestClassifier\n",
    "from sklearn.metrics import accuracy_score, precision_score,recall_score, f1_score, confusion_matrix\n",
    "from sklearn.metrics import confusion_matrix\n",
    "\n",
    "X = train_set[[\"remoteness\",\"latitude\" ,\"longitude\",\"Temp_pre_7\",\"Wind_pre_7\",\"Hum_pre_7\",\"Prec_pre_7\"]]\n",
    "#X = train_set[[\"Temp_pre_7\",\"Wind_pre_7\",\"Hum_pre_7\",\"Prec_pre_7\"]]\n",
    "Y = train_set[\"fire_size_class\"]\n",
    "# Y = train_set[\"fire_size\"]\n",
    "\n",
    "rfc = RandomForestClassifier()\n",
    "print(rfc.fit(X,Y))\n",
    "\n",
    "y_pred = rfc.predict(X)\n",
    "c_matrix = confusion_matrix(Y, y_pred)\n",
    "print(\"Confusion Metrix: \")\n",
    "print(c_matrix)\n",
    "\n",
    "print(\"The Evalution metrics are as follows: \")\n",
    "print(\"Accuracy: \", accuracy_score(Y, y_pred))\n",
    "print(\"Precision: \", precision_score(Y, y_pred, average=\"weighted\"))\n",
    "print(\"Sensitivity: \", recall_score(Y, y_pred, average=\"weighted\"))\n",
    "print(\"F1 Score: \", f1_score(Y, y_pred, average=\"weighted\"))\n"
   ]
  },
  {
   "cell_type": "markdown",
   "metadata": {},
   "source": [
    "#### Solved the issue with fire_size\n",
    "A code sample for the fire size  as a target, Removed the \"Unknown label continuous variable  error\" as its not categorical data for the fire_size. \n",
    "\n",
    "Transformed that column using label encoder and transformed, so that we can apply the different classification function."
   ]
  },
  {
   "cell_type": "markdown",
   "metadata": {},
   "source": [
    "### Below are the same code for the Fire_size"
   ]
  },
  {
   "cell_type": "code",
   "execution_count": null,
   "metadata": {},
   "outputs": [],
   "source": [
    "from sklearn.tree import DecisionTreeClassifier\n",
    "from sklearn.metrics import confusion_matrix\n",
    "\n",
    "X = train_set[[\"remoteness\",\"latitude\" ,\"longitude\",\"Temp_pre_7\",\"Wind_pre_7\",\"Hum_pre_7\",\"Prec_pre_7\"]]\n",
    "#X = train_set[[\"Temp_pre_7\",\"Wind_pre_7\",\"Hum_pre_7\",\"Prec_pre_7\"]]\n",
    "\n",
    "Y = train_set[\"fire_size\"]\n",
    "\n",
    "#Transforming the \"unknown lable continuous variable \"error into label encoder and applying for the classification\n",
    "\n",
    "lab = preprocessing.LabelEncoder()\n",
    "y_transformed = lab.fit_transform(Y)\n",
    "\n",
    "tree_classifier = DecisionTreeClassifier().fit(X,y_transformed)\n",
    "print(tree_classifier)\n",
    "\n",
    "y_pred = tree_classifier.predict(X)\n",
    "c_matrix = confusion_matrix(y_transformed, y_pred)\n",
    "print('The confusion Matrix is: ')\n",
    "print(c_matrix)\n",
    "\n",
    "\n",
    "from sklearn.metrics import accuracy_score, precision_score,recall_score, f1_score\n",
    "print(\"The Evalution metrics are as follows: \")\n",
    "print(\"Accuracy: \", accuracy_score(y_transformed, y_pred))\n",
    "print(\"Precision: \", precision_score(y_transformed, y_pred, average=\"weighted\"))\n",
    "print(\"Sensitivity: \", recall_score(y_transformed, y_pred, average=\"weighted\"))\n",
    "print(\"F1 Score: \", f1_score(y_transformed, y_pred, average=\"weighted\"))"
   ]
  }
 ],
 "metadata": {
  "kernelspec": {
   "display_name": "Python 3 (ipykernel)",
   "language": "python",
   "name": "python3"
  },
  "language_info": {
   "codemirror_mode": {
    "name": "ipython",
    "version": 3
   },
   "file_extension": ".py",
   "mimetype": "text/x-python",
   "name": "python",
   "nbconvert_exporter": "python",
   "pygments_lexer": "ipython3",
   "version": "3.9.13"
  },
  "vscode": {
   "interpreter": {
    "hash": "df6a2a6d0a1ae49166107b0c1e3b39e060bb8c0d4d18204cd0b91feeca5995f7"
   }
  }
 },
 "nbformat": 4,
 "nbformat_minor": 2
}
