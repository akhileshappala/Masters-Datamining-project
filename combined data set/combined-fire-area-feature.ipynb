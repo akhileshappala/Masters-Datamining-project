{
 "cells": [
  {
   "cell_type": "code",
   "execution_count": 49,
   "metadata": {},
   "outputs": [],
   "source": [
    "import pandas as pd\n",
    "import numpy as np\n",
    "from sklearn.ensemble import RandomForestClassifier\n",
    "from sklearn.tree import DecisionTreeRegressor\n",
    "from sklearn.ensemble import GradientBoostingRegressor\n",
    "from sklearn.ensemble import RandomForestRegressor\n",
    "from sklearn.model_selection import train_test_split\n",
    "from sklearn.metrics import accuracy_score\n",
    "from sklearn.metrics import mean_absolute_error\n",
    "from sklearn.metrics import r2_score\n",
    "from sklearn.preprocessing import StandardScaler\n",
    "import pandas_profiling\n",
    "import seaborn as sns\n",
    "import matplotlib.pyplot as plt\n",
    "\n"
   ]
  },
  {
   "cell_type": "code",
   "execution_count": 50,
   "metadata": {},
   "outputs": [
    {
     "name": "stdout",
     "output_type": "stream",
     "text": [
      "Requirement already satisfied: pandas-profiling in /opt/conda/lib/python3.10/site-packages (3.5.0)\n",
      "Requirement already satisfied: phik<0.13,>=0.11.1 in /opt/conda/lib/python3.10/site-packages (from pandas-profiling) (0.12.2)\n",
      "Requirement already satisfied: statsmodels<0.14,>=0.13.2 in /opt/conda/lib/python3.10/site-packages (from pandas-profiling) (0.13.2)\n",
      "Requirement already satisfied: visions[type_image_path]==0.7.5 in /opt/conda/lib/python3.10/site-packages (from pandas-profiling) (0.7.5)\n",
      "Requirement already satisfied: typeguard<2.14,>=2.13.2 in /opt/conda/lib/python3.10/site-packages (from pandas-profiling) (2.13.3)\n",
      "Requirement already satisfied: tqdm<4.65,>=4.48.2 in /opt/conda/lib/python3.10/site-packages (from pandas-profiling) (4.64.0)\n",
      "Requirement already satisfied: PyYAML<6.1,>=5.0.0 in /opt/conda/lib/python3.10/site-packages (from pandas-profiling) (6.0)\n",
      "Requirement already satisfied: pydantic<1.11,>=1.8.1 in /opt/conda/lib/python3.10/site-packages (from pandas-profiling) (1.10.2)\n",
      "Requirement already satisfied: scipy<1.10,>=1.4.1 in /opt/conda/lib/python3.10/site-packages (from pandas-profiling) (1.9.0)\n",
      "Requirement already satisfied: jinja2<3.2,>=2.11.1 in /opt/conda/lib/python3.10/site-packages (from pandas-profiling) (3.1.2)\n",
      "Requirement already satisfied: matplotlib<3.7,>=3.2 in /opt/conda/lib/python3.10/site-packages (from pandas-profiling) (3.5.2)\n",
      "Requirement already satisfied: htmlmin==0.1.12 in /opt/conda/lib/python3.10/site-packages (from pandas-profiling) (0.1.12)\n",
      "Requirement already satisfied: numpy<1.24,>=1.16.0 in /opt/conda/lib/python3.10/site-packages (from pandas-profiling) (1.22.4)\n",
      "Requirement already satisfied: multimethod<1.10,>=1.4 in /opt/conda/lib/python3.10/site-packages (from pandas-profiling) (1.9)\n",
      "Requirement already satisfied: pandas!=1.4.0,<1.6,>1.1 in /opt/conda/lib/python3.10/site-packages (from pandas-profiling) (1.4.3)\n",
      "Requirement already satisfied: seaborn<0.13,>=0.10.1 in /opt/conda/lib/python3.10/site-packages (from pandas-profiling) (0.11.2)\n",
      "Requirement already satisfied: requests<2.29,>=2.24.0 in /opt/conda/lib/python3.10/site-packages (from pandas-profiling) (2.28.1)\n",
      "Requirement already satisfied: attrs>=19.3.0 in /opt/conda/lib/python3.10/site-packages (from visions[type_image_path]==0.7.5->pandas-profiling) (22.1.0)\n",
      "Requirement already satisfied: networkx>=2.4 in /opt/conda/lib/python3.10/site-packages (from visions[type_image_path]==0.7.5->pandas-profiling) (2.8.5)\n",
      "Requirement already satisfied: tangled-up-in-unicode>=0.0.4 in /opt/conda/lib/python3.10/site-packages (from visions[type_image_path]==0.7.5->pandas-profiling) (0.2.0)\n",
      "Requirement already satisfied: imagehash in /opt/conda/lib/python3.10/site-packages (from visions[type_image_path]==0.7.5->pandas-profiling) (4.3.1)\n",
      "Requirement already satisfied: Pillow in /opt/conda/lib/python3.10/site-packages (from visions[type_image_path]==0.7.5->pandas-profiling) (9.2.0)\n",
      "Requirement already satisfied: MarkupSafe>=2.0 in /opt/conda/lib/python3.10/site-packages (from jinja2<3.2,>=2.11.1->pandas-profiling) (2.1.1)\n",
      "Requirement already satisfied: packaging>=20.0 in /opt/conda/lib/python3.10/site-packages (from matplotlib<3.7,>=3.2->pandas-profiling) (21.3)\n",
      "Requirement already satisfied: python-dateutil>=2.7 in /opt/conda/lib/python3.10/site-packages (from matplotlib<3.7,>=3.2->pandas-profiling) (2.8.2)\n",
      "Requirement already satisfied: kiwisolver>=1.0.1 in /opt/conda/lib/python3.10/site-packages (from matplotlib<3.7,>=3.2->pandas-profiling) (1.4.4)\n",
      "Requirement already satisfied: fonttools>=4.22.0 in /opt/conda/lib/python3.10/site-packages (from matplotlib<3.7,>=3.2->pandas-profiling) (4.34.4)\n",
      "Requirement already satisfied: cycler>=0.10 in /opt/conda/lib/python3.10/site-packages (from matplotlib<3.7,>=3.2->pandas-profiling) (0.11.0)\n",
      "Requirement already satisfied: pyparsing>=2.2.1 in /opt/conda/lib/python3.10/site-packages (from matplotlib<3.7,>=3.2->pandas-profiling) (3.0.9)\n",
      "Requirement already satisfied: pytz>=2020.1 in /opt/conda/lib/python3.10/site-packages (from pandas!=1.4.0,<1.6,>1.1->pandas-profiling) (2022.2)\n",
      "Requirement already satisfied: joblib>=0.14.1 in /opt/conda/lib/python3.10/site-packages (from phik<0.13,>=0.11.1->pandas-profiling) (1.1.0)\n",
      "Requirement already satisfied: typing-extensions>=4.1.0 in /opt/conda/lib/python3.10/site-packages (from pydantic<1.11,>=1.8.1->pandas-profiling) (4.3.0)\n",
      "Requirement already satisfied: charset-normalizer<3,>=2 in /opt/conda/lib/python3.10/site-packages (from requests<2.29,>=2.24.0->pandas-profiling) (2.1.0)\n",
      "Requirement already satisfied: urllib3<1.27,>=1.21.1 in /opt/conda/lib/python3.10/site-packages (from requests<2.29,>=2.24.0->pandas-profiling) (1.26.11)\n",
      "Requirement already satisfied: certifi>=2017.4.17 in /opt/conda/lib/python3.10/site-packages (from requests<2.29,>=2.24.0->pandas-profiling) (2022.6.15)\n",
      "Requirement already satisfied: idna<4,>=2.5 in /opt/conda/lib/python3.10/site-packages (from requests<2.29,>=2.24.0->pandas-profiling) (3.3)\n",
      "Requirement already satisfied: patsy>=0.5.2 in /opt/conda/lib/python3.10/site-packages (from statsmodels<0.14,>=0.13.2->pandas-profiling) (0.5.2)\n",
      "Requirement already satisfied: six in /opt/conda/lib/python3.10/site-packages (from patsy>=0.5.2->statsmodels<0.14,>=0.13.2->pandas-profiling) (1.16.0)\n",
      "Requirement already satisfied: PyWavelets in /opt/conda/lib/python3.10/site-packages (from imagehash->visions[type_image_path]==0.7.5->pandas-profiling) (1.3.0)\n"
     ]
    }
   ],
   "source": [
    "!pip install pandas-profiling"
   ]
  },
  {
   "cell_type": "code",
   "execution_count": 51,
   "metadata": {},
   "outputs": [
    {
     "name": "stdout",
     "output_type": "stream",
     "text": [
      "Requirement already satisfied: plotly in /opt/conda/lib/python3.10/site-packages (5.11.0)\n",
      "Requirement already satisfied: tenacity>=6.2.0 in /opt/conda/lib/python3.10/site-packages (from plotly) (8.1.0)\n"
     ]
    }
   ],
   "source": [
    "!pip install plotly"
   ]
  },
  {
   "cell_type": "code",
   "execution_count": 52,
   "metadata": {},
   "outputs": [
    {
     "data": {
      "text/plain": [
       "fire_size           float64\n",
       "stat_cause_descr     object\n",
       "latitude            float64\n",
       "longitude           float64\n",
       "Vegetation            int64\n",
       "Temp_pre_30         float64\n",
       "Temp_pre_15         float64\n",
       "Temp_pre_7          float64\n",
       "Temp_cont           float64\n",
       "Wind_pre_30         float64\n",
       "Wind_pre_15         float64\n",
       "Wind_pre_7          float64\n",
       "Wind_cont           float64\n",
       "Hum_pre_30          float64\n",
       "Hum_pre_15          float64\n",
       "Hum_pre_7           float64\n",
       "Hum_cont            float64\n",
       "Prec_pre_30         float64\n",
       "Prec_pre_15         float64\n",
       "Prec_pre_7          float64\n",
       "Prec_cont           float64\n",
       "remoteness          float64\n",
       "dtype: object"
      ]
     },
     "execution_count": 52,
     "metadata": {},
     "output_type": "execute_result"
    }
   ],
   "source": [
    "# Reading the combined CSV files\n",
    "df = pd.read_csv('Wildfire.csv')\n",
    "df = df.drop(columns=['fire_name','Unnamed: 0', 'Unnamed: 0.1','disc_date_final','cont_date_final','cont_clean_date','putout_time', 'fire_size_class', 'fire_mag', 'weather_file', 'state'])\n",
    "df = df.drop(columns=['disc_clean_date', 'discovery_month', 'disc_date_pre', 'disc_pre_year', 'disc_pre_month']) # drop date columns\n",
    "df = df.drop(columns=['wstation_usaf', 'dstation_m', 'wstation_wban', 'wstation_byear', 'wstation_eyear']) # drop station columns\n",
    "\n",
    "#Get rid of outliers - fires of size larger than 5000 acres, and there are large number of small fires and other very less number are having the high \n",
    "# area of fires, because of which the deviation is very high\n",
    "df = df.loc[df['fire_size'] < 5000]\n",
    "df.columns\n",
    "df.dtypes"
   ]
  },
  {
   "cell_type": "code",
   "execution_count": 53,
   "metadata": {},
   "outputs": [
    {
     "data": {
      "application/vnd.jupyter.widget-view+json": {
       "model_id": "aa68614499564a07a3efbff2a4cbc165",
       "version_major": 2,
       "version_minor": 0
      },
      "text/plain": [
       "Summarize dataset:   0%|          | 0/5 [00:00<?, ?it/s]"
      ]
     },
     "metadata": {},
     "output_type": "display_data"
    },
    {
     "data": {
      "application/vnd.jupyter.widget-view+json": {
       "model_id": "fcbe6534df6a4a5ab99be546b80c9710",
       "version_major": 2,
       "version_minor": 0
      },
      "text/plain": [
       "Generate report structure:   0%|          | 0/1 [00:00<?, ?it/s]"
      ]
     },
     "metadata": {},
     "output_type": "display_data"
    },
    {
     "data": {
      "application/vnd.jupyter.widget-view+json": {
       "model_id": "f9d5f8bb80f041a1b9aa13b32ec1bb4e",
       "version_major": 2,
       "version_minor": 0
      },
      "text/plain": [
       "Render HTML:   0%|          | 0/1 [00:00<?, ?it/s]"
      ]
     },
     "metadata": {},
     "output_type": "display_data"
    },
    {
     "data": {
      "application/vnd.jupyter.widget-view+json": {
       "model_id": "030cb4d03f2949eb87a00f2cd12e4c2e",
       "version_major": 2,
       "version_minor": 0
      },
      "text/plain": [
       "Export report to file:   0%|          | 0/1 [00:00<?, ?it/s]"
      ]
     },
     "metadata": {},
     "output_type": "display_data"
    }
   ],
   "source": [
    "profile = pandas_profiling.ProfileReport(df)\n",
    "profile.to_file(\"Combined_Profile.html\")"
   ]
  },
  {
   "cell_type": "code",
<<<<<<< Updated upstream
   "execution_count": 54,
=======
   "execution_count": 7,
>>>>>>> Stashed changes
   "metadata": {},
   "outputs": [
    {
     "data": {
      "text/plain": [
       "array(['Missing/Undefined', 'Arson', 'Debris Burning', 'Miscellaneous',\n",
       "       'Campfire', 'Fireworks', 'Children', 'Lightning', 'Equipment Use',\n",
       "       'Smoking', 'Railroad', 'Structure', 'Powerline'], dtype=object)"
      ]
     },
<<<<<<< Updated upstream
     "execution_count": 54,
=======
     "execution_count": 7,
>>>>>>> Stashed changes
     "metadata": {},
     "output_type": "execute_result"
    }
   ],
   "source": [
    "df['stat_cause_descr'].unique()"
   ]
  },
  {
   "cell_type": "code",
<<<<<<< Updated upstream
   "execution_count": 55,
=======
   "execution_count": 3,
>>>>>>> Stashed changes
   "metadata": {},
   "outputs": [
    {
     "data": {
      "text/html": [
       "<div>\n",
       "<style scoped>\n",
       "    .dataframe tbody tr th:only-of-type {\n",
       "        vertical-align: middle;\n",
       "    }\n",
       "\n",
       "    .dataframe tbody tr th {\n",
       "        vertical-align: top;\n",
       "    }\n",
       "\n",
       "    .dataframe thead th {\n",
       "        text-align: right;\n",
       "    }\n",
       "</style>\n",
       "<table border=\"1\" class=\"dataframe\">\n",
       "  <thead>\n",
       "    <tr style=\"text-align: right;\">\n",
       "      <th></th>\n",
       "      <th>fire_size</th>\n",
       "      <th>stat_cause_descr</th>\n",
       "      <th>latitude</th>\n",
       "      <th>longitude</th>\n",
       "      <th>Vegetation</th>\n",
       "      <th>Temp_pre_30</th>\n",
       "      <th>Temp_pre_15</th>\n",
       "      <th>Temp_pre_7</th>\n",
       "      <th>Temp_cont</th>\n",
       "      <th>Wind_pre_30</th>\n",
       "      <th>...</th>\n",
       "      <th>Wind_cont</th>\n",
       "      <th>Hum_pre_30</th>\n",
       "      <th>Hum_pre_15</th>\n",
       "      <th>Hum_pre_7</th>\n",
       "      <th>Hum_cont</th>\n",
       "      <th>Prec_pre_30</th>\n",
       "      <th>Prec_pre_15</th>\n",
       "      <th>Prec_pre_7</th>\n",
       "      <th>Prec_cont</th>\n",
       "      <th>remoteness</th>\n",
       "    </tr>\n",
       "  </thead>\n",
       "  <tbody>\n",
       "    <tr>\n",
       "      <th>1</th>\n",
       "      <td>3.0</td>\n",
       "      <td>1.0</td>\n",
       "      <td>35.03833</td>\n",
       "      <td>-87.6100</td>\n",
       "      <td>15</td>\n",
       "      <td>7.553433</td>\n",
       "      <td>7.010000</td>\n",
       "      <td>0.343529</td>\n",
       "      <td>10.448298</td>\n",
       "      <td>2.709764</td>\n",
       "      <td>...</td>\n",
       "      <td>2.122320</td>\n",
       "      <td>70.840000</td>\n",
       "      <td>65.858911</td>\n",
       "      <td>55.505882</td>\n",
       "      <td>81.682678</td>\n",
       "      <td>59.8</td>\n",
       "      <td>8.4</td>\n",
       "      <td>0.0</td>\n",
       "      <td>86.8</td>\n",
       "      <td>0.184355</td>\n",
       "    </tr>\n",
       "    <tr>\n",
       "      <th>3</th>\n",
       "      <td>1.0</td>\n",
       "      <td>2.0</td>\n",
       "      <td>39.64140</td>\n",
       "      <td>-119.3083</td>\n",
       "      <td>0</td>\n",
       "      <td>16.275967</td>\n",
       "      <td>18.996181</td>\n",
       "      <td>18.142564</td>\n",
       "      <td>0.000000</td>\n",
       "      <td>4.054982</td>\n",
       "      <td>...</td>\n",
       "      <td>0.000000</td>\n",
       "      <td>44.778429</td>\n",
       "      <td>37.140811</td>\n",
       "      <td>35.353846</td>\n",
       "      <td>0.000000</td>\n",
       "      <td>10.4</td>\n",
       "      <td>7.2</td>\n",
       "      <td>0.0</td>\n",
       "      <td>0.0</td>\n",
       "      <td>0.487447</td>\n",
       "    </tr>\n",
       "    <tr>\n",
       "      <th>4</th>\n",
       "      <td>2.0</td>\n",
       "      <td>3.0</td>\n",
       "      <td>30.70060</td>\n",
       "      <td>-90.5914</td>\n",
       "      <td>12</td>\n",
       "      <td>-1.000000</td>\n",
       "      <td>-1.000000</td>\n",
       "      <td>-1.000000</td>\n",
       "      <td>-1.000000</td>\n",
       "      <td>-1.000000</td>\n",
       "      <td>...</td>\n",
       "      <td>-1.000000</td>\n",
       "      <td>-1.000000</td>\n",
       "      <td>-1.000000</td>\n",
       "      <td>-1.000000</td>\n",
       "      <td>-1.000000</td>\n",
       "      <td>-1.0</td>\n",
       "      <td>-1.0</td>\n",
       "      <td>-1.0</td>\n",
       "      <td>-1.0</td>\n",
       "      <td>0.214633</td>\n",
       "    </tr>\n",
       "    <tr>\n",
       "      <th>5</th>\n",
       "      <td>1.0</td>\n",
       "      <td>2.0</td>\n",
       "      <td>32.06390</td>\n",
       "      <td>-82.4178</td>\n",
       "      <td>12</td>\n",
       "      <td>-1.000000</td>\n",
       "      <td>-1.000000</td>\n",
       "      <td>-1.000000</td>\n",
       "      <td>-1.000000</td>\n",
       "      <td>-1.000000</td>\n",
       "      <td>...</td>\n",
       "      <td>-1.000000</td>\n",
       "      <td>-1.000000</td>\n",
       "      <td>-1.000000</td>\n",
       "      <td>-1.000000</td>\n",
       "      <td>-1.000000</td>\n",
       "      <td>-1.0</td>\n",
       "      <td>-1.0</td>\n",
       "      <td>-1.0</td>\n",
       "      <td>-1.0</td>\n",
       "      <td>0.139643</td>\n",
       "    </tr>\n",
       "    <tr>\n",
       "      <th>7</th>\n",
       "      <td>1.0</td>\n",
       "      <td>4.0</td>\n",
       "      <td>30.90472</td>\n",
       "      <td>-93.5575</td>\n",
       "      <td>12</td>\n",
       "      <td>16.851939</td>\n",
       "      <td>16.997783</td>\n",
       "      <td>20.434783</td>\n",
       "      <td>11.985560</td>\n",
       "      <td>1.331257</td>\n",
       "      <td>...</td>\n",
       "      <td>2.148857</td>\n",
       "      <td>72.899478</td>\n",
       "      <td>75.061381</td>\n",
       "      <td>77.924623</td>\n",
       "      <td>70.732911</td>\n",
       "      <td>28.4</td>\n",
       "      <td>27.5</td>\n",
       "      <td>1.2</td>\n",
       "      <td>55.4</td>\n",
       "      <td>0.241894</td>\n",
       "    </tr>\n",
       "  </tbody>\n",
       "</table>\n",
       "<p>5 rows × 22 columns</p>\n",
       "</div>"
      ],
      "text/plain": [
       "   fire_size  stat_cause_descr  latitude  longitude  Vegetation  Temp_pre_30  \\\n",
       "1        3.0               1.0  35.03833   -87.6100          15     7.553433   \n",
       "3        1.0               2.0  39.64140  -119.3083           0    16.275967   \n",
       "4        2.0               3.0  30.70060   -90.5914          12    -1.000000   \n",
       "5        1.0               2.0  32.06390   -82.4178          12    -1.000000   \n",
       "7        1.0               4.0  30.90472   -93.5575          12    16.851939   \n",
       "\n",
       "   Temp_pre_15  Temp_pre_7  Temp_cont  Wind_pre_30  ...  Wind_cont  \\\n",
       "1     7.010000    0.343529  10.448298     2.709764  ...   2.122320   \n",
       "3    18.996181   18.142564   0.000000     4.054982  ...   0.000000   \n",
       "4    -1.000000   -1.000000  -1.000000    -1.000000  ...  -1.000000   \n",
       "5    -1.000000   -1.000000  -1.000000    -1.000000  ...  -1.000000   \n",
       "7    16.997783   20.434783  11.985560     1.331257  ...   2.148857   \n",
       "\n",
       "   Hum_pre_30  Hum_pre_15  Hum_pre_7   Hum_cont  Prec_pre_30  Prec_pre_15  \\\n",
       "1   70.840000   65.858911  55.505882  81.682678         59.8          8.4   \n",
       "3   44.778429   37.140811  35.353846   0.000000         10.4          7.2   \n",
       "4   -1.000000   -1.000000  -1.000000  -1.000000         -1.0         -1.0   \n",
       "5   -1.000000   -1.000000  -1.000000  -1.000000         -1.0         -1.0   \n",
       "7   72.899478   75.061381  77.924623  70.732911         28.4         27.5   \n",
       "\n",
       "   Prec_pre_7  Prec_cont  remoteness  \n",
       "1         0.0       86.8    0.184355  \n",
       "3         0.0        0.0    0.487447  \n",
       "4        -1.0       -1.0    0.214633  \n",
       "5        -1.0       -1.0    0.139643  \n",
       "7         1.2       55.4    0.241894  \n",
       "\n",
       "[5 rows x 22 columns]"
      ]
     },
<<<<<<< Updated upstream
     "execution_count": 55,
=======
     "execution_count": 3,
>>>>>>> Stashed changes
     "metadata": {},
     "output_type": "execute_result"
    }
   ],
   "source": [
    "cause_encoded_dist = {\n",
    "    'Missing/Undefined':0, \n",
    "    'Arson':1, \n",
    "    'Debris Burning':2, \n",
    "    'Miscellaneous':3,\n",
    "    'Campfire':4, \n",
    "    'Fireworks':5, \n",
    "    'Children':6, \n",
    "    'Lightning':7, \n",
    "    'Equipment Use':8,\n",
    "    'Smoking':9, \n",
    "    'Railroad':10, \n",
    "    'Structure':11, \n",
    "    'Powerline':12\n",
    "}\n",
    "\n",
    "# Encode categorical values to numeric\n",
    "df['stat_cause_descr'] = df['stat_cause_descr'].apply(lambda x: cause_encoded_dist[x]).astype(np.number)\n",
    "df.head()"
   ]
  },
  {
   "cell_type": "code",
   "execution_count": 56,
   "metadata": {},
   "outputs": [],
   "source": [
    "# df = pd.get_dummies(df, prefix=['Cause'], columns = ['stat_cause_descr'], drop_first=True)"
   ]
  },
  {
   "cell_type": "code",
   "execution_count": 57,
   "metadata": {},
   "outputs": [
    {
     "data": {
      "text/html": [
       "<div>\n",
       "<style scoped>\n",
       "    .dataframe tbody tr th:only-of-type {\n",
       "        vertical-align: middle;\n",
       "    }\n",
       "\n",
       "    .dataframe tbody tr th {\n",
       "        vertical-align: top;\n",
       "    }\n",
       "\n",
       "    .dataframe thead th {\n",
       "        text-align: right;\n",
       "    }\n",
       "</style>\n",
       "<table border=\"1\" class=\"dataframe\">\n",
       "  <thead>\n",
       "    <tr style=\"text-align: right;\">\n",
       "      <th></th>\n",
       "      <th>fire_size</th>\n",
       "      <th>stat_cause_descr</th>\n",
       "      <th>latitude</th>\n",
       "      <th>longitude</th>\n",
       "      <th>Vegetation</th>\n",
       "      <th>Temp_pre_30</th>\n",
       "      <th>Temp_pre_15</th>\n",
       "      <th>Temp_pre_7</th>\n",
       "      <th>Temp_cont</th>\n",
       "      <th>Wind_pre_30</th>\n",
       "      <th>...</th>\n",
       "      <th>Wind_cont</th>\n",
       "      <th>Hum_pre_30</th>\n",
       "      <th>Hum_pre_15</th>\n",
       "      <th>Hum_pre_7</th>\n",
       "      <th>Hum_cont</th>\n",
       "      <th>Prec_pre_30</th>\n",
       "      <th>Prec_pre_15</th>\n",
       "      <th>Prec_pre_7</th>\n",
       "      <th>Prec_cont</th>\n",
       "      <th>remoteness</th>\n",
       "    </tr>\n",
       "  </thead>\n",
       "  <tbody>\n",
       "    <tr>\n",
       "      <th>1</th>\n",
       "      <td>3.0</td>\n",
       "      <td>1.0</td>\n",
       "      <td>35.03833</td>\n",
       "      <td>-87.6100</td>\n",
       "      <td>15</td>\n",
       "      <td>7.553433</td>\n",
       "      <td>7.010000</td>\n",
       "      <td>0.343529</td>\n",
       "      <td>10.448298</td>\n",
       "      <td>2.709764</td>\n",
       "      <td>...</td>\n",
       "      <td>2.122320</td>\n",
       "      <td>70.840000</td>\n",
       "      <td>65.858911</td>\n",
       "      <td>55.505882</td>\n",
       "      <td>81.682678</td>\n",
       "      <td>59.8</td>\n",
       "      <td>8.4</td>\n",
       "      <td>0.0</td>\n",
       "      <td>86.8</td>\n",
       "      <td>0.184355</td>\n",
       "    </tr>\n",
       "    <tr>\n",
       "      <th>3</th>\n",
       "      <td>1.0</td>\n",
       "      <td>2.0</td>\n",
       "      <td>39.64140</td>\n",
       "      <td>-119.3083</td>\n",
       "      <td>0</td>\n",
       "      <td>16.275967</td>\n",
       "      <td>18.996181</td>\n",
       "      <td>18.142564</td>\n",
       "      <td>0.000000</td>\n",
       "      <td>4.054982</td>\n",
       "      <td>...</td>\n",
       "      <td>0.000000</td>\n",
       "      <td>44.778429</td>\n",
       "      <td>37.140811</td>\n",
       "      <td>35.353846</td>\n",
       "      <td>0.000000</td>\n",
       "      <td>10.4</td>\n",
       "      <td>7.2</td>\n",
       "      <td>0.0</td>\n",
       "      <td>0.0</td>\n",
       "      <td>0.487447</td>\n",
       "    </tr>\n",
       "    <tr>\n",
       "      <th>4</th>\n",
       "      <td>2.0</td>\n",
       "      <td>3.0</td>\n",
       "      <td>30.70060</td>\n",
       "      <td>-90.5914</td>\n",
       "      <td>12</td>\n",
       "      <td>-1.000000</td>\n",
       "      <td>-1.000000</td>\n",
       "      <td>-1.000000</td>\n",
       "      <td>-1.000000</td>\n",
       "      <td>-1.000000</td>\n",
       "      <td>...</td>\n",
       "      <td>-1.000000</td>\n",
       "      <td>-1.000000</td>\n",
       "      <td>-1.000000</td>\n",
       "      <td>-1.000000</td>\n",
       "      <td>-1.000000</td>\n",
       "      <td>-1.0</td>\n",
       "      <td>-1.0</td>\n",
       "      <td>-1.0</td>\n",
       "      <td>-1.0</td>\n",
       "      <td>0.214633</td>\n",
       "    </tr>\n",
       "    <tr>\n",
       "      <th>5</th>\n",
       "      <td>1.0</td>\n",
       "      <td>2.0</td>\n",
       "      <td>32.06390</td>\n",
       "      <td>-82.4178</td>\n",
       "      <td>12</td>\n",
       "      <td>-1.000000</td>\n",
       "      <td>-1.000000</td>\n",
       "      <td>-1.000000</td>\n",
       "      <td>-1.000000</td>\n",
       "      <td>-1.000000</td>\n",
       "      <td>...</td>\n",
       "      <td>-1.000000</td>\n",
       "      <td>-1.000000</td>\n",
       "      <td>-1.000000</td>\n",
       "      <td>-1.000000</td>\n",
       "      <td>-1.000000</td>\n",
       "      <td>-1.0</td>\n",
       "      <td>-1.0</td>\n",
       "      <td>-1.0</td>\n",
       "      <td>-1.0</td>\n",
       "      <td>0.139643</td>\n",
       "    </tr>\n",
       "    <tr>\n",
       "      <th>7</th>\n",
       "      <td>1.0</td>\n",
       "      <td>4.0</td>\n",
       "      <td>30.90472</td>\n",
       "      <td>-93.5575</td>\n",
       "      <td>12</td>\n",
       "      <td>16.851939</td>\n",
       "      <td>16.997783</td>\n",
       "      <td>20.434783</td>\n",
       "      <td>11.985560</td>\n",
       "      <td>1.331257</td>\n",
       "      <td>...</td>\n",
       "      <td>2.148857</td>\n",
       "      <td>72.899478</td>\n",
       "      <td>75.061381</td>\n",
       "      <td>77.924623</td>\n",
       "      <td>70.732911</td>\n",
       "      <td>28.4</td>\n",
       "      <td>27.5</td>\n",
       "      <td>1.2</td>\n",
       "      <td>55.4</td>\n",
       "      <td>0.241894</td>\n",
       "    </tr>\n",
       "  </tbody>\n",
       "</table>\n",
       "<p>5 rows × 22 columns</p>\n",
       "</div>"
      ],
      "text/plain": [
       "   fire_size  stat_cause_descr  latitude  longitude  Vegetation  Temp_pre_30  \\\n",
       "1        3.0               1.0  35.03833   -87.6100          15     7.553433   \n",
       "3        1.0               2.0  39.64140  -119.3083           0    16.275967   \n",
       "4        2.0               3.0  30.70060   -90.5914          12    -1.000000   \n",
       "5        1.0               2.0  32.06390   -82.4178          12    -1.000000   \n",
       "7        1.0               4.0  30.90472   -93.5575          12    16.851939   \n",
       "\n",
       "   Temp_pre_15  Temp_pre_7  Temp_cont  Wind_pre_30  ...  Wind_cont  \\\n",
       "1     7.010000    0.343529  10.448298     2.709764  ...   2.122320   \n",
       "3    18.996181   18.142564   0.000000     4.054982  ...   0.000000   \n",
       "4    -1.000000   -1.000000  -1.000000    -1.000000  ...  -1.000000   \n",
       "5    -1.000000   -1.000000  -1.000000    -1.000000  ...  -1.000000   \n",
       "7    16.997783   20.434783  11.985560     1.331257  ...   2.148857   \n",
       "\n",
       "   Hum_pre_30  Hum_pre_15  Hum_pre_7   Hum_cont  Prec_pre_30  Prec_pre_15  \\\n",
       "1   70.840000   65.858911  55.505882  81.682678         59.8          8.4   \n",
       "3   44.778429   37.140811  35.353846   0.000000         10.4          7.2   \n",
       "4   -1.000000   -1.000000  -1.000000  -1.000000         -1.0         -1.0   \n",
       "5   -1.000000   -1.000000  -1.000000  -1.000000         -1.0         -1.0   \n",
       "7   72.899478   75.061381  77.924623  70.732911         28.4         27.5   \n",
       "\n",
       "   Prec_pre_7  Prec_cont  remoteness  \n",
       "1         0.0       86.8    0.184355  \n",
       "3         0.0        0.0    0.487447  \n",
       "4        -1.0       -1.0    0.214633  \n",
       "5        -1.0       -1.0    0.139643  \n",
       "7         1.2       55.4    0.241894  \n",
       "\n",
       "[5 rows x 22 columns]"
      ]
     },
     "execution_count": 57,
     "metadata": {},
     "output_type": "execute_result"
    }
   ],
   "source": [
    "df.head()"
   ]
  },
  {
   "cell_type": "code",
<<<<<<< Updated upstream
   "execution_count": 58,
   "metadata": {},
   "outputs": [],
   "source": [
    "# X = df.drop(columns=['fire_size'])\n",
    "# Y = df['fire_size']\n",
    "\n",
    "X = df.drop(columns=['stat_cause_descr'])\n",
    "Y = df['stat_cause_descr']\n",
    "\n",
    "\n",
    "X_train, X_test, y_train, y_test = train_test_split(X, Y, test_size=0.4, random_state=32)"
=======
   "execution_count": 3,
   "metadata": {},
   "outputs": [],
   "source": [
    "# Use subset df with cont columns\n",
    "df_cont = df[['fire_size', 'latitude', 'longitude', 'Vegetation', 'Temp_cont', 'Wind_cont', 'Hum_cont', 'Prec_cont', 'remoteness']]\n",
    "df_pre_7 = df[['fire_size', 'latitude', 'longitude', 'Vegetation', 'Temp_pre_7', 'Wind_pre_7', 'Hum_pre_7', 'Prec_pre_7', 'remoteness']]\n",
    "df_pre_15 = df[['fire_size', 'latitude', 'longitude', 'Vegetation', 'Temp_pre_15', 'Wind_pre_15', 'Hum_pre_15', 'Hum_pre_15', 'remoteness']]\n",
    "df_pre_30 = df[['fire_size', 'latitude', 'longitude', 'Vegetation', 'Temp_pre_30', 'Wind_pre_30', 'Hum_pre_30', 'Hum_pre_30', 'remoteness']]\n"
   ]
  },
  {
   "cell_type": "code",
   "execution_count": 4,
   "metadata": {},
   "outputs": [],
   "source": [
    "df_dummies_X = df_pre_7"
   ]
  },
  {
   "cell_type": "code",
   "execution_count": 13,
   "metadata": {},
   "outputs": [],
   "source": [
    "# df_dummies_X = df_pre_7.drop(columns=['stat_cause_descr'])\n",
    "df_dummies_X = pd.get_dummies(df_dummies_X)\n",
    "X = df_dummies_X\n",
    "Y = df['stat_cause_descr']"
   ]
  },
  {
   "cell_type": "code",
   "execution_count": 5,
   "metadata": {},
   "outputs": [],
   "source": [
    "X = df_dummies_X.drop(columns=['fire_size'])\n",
    "Y = df['fire_size']"
   ]
  },
  {
   "cell_type": "code",
   "execution_count": null,
   "metadata": {},
   "outputs": [],
   "source": [
    "X = df_dummies_X.drop(columns=['stat_cause_descr'])\n",
    "Y = df['stat_cause_descr']"
   ]
  },
  {
   "cell_type": "code",
   "execution_count": 6,
   "metadata": {},
   "outputs": [],
   "source": [
    "X_train, X_test, y_train, y_test = train_test_split(X, Y, test_size=0.15, random_state=50)"
>>>>>>> Stashed changes
   ]
  },
  {
   "cell_type": "code",
   "execution_count": 59,
   "metadata": {},
   "outputs": [],
   "source": [
    "sc = StandardScaler()\n",
    "sc.fit(X_train)\n",
    "X_train_std = sc.transform(X_train)\n",
    "X_test_std = sc.transform(X_test)"
   ]
  },
  {
   "cell_type": "code",
   "execution_count": 60,
   "metadata": {},
   "outputs": [],
   "source": [
    "from sklearn.decomposition import PCA\n",
    "pca = PCA()\n",
    "#\n",
    "# Determine transformed features\n",
    "#\n",
    "X_train_pca = pca.fit_transform(X_train_std)\n",
    "X_test_pca = pca.transform(X_test_std)"
   ]
  },
  {
   "cell_type": "code",
   "execution_count": 61,
   "metadata": {},
   "outputs": [
    {
     "data": {
      "text/plain": [
       "array([[ 3.05940195e+00,  1.71067847e+00, -7.44871086e-01, ...,\n",
       "        -9.93914212e-03,  1.93522493e-01,  1.45648868e-02],\n",
       "       [-4.16061218e+00,  2.01230491e+00, -2.46535645e+00, ...,\n",
       "         2.46406930e-03, -1.12891921e-02,  1.01170130e-01],\n",
       "       [ 1.36568091e+00, -1.70725933e+00,  1.77483229e+00, ...,\n",
       "         2.97572127e-01,  2.37056608e-01, -2.15421201e-02],\n",
       "       ...,\n",
       "       [ 2.17418227e+00,  3.25714029e+00,  1.69010300e+00, ...,\n",
       "        -8.89466737e-02, -3.21909021e-02, -2.63064987e-03],\n",
       "       [ 3.78121431e+00, -1.21051960e+00, -6.12727296e-01, ...,\n",
       "         8.02338330e-02,  1.03349598e-01, -2.35738015e-02],\n",
       "       [-2.23792344e+00,  7.14857263e-01, -4.36250541e-01, ...,\n",
       "         6.53066058e-01, -5.38715160e-02,  4.56874181e-02]])"
      ]
     },
     "execution_count": 61,
     "metadata": {},
     "output_type": "execute_result"
    }
   ],
   "source": [
    "X_train_pca"
   ]
  },
  {
   "cell_type": "code",
   "execution_count": 62,
   "metadata": {},
   "outputs": [
    {
     "data": {
      "text/plain": [
       "array([[-4.14377636e+00,  2.44868894e-01,  1.16303886e-02, ...,\n",
       "         6.79315070e-03,  1.25965267e-04, -1.59194516e-02],\n",
       "       [ 4.41663250e+00,  1.61158938e+00,  1.34305573e+00, ...,\n",
       "        -1.12397336e-02, -2.86926517e-02, -2.24102011e-02],\n",
       "       [-4.02574060e+00, -1.54323377e+00,  1.64587570e+00, ...,\n",
       "        -1.92261532e-03,  2.12448155e-03, -2.96600630e-02],\n",
       "       ...,\n",
       "       [-4.12154737e+00,  7.28569901e-01, -8.07230116e-01, ...,\n",
       "         2.73801667e-03, -1.13929145e-03,  4.38132912e-03],\n",
       "       [ 3.17140998e-01,  8.56550518e-01, -9.60051634e-01, ...,\n",
       "        -5.85977167e-02, -9.41601043e-02,  1.23133628e-02],\n",
       "       [ 1.39363894e+00,  2.14202254e-01, -1.14376786e+00, ...,\n",
       "        -1.89842289e-02, -6.48629174e-02, -7.35114941e-03]])"
      ]
     },
     "execution_count": 62,
     "metadata": {},
     "output_type": "execute_result"
    }
   ],
   "source": [
    "X_test_pca"
   ]
  },
  {
   "cell_type": "code",
   "execution_count": 63,
   "metadata": {},
   "outputs": [
    {
     "data": {
      "application/vnd.plotly.v1+json": {
       "config": {
        "plotlyServerURL": "https://plot.ly"
       },
       "data": [
        {
         "fillpattern": {
          "shape": ""
         },
         "hovertemplate": "# Components=%{x}<br>Explained Variance=%{y}<extra></extra>",
         "legendgroup": "",
         "line": {
          "color": "#636efa"
         },
         "marker": {
          "symbol": "circle"
         },
         "mode": "lines",
         "name": "",
         "orientation": "v",
         "showlegend": false,
         "stackgroup": "1",
         "type": "scatter",
         "x": [
          1,
          2,
          3,
          4,
          5,
          6,
          7,
          8,
          9,
          10,
          11,
          12,
          13,
          14,
          15,
          16,
          17,
          18,
          19,
          20,
          21,
          22
         ],
         "xaxis": "x",
         "y": [
          0.6398245040296131,
          0.7926656258310678,
          0.8864806379472594,
          0.9480942688419755,
          0.9677047125609284,
          0.9781166757725137,
          0.9868033923846103,
          0.9920696952415926,
          0.9957976776720611,
          0.996866432150215,
          0.9978953405606057,
          0.9987570367005927,
          0.9993133772227778,
          0.9995761763732012,
          0.9997633828633917,
          0.9999075939483887,
          0.9999548034428514,
          0.9999746908641589,
          0.9999899177715262,
          0.9999975171206307,
          0.9999999988101987,
          0.9999999999999998
         ],
         "yaxis": "y"
        }
       ],
       "layout": {
        "autosize": true,
        "legend": {
         "tracegroupgap": 0
        },
        "margin": {
         "t": 60
        },
        "template": {
         "data": {
          "bar": [
           {
            "error_x": {
             "color": "#2a3f5f"
            },
            "error_y": {
             "color": "#2a3f5f"
            },
            "marker": {
             "line": {
              "color": "#E5ECF6",
              "width": 0.5
             },
             "pattern": {
              "fillmode": "overlay",
              "size": 10,
              "solidity": 0.2
             }
            },
            "type": "bar"
           }
          ],
          "barpolar": [
           {
            "marker": {
             "line": {
              "color": "#E5ECF6",
              "width": 0.5
             },
             "pattern": {
              "fillmode": "overlay",
              "size": 10,
              "solidity": 0.2
             }
            },
            "type": "barpolar"
           }
          ],
          "carpet": [
           {
            "aaxis": {
             "endlinecolor": "#2a3f5f",
             "gridcolor": "white",
             "linecolor": "white",
             "minorgridcolor": "white",
             "startlinecolor": "#2a3f5f"
            },
            "baxis": {
             "endlinecolor": "#2a3f5f",
             "gridcolor": "white",
             "linecolor": "white",
             "minorgridcolor": "white",
             "startlinecolor": "#2a3f5f"
            },
            "type": "carpet"
           }
          ],
          "choropleth": [
           {
            "colorbar": {
             "outlinewidth": 0,
             "ticks": ""
            },
            "type": "choropleth"
           }
          ],
          "contour": [
           {
            "colorbar": {
             "outlinewidth": 0,
             "ticks": ""
            },
            "colorscale": [
             [
              0,
              "#0d0887"
             ],
             [
              0.1111111111111111,
              "#46039f"
             ],
             [
              0.2222222222222222,
              "#7201a8"
             ],
             [
              0.3333333333333333,
              "#9c179e"
             ],
             [
              0.4444444444444444,
              "#bd3786"
             ],
             [
              0.5555555555555556,
              "#d8576b"
             ],
             [
              0.6666666666666666,
              "#ed7953"
             ],
             [
              0.7777777777777778,
              "#fb9f3a"
             ],
             [
              0.8888888888888888,
              "#fdca26"
             ],
             [
              1,
              "#f0f921"
             ]
            ],
            "type": "contour"
           }
          ],
          "contourcarpet": [
           {
            "colorbar": {
             "outlinewidth": 0,
             "ticks": ""
            },
            "type": "contourcarpet"
           }
          ],
          "heatmap": [
           {
            "colorbar": {
             "outlinewidth": 0,
             "ticks": ""
            },
            "colorscale": [
             [
              0,
              "#0d0887"
             ],
             [
              0.1111111111111111,
              "#46039f"
             ],
             [
              0.2222222222222222,
              "#7201a8"
             ],
             [
              0.3333333333333333,
              "#9c179e"
             ],
             [
              0.4444444444444444,
              "#bd3786"
             ],
             [
              0.5555555555555556,
              "#d8576b"
             ],
             [
              0.6666666666666666,
              "#ed7953"
             ],
             [
              0.7777777777777778,
              "#fb9f3a"
             ],
             [
              0.8888888888888888,
              "#fdca26"
             ],
             [
              1,
              "#f0f921"
             ]
            ],
            "type": "heatmap"
           }
          ],
          "heatmapgl": [
           {
            "colorbar": {
             "outlinewidth": 0,
             "ticks": ""
            },
            "colorscale": [
             [
              0,
              "#0d0887"
             ],
             [
              0.1111111111111111,
              "#46039f"
             ],
             [
              0.2222222222222222,
              "#7201a8"
             ],
             [
              0.3333333333333333,
              "#9c179e"
             ],
             [
              0.4444444444444444,
              "#bd3786"
             ],
             [
              0.5555555555555556,
              "#d8576b"
             ],
             [
              0.6666666666666666,
              "#ed7953"
             ],
             [
              0.7777777777777778,
              "#fb9f3a"
             ],
             [
              0.8888888888888888,
              "#fdca26"
             ],
             [
              1,
              "#f0f921"
             ]
            ],
            "type": "heatmapgl"
           }
          ],
          "histogram": [
           {
            "marker": {
             "pattern": {
              "fillmode": "overlay",
              "size": 10,
              "solidity": 0.2
             }
            },
            "type": "histogram"
           }
          ],
          "histogram2d": [
           {
            "colorbar": {
             "outlinewidth": 0,
             "ticks": ""
            },
            "colorscale": [
             [
              0,
              "#0d0887"
             ],
             [
              0.1111111111111111,
              "#46039f"
             ],
             [
              0.2222222222222222,
              "#7201a8"
             ],
             [
              0.3333333333333333,
              "#9c179e"
             ],
             [
              0.4444444444444444,
              "#bd3786"
             ],
             [
              0.5555555555555556,
              "#d8576b"
             ],
             [
              0.6666666666666666,
              "#ed7953"
             ],
             [
              0.7777777777777778,
              "#fb9f3a"
             ],
             [
              0.8888888888888888,
              "#fdca26"
             ],
             [
              1,
              "#f0f921"
             ]
            ],
            "type": "histogram2d"
           }
          ],
          "histogram2dcontour": [
           {
            "colorbar": {
             "outlinewidth": 0,
             "ticks": ""
            },
            "colorscale": [
             [
              0,
              "#0d0887"
             ],
             [
              0.1111111111111111,
              "#46039f"
             ],
             [
              0.2222222222222222,
              "#7201a8"
             ],
             [
              0.3333333333333333,
              "#9c179e"
             ],
             [
              0.4444444444444444,
              "#bd3786"
             ],
             [
              0.5555555555555556,
              "#d8576b"
             ],
             [
              0.6666666666666666,
              "#ed7953"
             ],
             [
              0.7777777777777778,
              "#fb9f3a"
             ],
             [
              0.8888888888888888,
              "#fdca26"
             ],
             [
              1,
              "#f0f921"
             ]
            ],
            "type": "histogram2dcontour"
           }
          ],
          "mesh3d": [
           {
            "colorbar": {
             "outlinewidth": 0,
             "ticks": ""
            },
            "type": "mesh3d"
           }
          ],
          "parcoords": [
           {
            "line": {
             "colorbar": {
              "outlinewidth": 0,
              "ticks": ""
             }
            },
            "type": "parcoords"
           }
          ],
          "pie": [
           {
            "automargin": true,
            "type": "pie"
           }
          ],
          "scatter": [
           {
            "fillpattern": {
             "fillmode": "overlay",
             "size": 10,
             "solidity": 0.2
            },
            "type": "scatter"
           }
          ],
          "scatter3d": [
           {
            "line": {
             "colorbar": {
              "outlinewidth": 0,
              "ticks": ""
             }
            },
            "marker": {
             "colorbar": {
              "outlinewidth": 0,
              "ticks": ""
             }
            },
            "type": "scatter3d"
           }
          ],
          "scattercarpet": [
           {
            "marker": {
             "colorbar": {
              "outlinewidth": 0,
              "ticks": ""
             }
            },
            "type": "scattercarpet"
           }
          ],
          "scattergeo": [
           {
            "marker": {
             "colorbar": {
              "outlinewidth": 0,
              "ticks": ""
             }
            },
            "type": "scattergeo"
           }
          ],
          "scattergl": [
           {
            "marker": {
             "colorbar": {
              "outlinewidth": 0,
              "ticks": ""
             }
            },
            "type": "scattergl"
           }
          ],
          "scattermapbox": [
           {
            "marker": {
             "colorbar": {
              "outlinewidth": 0,
              "ticks": ""
             }
            },
            "type": "scattermapbox"
           }
          ],
          "scatterpolar": [
           {
            "marker": {
             "colorbar": {
              "outlinewidth": 0,
              "ticks": ""
             }
            },
            "type": "scatterpolar"
           }
          ],
          "scatterpolargl": [
           {
            "marker": {
             "colorbar": {
              "outlinewidth": 0,
              "ticks": ""
             }
            },
            "type": "scatterpolargl"
           }
          ],
          "scatterternary": [
           {
            "marker": {
             "colorbar": {
              "outlinewidth": 0,
              "ticks": ""
             }
            },
            "type": "scatterternary"
           }
          ],
          "surface": [
           {
            "colorbar": {
             "outlinewidth": 0,
             "ticks": ""
            },
            "colorscale": [
             [
              0,
              "#0d0887"
             ],
             [
              0.1111111111111111,
              "#46039f"
             ],
             [
              0.2222222222222222,
              "#7201a8"
             ],
             [
              0.3333333333333333,
              "#9c179e"
             ],
             [
              0.4444444444444444,
              "#bd3786"
             ],
             [
              0.5555555555555556,
              "#d8576b"
             ],
             [
              0.6666666666666666,
              "#ed7953"
             ],
             [
              0.7777777777777778,
              "#fb9f3a"
             ],
             [
              0.8888888888888888,
              "#fdca26"
             ],
             [
              1,
              "#f0f921"
             ]
            ],
            "type": "surface"
           }
          ],
          "table": [
           {
            "cells": {
             "fill": {
              "color": "#EBF0F8"
             },
             "line": {
              "color": "white"
             }
            },
            "header": {
             "fill": {
              "color": "#C8D4E3"
             },
             "line": {
              "color": "white"
             }
            },
            "type": "table"
           }
          ]
         },
         "layout": {
          "annotationdefaults": {
           "arrowcolor": "#2a3f5f",
           "arrowhead": 0,
           "arrowwidth": 1
          },
          "autotypenumbers": "strict",
          "coloraxis": {
           "colorbar": {
            "outlinewidth": 0,
            "ticks": ""
           }
          },
          "colorscale": {
           "diverging": [
            [
             0,
             "#8e0152"
            ],
            [
             0.1,
             "#c51b7d"
            ],
            [
             0.2,
             "#de77ae"
            ],
            [
             0.3,
             "#f1b6da"
            ],
            [
             0.4,
             "#fde0ef"
            ],
            [
             0.5,
             "#f7f7f7"
            ],
            [
             0.6,
             "#e6f5d0"
            ],
            [
             0.7,
             "#b8e186"
            ],
            [
             0.8,
             "#7fbc41"
            ],
            [
             0.9,
             "#4d9221"
            ],
            [
             1,
             "#276419"
            ]
           ],
           "sequential": [
            [
             0,
             "#0d0887"
            ],
            [
             0.1111111111111111,
             "#46039f"
            ],
            [
             0.2222222222222222,
             "#7201a8"
            ],
            [
             0.3333333333333333,
             "#9c179e"
            ],
            [
             0.4444444444444444,
             "#bd3786"
            ],
            [
             0.5555555555555556,
             "#d8576b"
            ],
            [
             0.6666666666666666,
             "#ed7953"
            ],
            [
             0.7777777777777778,
             "#fb9f3a"
            ],
            [
             0.8888888888888888,
             "#fdca26"
            ],
            [
             1,
             "#f0f921"
            ]
           ],
           "sequentialminus": [
            [
             0,
             "#0d0887"
            ],
            [
             0.1111111111111111,
             "#46039f"
            ],
            [
             0.2222222222222222,
             "#7201a8"
            ],
            [
             0.3333333333333333,
             "#9c179e"
            ],
            [
             0.4444444444444444,
             "#bd3786"
            ],
            [
             0.5555555555555556,
             "#d8576b"
            ],
            [
             0.6666666666666666,
             "#ed7953"
            ],
            [
             0.7777777777777778,
             "#fb9f3a"
            ],
            [
             0.8888888888888888,
             "#fdca26"
            ],
            [
             1,
             "#f0f921"
            ]
           ]
          },
          "colorway": [
           "#636efa",
           "#EF553B",
           "#00cc96",
           "#ab63fa",
           "#FFA15A",
           "#19d3f3",
           "#FF6692",
           "#B6E880",
           "#FF97FF",
           "#FECB52"
          ],
          "font": {
           "color": "#2a3f5f"
          },
          "geo": {
           "bgcolor": "white",
           "lakecolor": "white",
           "landcolor": "#E5ECF6",
           "showlakes": true,
           "showland": true,
           "subunitcolor": "white"
          },
          "hoverlabel": {
           "align": "left"
          },
          "hovermode": "closest",
          "mapbox": {
           "style": "light"
          },
          "paper_bgcolor": "white",
          "plot_bgcolor": "#E5ECF6",
          "polar": {
           "angularaxis": {
            "gridcolor": "white",
            "linecolor": "white",
            "ticks": ""
           },
           "bgcolor": "#E5ECF6",
           "radialaxis": {
            "gridcolor": "white",
            "linecolor": "white",
            "ticks": ""
           }
          },
          "scene": {
           "xaxis": {
            "backgroundcolor": "#E5ECF6",
            "gridcolor": "white",
            "gridwidth": 2,
            "linecolor": "white",
            "showbackground": true,
            "ticks": "",
            "zerolinecolor": "white"
           },
           "yaxis": {
            "backgroundcolor": "#E5ECF6",
            "gridcolor": "white",
            "gridwidth": 2,
            "linecolor": "white",
            "showbackground": true,
            "ticks": "",
            "zerolinecolor": "white"
           },
           "zaxis": {
            "backgroundcolor": "#E5ECF6",
            "gridcolor": "white",
            "gridwidth": 2,
            "linecolor": "white",
            "showbackground": true,
            "ticks": "",
            "zerolinecolor": "white"
           }
          },
          "shapedefaults": {
           "line": {
            "color": "#2a3f5f"
           }
          },
          "ternary": {
           "aaxis": {
            "gridcolor": "white",
            "linecolor": "white",
            "ticks": ""
           },
           "baxis": {
            "gridcolor": "white",
            "linecolor": "white",
            "ticks": ""
           },
           "bgcolor": "#E5ECF6",
           "caxis": {
            "gridcolor": "white",
            "linecolor": "white",
            "ticks": ""
           }
          },
          "title": {
           "x": 0.05
          },
          "xaxis": {
           "automargin": true,
           "gridcolor": "white",
           "linecolor": "white",
           "ticks": "",
           "title": {
            "standoff": 15
           },
           "zerolinecolor": "white",
           "zerolinewidth": 2
          },
          "yaxis": {
           "automargin": true,
           "gridcolor": "white",
           "linecolor": "white",
           "ticks": "",
           "title": {
            "standoff": 15
           },
           "zerolinecolor": "white",
           "zerolinewidth": 2
          }
         }
        },
        "xaxis": {
         "anchor": "y",
         "autorange": true,
         "domain": [
          0,
          1
         ],
         "range": [
          1,
          22
         ],
         "title": {
          "text": "# Components"
         },
         "type": "linear"
        },
        "yaxis": {
         "anchor": "x",
         "autorange": true,
         "domain": [
          0,
          1
         ],
         "range": [
          0,
          1.0526315789473681
         ],
         "title": {
          "text": "Explained Variance"
         },
         "type": "linear"
        }
       }
      },
      "image/png": "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",
      "text/html": [
       "<div>                            <div id=\"8cb3e664-62c7-42e5-b255-69ac1c31ed01\" class=\"plotly-graph-div\" style=\"height:525px; width:100%;\"></div>            <script type=\"text/javascript\">                require([\"plotly\"], function(Plotly) {                    window.PLOTLYENV=window.PLOTLYENV || {};                                    if (document.getElementById(\"8cb3e664-62c7-42e5-b255-69ac1c31ed01\")) {                    Plotly.newPlot(                        \"8cb3e664-62c7-42e5-b255-69ac1c31ed01\",                        [{\"fillpattern\":{\"shape\":\"\"},\"hovertemplate\":\"# Components=%{x}<br>Explained Variance=%{y}<extra></extra>\",\"legendgroup\":\"\",\"line\":{\"color\":\"#636efa\"},\"marker\":{\"symbol\":\"circle\"},\"mode\":\"lines\",\"name\":\"\",\"orientation\":\"v\",\"showlegend\":false,\"stackgroup\":\"1\",\"x\":[1,2,3,4,5,6,7,8,9,10,11,12,13,14,15,16,17,18,19,20,21,22],\"xaxis\":\"x\",\"y\":[0.6398245040296131,0.7926656258310678,0.8864806379472594,0.9480942688419755,0.9677047125609284,0.9781166757725137,0.9868033923846103,0.9920696952415926,0.9957976776720611,0.996866432150215,0.9978953405606057,0.9987570367005927,0.9993133772227778,0.9995761763732012,0.9997633828633917,0.9999075939483887,0.9999548034428514,0.9999746908641589,0.9999899177715262,0.9999975171206307,0.9999999988101987,0.9999999999999998],\"yaxis\":\"y\",\"type\":\"scatter\"}],                        {\"template\":{\"data\":{\"histogram2dcontour\":[{\"type\":\"histogram2dcontour\",\"colorbar\":{\"outlinewidth\":0,\"ticks\":\"\"},\"colorscale\":[[0.0,\"#0d0887\"],[0.1111111111111111,\"#46039f\"],[0.2222222222222222,\"#7201a8\"],[0.3333333333333333,\"#9c179e\"],[0.4444444444444444,\"#bd3786\"],[0.5555555555555556,\"#d8576b\"],[0.6666666666666666,\"#ed7953\"],[0.7777777777777778,\"#fb9f3a\"],[0.8888888888888888,\"#fdca26\"],[1.0,\"#f0f921\"]]}],\"choropleth\":[{\"type\":\"choropleth\",\"colorbar\":{\"outlinewidth\":0,\"ticks\":\"\"}}],\"histogram2d\":[{\"type\":\"histogram2d\",\"colorbar\":{\"outlinewidth\":0,\"ticks\":\"\"},\"colorscale\":[[0.0,\"#0d0887\"],[0.1111111111111111,\"#46039f\"],[0.2222222222222222,\"#7201a8\"],[0.3333333333333333,\"#9c179e\"],[0.4444444444444444,\"#bd3786\"],[0.5555555555555556,\"#d8576b\"],[0.6666666666666666,\"#ed7953\"],[0.7777777777777778,\"#fb9f3a\"],[0.8888888888888888,\"#fdca26\"],[1.0,\"#f0f921\"]]}],\"heatmap\":[{\"type\":\"heatmap\",\"colorbar\":{\"outlinewidth\":0,\"ticks\":\"\"},\"colorscale\":[[0.0,\"#0d0887\"],[0.1111111111111111,\"#46039f\"],[0.2222222222222222,\"#7201a8\"],[0.3333333333333333,\"#9c179e\"],[0.4444444444444444,\"#bd3786\"],[0.5555555555555556,\"#d8576b\"],[0.6666666666666666,\"#ed7953\"],[0.7777777777777778,\"#fb9f3a\"],[0.8888888888888888,\"#fdca26\"],[1.0,\"#f0f921\"]]}],\"heatmapgl\":[{\"type\":\"heatmapgl\",\"colorbar\":{\"outlinewidth\":0,\"ticks\":\"\"},\"colorscale\":[[0.0,\"#0d0887\"],[0.1111111111111111,\"#46039f\"],[0.2222222222222222,\"#7201a8\"],[0.3333333333333333,\"#9c179e\"],[0.4444444444444444,\"#bd3786\"],[0.5555555555555556,\"#d8576b\"],[0.6666666666666666,\"#ed7953\"],[0.7777777777777778,\"#fb9f3a\"],[0.8888888888888888,\"#fdca26\"],[1.0,\"#f0f921\"]]}],\"contourcarpet\":[{\"type\":\"contourcarpet\",\"colorbar\":{\"outlinewidth\":0,\"ticks\":\"\"}}],\"contour\":[{\"type\":\"contour\",\"colorbar\":{\"outlinewidth\":0,\"ticks\":\"\"},\"colorscale\":[[0.0,\"#0d0887\"],[0.1111111111111111,\"#46039f\"],[0.2222222222222222,\"#7201a8\"],[0.3333333333333333,\"#9c179e\"],[0.4444444444444444,\"#bd3786\"],[0.5555555555555556,\"#d8576b\"],[0.6666666666666666,\"#ed7953\"],[0.7777777777777778,\"#fb9f3a\"],[0.8888888888888888,\"#fdca26\"],[1.0,\"#f0f921\"]]}],\"surface\":[{\"type\":\"surface\",\"colorbar\":{\"outlinewidth\":0,\"ticks\":\"\"},\"colorscale\":[[0.0,\"#0d0887\"],[0.1111111111111111,\"#46039f\"],[0.2222222222222222,\"#7201a8\"],[0.3333333333333333,\"#9c179e\"],[0.4444444444444444,\"#bd3786\"],[0.5555555555555556,\"#d8576b\"],[0.6666666666666666,\"#ed7953\"],[0.7777777777777778,\"#fb9f3a\"],[0.8888888888888888,\"#fdca26\"],[1.0,\"#f0f921\"]]}],\"mesh3d\":[{\"type\":\"mesh3d\",\"colorbar\":{\"outlinewidth\":0,\"ticks\":\"\"}}],\"scatter\":[{\"fillpattern\":{\"fillmode\":\"overlay\",\"size\":10,\"solidity\":0.2},\"type\":\"scatter\"}],\"parcoords\":[{\"type\":\"parcoords\",\"line\":{\"colorbar\":{\"outlinewidth\":0,\"ticks\":\"\"}}}],\"scatterpolargl\":[{\"type\":\"scatterpolargl\",\"marker\":{\"colorbar\":{\"outlinewidth\":0,\"ticks\":\"\"}}}],\"bar\":[{\"error_x\":{\"color\":\"#2a3f5f\"},\"error_y\":{\"color\":\"#2a3f5f\"},\"marker\":{\"line\":{\"color\":\"#E5ECF6\",\"width\":0.5},\"pattern\":{\"fillmode\":\"overlay\",\"size\":10,\"solidity\":0.2}},\"type\":\"bar\"}],\"scattergeo\":[{\"type\":\"scattergeo\",\"marker\":{\"colorbar\":{\"outlinewidth\":0,\"ticks\":\"\"}}}],\"scatterpolar\":[{\"type\":\"scatterpolar\",\"marker\":{\"colorbar\":{\"outlinewidth\":0,\"ticks\":\"\"}}}],\"histogram\":[{\"marker\":{\"pattern\":{\"fillmode\":\"overlay\",\"size\":10,\"solidity\":0.2}},\"type\":\"histogram\"}],\"scattergl\":[{\"type\":\"scattergl\",\"marker\":{\"colorbar\":{\"outlinewidth\":0,\"ticks\":\"\"}}}],\"scatter3d\":[{\"type\":\"scatter3d\",\"line\":{\"colorbar\":{\"outlinewidth\":0,\"ticks\":\"\"}},\"marker\":{\"colorbar\":{\"outlinewidth\":0,\"ticks\":\"\"}}}],\"scattermapbox\":[{\"type\":\"scattermapbox\",\"marker\":{\"colorbar\":{\"outlinewidth\":0,\"ticks\":\"\"}}}],\"scatterternary\":[{\"type\":\"scatterternary\",\"marker\":{\"colorbar\":{\"outlinewidth\":0,\"ticks\":\"\"}}}],\"scattercarpet\":[{\"type\":\"scattercarpet\",\"marker\":{\"colorbar\":{\"outlinewidth\":0,\"ticks\":\"\"}}}],\"carpet\":[{\"aaxis\":{\"endlinecolor\":\"#2a3f5f\",\"gridcolor\":\"white\",\"linecolor\":\"white\",\"minorgridcolor\":\"white\",\"startlinecolor\":\"#2a3f5f\"},\"baxis\":{\"endlinecolor\":\"#2a3f5f\",\"gridcolor\":\"white\",\"linecolor\":\"white\",\"minorgridcolor\":\"white\",\"startlinecolor\":\"#2a3f5f\"},\"type\":\"carpet\"}],\"table\":[{\"cells\":{\"fill\":{\"color\":\"#EBF0F8\"},\"line\":{\"color\":\"white\"}},\"header\":{\"fill\":{\"color\":\"#C8D4E3\"},\"line\":{\"color\":\"white\"}},\"type\":\"table\"}],\"barpolar\":[{\"marker\":{\"line\":{\"color\":\"#E5ECF6\",\"width\":0.5},\"pattern\":{\"fillmode\":\"overlay\",\"size\":10,\"solidity\":0.2}},\"type\":\"barpolar\"}],\"pie\":[{\"automargin\":true,\"type\":\"pie\"}]},\"layout\":{\"autotypenumbers\":\"strict\",\"colorway\":[\"#636efa\",\"#EF553B\",\"#00cc96\",\"#ab63fa\",\"#FFA15A\",\"#19d3f3\",\"#FF6692\",\"#B6E880\",\"#FF97FF\",\"#FECB52\"],\"font\":{\"color\":\"#2a3f5f\"},\"hovermode\":\"closest\",\"hoverlabel\":{\"align\":\"left\"},\"paper_bgcolor\":\"white\",\"plot_bgcolor\":\"#E5ECF6\",\"polar\":{\"bgcolor\":\"#E5ECF6\",\"angularaxis\":{\"gridcolor\":\"white\",\"linecolor\":\"white\",\"ticks\":\"\"},\"radialaxis\":{\"gridcolor\":\"white\",\"linecolor\":\"white\",\"ticks\":\"\"}},\"ternary\":{\"bgcolor\":\"#E5ECF6\",\"aaxis\":{\"gridcolor\":\"white\",\"linecolor\":\"white\",\"ticks\":\"\"},\"baxis\":{\"gridcolor\":\"white\",\"linecolor\":\"white\",\"ticks\":\"\"},\"caxis\":{\"gridcolor\":\"white\",\"linecolor\":\"white\",\"ticks\":\"\"}},\"coloraxis\":{\"colorbar\":{\"outlinewidth\":0,\"ticks\":\"\"}},\"colorscale\":{\"sequential\":[[0.0,\"#0d0887\"],[0.1111111111111111,\"#46039f\"],[0.2222222222222222,\"#7201a8\"],[0.3333333333333333,\"#9c179e\"],[0.4444444444444444,\"#bd3786\"],[0.5555555555555556,\"#d8576b\"],[0.6666666666666666,\"#ed7953\"],[0.7777777777777778,\"#fb9f3a\"],[0.8888888888888888,\"#fdca26\"],[1.0,\"#f0f921\"]],\"sequentialminus\":[[0.0,\"#0d0887\"],[0.1111111111111111,\"#46039f\"],[0.2222222222222222,\"#7201a8\"],[0.3333333333333333,\"#9c179e\"],[0.4444444444444444,\"#bd3786\"],[0.5555555555555556,\"#d8576b\"],[0.6666666666666666,\"#ed7953\"],[0.7777777777777778,\"#fb9f3a\"],[0.8888888888888888,\"#fdca26\"],[1.0,\"#f0f921\"]],\"diverging\":[[0,\"#8e0152\"],[0.1,\"#c51b7d\"],[0.2,\"#de77ae\"],[0.3,\"#f1b6da\"],[0.4,\"#fde0ef\"],[0.5,\"#f7f7f7\"],[0.6,\"#e6f5d0\"],[0.7,\"#b8e186\"],[0.8,\"#7fbc41\"],[0.9,\"#4d9221\"],[1,\"#276419\"]]},\"xaxis\":{\"gridcolor\":\"white\",\"linecolor\":\"white\",\"ticks\":\"\",\"title\":{\"standoff\":15},\"zerolinecolor\":\"white\",\"automargin\":true,\"zerolinewidth\":2},\"yaxis\":{\"gridcolor\":\"white\",\"linecolor\":\"white\",\"ticks\":\"\",\"title\":{\"standoff\":15},\"zerolinecolor\":\"white\",\"automargin\":true,\"zerolinewidth\":2},\"scene\":{\"xaxis\":{\"backgroundcolor\":\"#E5ECF6\",\"gridcolor\":\"white\",\"linecolor\":\"white\",\"showbackground\":true,\"ticks\":\"\",\"zerolinecolor\":\"white\",\"gridwidth\":2},\"yaxis\":{\"backgroundcolor\":\"#E5ECF6\",\"gridcolor\":\"white\",\"linecolor\":\"white\",\"showbackground\":true,\"ticks\":\"\",\"zerolinecolor\":\"white\",\"gridwidth\":2},\"zaxis\":{\"backgroundcolor\":\"#E5ECF6\",\"gridcolor\":\"white\",\"linecolor\":\"white\",\"showbackground\":true,\"ticks\":\"\",\"zerolinecolor\":\"white\",\"gridwidth\":2}},\"shapedefaults\":{\"line\":{\"color\":\"#2a3f5f\"}},\"annotationdefaults\":{\"arrowcolor\":\"#2a3f5f\",\"arrowhead\":0,\"arrowwidth\":1},\"geo\":{\"bgcolor\":\"white\",\"landcolor\":\"#E5ECF6\",\"subunitcolor\":\"white\",\"showland\":true,\"showlakes\":true,\"lakecolor\":\"white\"},\"title\":{\"x\":0.05},\"mapbox\":{\"style\":\"light\"}}},\"xaxis\":{\"anchor\":\"y\",\"domain\":[0.0,1.0],\"title\":{\"text\":\"# Components\"}},\"yaxis\":{\"anchor\":\"x\",\"domain\":[0.0,1.0],\"title\":{\"text\":\"Explained Variance\"}},\"legend\":{\"tracegroupgap\":0},\"margin\":{\"t\":60}},                        {\"responsive\": true}                    ).then(function(){\n",
       "                            \n",
       "var gd = document.getElementById('8cb3e664-62c7-42e5-b255-69ac1c31ed01');\n",
       "var x = new MutationObserver(function (mutations, observer) {{\n",
       "        var display = window.getComputedStyle(gd).display;\n",
       "        if (!display || display === 'none') {{\n",
       "            console.log([gd, 'removed!']);\n",
       "            Plotly.purge(gd);\n",
       "            observer.disconnect();\n",
       "        }}\n",
       "}});\n",
       "\n",
       "// Listen for the removal of the full notebook cells\n",
       "var notebookContainer = gd.closest('#notebook-container');\n",
       "if (notebookContainer) {{\n",
       "    x.observe(notebookContainer, {childList: true});\n",
       "}}\n",
       "\n",
       "// Listen for the clearing of the current output cell\n",
       "var outputEl = gd.closest('.output');\n",
       "if (outputEl) {{\n",
       "    x.observe(outputEl, {childList: true});\n",
       "}}\n",
       "\n",
       "                        })                };                });            </script>        </div>"
      ]
     },
     "metadata": {},
     "output_type": "display_data"
    }
   ],
   "source": [
    "import plotly.express as px\n",
    "pca = PCA()\n",
    "pca.fit(df)\n",
    "exp_var_cumul = np.cumsum(pca.explained_variance_ratio_)\n",
    "\n",
    "px.area(\n",
    "    x=range(1, exp_var_cumul.shape[0] + 1),\n",
    "    y=exp_var_cumul,\n",
    "    labels={\"x\": \"# Components\", \"y\": \"Explained Variance\"}\n",
    ")"
   ]
  },
  {
   "cell_type": "code",
<<<<<<< Updated upstream
   "execution_count": 64,
   "metadata": {},
   "outputs": [],
   "source": [
    "n_estimators = [5,20,50,100] # number of trees in the random forest\n",
    "max_features = ['auto', 'sqrt'] # number of features in consideration at every split\n",
    "max_depth = [int(x) for x in np.linspace(10, 120, num = 12)] # maximum number of levels allowed in each decision tree\n",
    "min_samples_split = [2, 6, 10] # minimum sample number to split a node\n",
    "min_samples_leaf = [1, 3, 4] # minimum sample number that can be stored in a leaf node\n",
    "bootstrap = [True, False] # method used to sample data points\n",
    "\n",
    "random_grid = {'n_estimators': n_estimators,\n",
    "\n",
    "'max_features': max_features,\n",
    "\n",
    "'max_depth': max_depth,\n",
    "\n",
    "'min_samples_split': min_samples_split,\n",
    "\n",
    "'min_samples_leaf': min_samples_leaf,\n",
    "\n",
    "'bootstrap': bootstrap}"
   ]
  },
  {
   "cell_type": "code",
   "execution_count": 65,
=======
   "execution_count": 14,
>>>>>>> Stashed changes
   "metadata": {},
   "outputs": [
    {
     "name": "stdout",
     "output_type": "stream",
     "text": [
<<<<<<< Updated upstream
      "Mean Absolute Error: 1.9277543549175242\n",
      "R Squared: 0.1690180615127963\n"
=======
      "model score on training data: 0.9809452239992565\n",
      "model score on testing data: 0.8742910414982815\n",
      "[24.185  66.448  15.72   ... 28.513   5.7665 23.445 ]\n"
>>>>>>> Stashed changes
     ]
    }
   ],
   "source": [
    "# Feature importances using RandomForest\n",
    "from sklearn.ensemble import RandomForestRegressor\n",
    "\n",
    "model = RandomForestRegressor()\n",
    "\n",
    "model.fit(X_train, y_train)\n",
    "\n",
<<<<<<< Updated upstream
    "predictions = model.predict(X_test)\n",
    "print('Mean Absolute Error:', metrics.mean_absolute_error(y_test, predictions))\n",
    "print('R Squared:', metrics.r2_score(y_test, predictions))"
=======
    "print(f'model score on training data: {model.score(X_train, y_train)}')\n",
    "print(f'model score on testing data: {model.score(X_test, y_test)}')\n",
    "\n",
    "# training_accuracy = accuracy_score(y_train, model.predict(X_train))\n",
    "# print(training_accuracy)\n",
    "\n",
    "pred = model.predict(X_test)\n",
    "\n",
    "print(pred)\n",
    "\n",
    "# test_accuracy = accuracy_score(y_test, pred)\n",
    "# print(test_accuracy)\n"
   ]
  },
  {
   "cell_type": "code",
   "execution_count": 17,
   "metadata": {},
   "outputs": [
    {
     "ename": "ValueError",
     "evalue": "continuous is not supported",
     "output_type": "error",
     "traceback": [
      "\u001b[1;31m---------------------------------------------------------------------------\u001b[0m",
      "\u001b[1;31mValueError\u001b[0m                                Traceback (most recent call last)",
      "\u001b[1;32m~\\AppData\\Local\\Temp/ipykernel_27280/3440107751.py\u001b[0m in \u001b[0;36m<module>\u001b[1;34m\u001b[0m\n\u001b[0;32m      1\u001b[0m \u001b[1;31m# print(y_test)\u001b[0m\u001b[1;33m\u001b[0m\u001b[1;33m\u001b[0m\u001b[0m\n\u001b[1;32m----> 2\u001b[1;33m \u001b[0mtest_accuracy\u001b[0m \u001b[1;33m=\u001b[0m \u001b[0maccuracy_score\u001b[0m\u001b[1;33m(\u001b[0m\u001b[0my_test\u001b[0m\u001b[1;33m.\u001b[0m\u001b[0mvalues\u001b[0m\u001b[1;33m,\u001b[0m \u001b[0mpred\u001b[0m\u001b[1;33m)\u001b[0m\u001b[1;33m\u001b[0m\u001b[1;33m\u001b[0m\u001b[0m\n\u001b[0m\u001b[0;32m      3\u001b[0m \u001b[0mprint\u001b[0m\u001b[1;33m(\u001b[0m\u001b[0mtest_accuracy\u001b[0m\u001b[1;33m)\u001b[0m\u001b[1;33m\u001b[0m\u001b[1;33m\u001b[0m\u001b[0m\n",
      "\u001b[1;32me:\\Software\\Anaconda\\lib\\site-packages\\sklearn\\utils\\validation.py\u001b[0m in \u001b[0;36minner_f\u001b[1;34m(*args, **kwargs)\u001b[0m\n\u001b[0;32m     61\u001b[0m             \u001b[0mextra_args\u001b[0m \u001b[1;33m=\u001b[0m \u001b[0mlen\u001b[0m\u001b[1;33m(\u001b[0m\u001b[0margs\u001b[0m\u001b[1;33m)\u001b[0m \u001b[1;33m-\u001b[0m \u001b[0mlen\u001b[0m\u001b[1;33m(\u001b[0m\u001b[0mall_args\u001b[0m\u001b[1;33m)\u001b[0m\u001b[1;33m\u001b[0m\u001b[1;33m\u001b[0m\u001b[0m\n\u001b[0;32m     62\u001b[0m             \u001b[1;32mif\u001b[0m \u001b[0mextra_args\u001b[0m \u001b[1;33m<=\u001b[0m \u001b[1;36m0\u001b[0m\u001b[1;33m:\u001b[0m\u001b[1;33m\u001b[0m\u001b[1;33m\u001b[0m\u001b[0m\n\u001b[1;32m---> 63\u001b[1;33m                 \u001b[1;32mreturn\u001b[0m \u001b[0mf\u001b[0m\u001b[1;33m(\u001b[0m\u001b[1;33m*\u001b[0m\u001b[0margs\u001b[0m\u001b[1;33m,\u001b[0m \u001b[1;33m**\u001b[0m\u001b[0mkwargs\u001b[0m\u001b[1;33m)\u001b[0m\u001b[1;33m\u001b[0m\u001b[1;33m\u001b[0m\u001b[0m\n\u001b[0m\u001b[0;32m     64\u001b[0m \u001b[1;33m\u001b[0m\u001b[0m\n\u001b[0;32m     65\u001b[0m             \u001b[1;31m# extra_args > 0\u001b[0m\u001b[1;33m\u001b[0m\u001b[1;33m\u001b[0m\u001b[0m\n",
      "\u001b[1;32me:\\Software\\Anaconda\\lib\\site-packages\\sklearn\\metrics\\_classification.py\u001b[0m in \u001b[0;36maccuracy_score\u001b[1;34m(y_true, y_pred, normalize, sample_weight)\u001b[0m\n\u001b[0;32m    200\u001b[0m \u001b[1;33m\u001b[0m\u001b[0m\n\u001b[0;32m    201\u001b[0m     \u001b[1;31m# Compute accuracy for each possible representation\u001b[0m\u001b[1;33m\u001b[0m\u001b[1;33m\u001b[0m\u001b[0m\n\u001b[1;32m--> 202\u001b[1;33m     \u001b[0my_type\u001b[0m\u001b[1;33m,\u001b[0m \u001b[0my_true\u001b[0m\u001b[1;33m,\u001b[0m \u001b[0my_pred\u001b[0m \u001b[1;33m=\u001b[0m \u001b[0m_check_targets\u001b[0m\u001b[1;33m(\u001b[0m\u001b[0my_true\u001b[0m\u001b[1;33m,\u001b[0m \u001b[0my_pred\u001b[0m\u001b[1;33m)\u001b[0m\u001b[1;33m\u001b[0m\u001b[1;33m\u001b[0m\u001b[0m\n\u001b[0m\u001b[0;32m    203\u001b[0m     \u001b[0mcheck_consistent_length\u001b[0m\u001b[1;33m(\u001b[0m\u001b[0my_true\u001b[0m\u001b[1;33m,\u001b[0m \u001b[0my_pred\u001b[0m\u001b[1;33m,\u001b[0m \u001b[0msample_weight\u001b[0m\u001b[1;33m)\u001b[0m\u001b[1;33m\u001b[0m\u001b[1;33m\u001b[0m\u001b[0m\n\u001b[0;32m    204\u001b[0m     \u001b[1;32mif\u001b[0m \u001b[0my_type\u001b[0m\u001b[1;33m.\u001b[0m\u001b[0mstartswith\u001b[0m\u001b[1;33m(\u001b[0m\u001b[1;34m'multilabel'\u001b[0m\u001b[1;33m)\u001b[0m\u001b[1;33m:\u001b[0m\u001b[1;33m\u001b[0m\u001b[1;33m\u001b[0m\u001b[0m\n",
      "\u001b[1;32me:\\Software\\Anaconda\\lib\\site-packages\\sklearn\\metrics\\_classification.py\u001b[0m in \u001b[0;36m_check_targets\u001b[1;34m(y_true, y_pred)\u001b[0m\n\u001b[0;32m     98\u001b[0m     \u001b[1;31m# No metrics support \"multiclass-multioutput\" format\u001b[0m\u001b[1;33m\u001b[0m\u001b[1;33m\u001b[0m\u001b[0m\n\u001b[0;32m     99\u001b[0m     \u001b[1;32mif\u001b[0m \u001b[1;33m(\u001b[0m\u001b[0my_type\u001b[0m \u001b[1;32mnot\u001b[0m \u001b[1;32min\u001b[0m \u001b[1;33m[\u001b[0m\u001b[1;34m\"binary\"\u001b[0m\u001b[1;33m,\u001b[0m \u001b[1;34m\"multiclass\"\u001b[0m\u001b[1;33m,\u001b[0m \u001b[1;34m\"multilabel-indicator\"\u001b[0m\u001b[1;33m]\u001b[0m\u001b[1;33m)\u001b[0m\u001b[1;33m:\u001b[0m\u001b[1;33m\u001b[0m\u001b[1;33m\u001b[0m\u001b[0m\n\u001b[1;32m--> 100\u001b[1;33m         \u001b[1;32mraise\u001b[0m \u001b[0mValueError\u001b[0m\u001b[1;33m(\u001b[0m\u001b[1;34m\"{0} is not supported\"\u001b[0m\u001b[1;33m.\u001b[0m\u001b[0mformat\u001b[0m\u001b[1;33m(\u001b[0m\u001b[0my_type\u001b[0m\u001b[1;33m)\u001b[0m\u001b[1;33m)\u001b[0m\u001b[1;33m\u001b[0m\u001b[1;33m\u001b[0m\u001b[0m\n\u001b[0m\u001b[0;32m    101\u001b[0m \u001b[1;33m\u001b[0m\u001b[0m\n\u001b[0;32m    102\u001b[0m     \u001b[1;32mif\u001b[0m \u001b[0my_type\u001b[0m \u001b[1;32min\u001b[0m \u001b[1;33m[\u001b[0m\u001b[1;34m\"binary\"\u001b[0m\u001b[1;33m,\u001b[0m \u001b[1;34m\"multiclass\"\u001b[0m\u001b[1;33m]\u001b[0m\u001b[1;33m:\u001b[0m\u001b[1;33m\u001b[0m\u001b[1;33m\u001b[0m\u001b[0m\n",
      "\u001b[1;31mValueError\u001b[0m: continuous is not supported"
     ]
    }
   ],
   "source": [
    "# print(y_test)\n",
    "test_accuracy = accuracy_score(y_test.values, pred)\n",
    "print(test_accuracy)"
>>>>>>> Stashed changes
   ]
  },
  {
   "cell_type": "code",
   "execution_count": 43,
   "metadata": {},
   "outputs": [
    {
     "name": "stdout",
     "output_type": "stream",
     "text": [
      "Fitting 5 folds for each of 100 candidates, totalling 500 fits\n"
     ]
    },
    {
     "data": {
      "text/html": [
       "<style>#sk-container-id-1 {color: black;background-color: white;}#sk-container-id-1 pre{padding: 0;}#sk-container-id-1 div.sk-toggleable {background-color: white;}#sk-container-id-1 label.sk-toggleable__label {cursor: pointer;display: block;width: 100%;margin-bottom: 0;padding: 0.3em;box-sizing: border-box;text-align: center;}#sk-container-id-1 label.sk-toggleable__label-arrow:before {content: \"▸\";float: left;margin-right: 0.25em;color: #696969;}#sk-container-id-1 label.sk-toggleable__label-arrow:hover:before {color: black;}#sk-container-id-1 div.sk-estimator:hover label.sk-toggleable__label-arrow:before {color: black;}#sk-container-id-1 div.sk-toggleable__content {max-height: 0;max-width: 0;overflow: hidden;text-align: left;background-color: #f0f8ff;}#sk-container-id-1 div.sk-toggleable__content pre {margin: 0.2em;color: black;border-radius: 0.25em;background-color: #f0f8ff;}#sk-container-id-1 input.sk-toggleable__control:checked~div.sk-toggleable__content {max-height: 200px;max-width: 100%;overflow: auto;}#sk-container-id-1 input.sk-toggleable__control:checked~label.sk-toggleable__label-arrow:before {content: \"▾\";}#sk-container-id-1 div.sk-estimator input.sk-toggleable__control:checked~label.sk-toggleable__label {background-color: #d4ebff;}#sk-container-id-1 div.sk-label input.sk-toggleable__control:checked~label.sk-toggleable__label {background-color: #d4ebff;}#sk-container-id-1 input.sk-hidden--visually {border: 0;clip: rect(1px 1px 1px 1px);clip: rect(1px, 1px, 1px, 1px);height: 1px;margin: -1px;overflow: hidden;padding: 0;position: absolute;width: 1px;}#sk-container-id-1 div.sk-estimator {font-family: monospace;background-color: #f0f8ff;border: 1px dotted black;border-radius: 0.25em;box-sizing: border-box;margin-bottom: 0.5em;}#sk-container-id-1 div.sk-estimator:hover {background-color: #d4ebff;}#sk-container-id-1 div.sk-parallel-item::after {content: \"\";width: 100%;border-bottom: 1px solid gray;flex-grow: 1;}#sk-container-id-1 div.sk-label:hover label.sk-toggleable__label {background-color: #d4ebff;}#sk-container-id-1 div.sk-serial::before {content: \"\";position: absolute;border-left: 1px solid gray;box-sizing: border-box;top: 0;bottom: 0;left: 50%;z-index: 0;}#sk-container-id-1 div.sk-serial {display: flex;flex-direction: column;align-items: center;background-color: white;padding-right: 0.2em;padding-left: 0.2em;position: relative;}#sk-container-id-1 div.sk-item {position: relative;z-index: 1;}#sk-container-id-1 div.sk-parallel {display: flex;align-items: stretch;justify-content: center;background-color: white;position: relative;}#sk-container-id-1 div.sk-item::before, #sk-container-id-1 div.sk-parallel-item::before {content: \"\";position: absolute;border-left: 1px solid gray;box-sizing: border-box;top: 0;bottom: 0;left: 50%;z-index: -1;}#sk-container-id-1 div.sk-parallel-item {display: flex;flex-direction: column;z-index: 1;position: relative;background-color: white;}#sk-container-id-1 div.sk-parallel-item:first-child::after {align-self: flex-end;width: 50%;}#sk-container-id-1 div.sk-parallel-item:last-child::after {align-self: flex-start;width: 50%;}#sk-container-id-1 div.sk-parallel-item:only-child::after {width: 0;}#sk-container-id-1 div.sk-dashed-wrapped {border: 1px dashed gray;margin: 0 0.4em 0.5em 0.4em;box-sizing: border-box;padding-bottom: 0.4em;background-color: white;}#sk-container-id-1 div.sk-label label {font-family: monospace;font-weight: bold;display: inline-block;line-height: 1.2em;}#sk-container-id-1 div.sk-label-container {text-align: center;}#sk-container-id-1 div.sk-container {/* jupyter's `normalize.less` sets `[hidden] { display: none; }` but bootstrap.min.css set `[hidden] { display: none !important; }` so we also need the `!important` here to be able to override the default hidden behavior on the sphinx rendered scikit-learn.org. See: https://github.com/scikit-learn/scikit-learn/issues/21755 */display: inline-block !important;position: relative;}#sk-container-id-1 div.sk-text-repr-fallback {display: none;}</style><div id=\"sk-container-id-1\" class=\"sk-top-container\"><div class=\"sk-text-repr-fallback\"><pre>RandomizedSearchCV(cv=5, estimator=RandomForestRegressor(), n_iter=100,\n",
       "                   n_jobs=-1,\n",
       "                   param_distributions={&#x27;bootstrap&#x27;: [True, False],\n",
       "                                        &#x27;max_depth&#x27;: [10, 20, 30, 40, 50, 60,\n",
       "                                                      70, 80, 90, 100, 110,\n",
       "                                                      120],\n",
       "                                        &#x27;max_features&#x27;: [&#x27;auto&#x27;, &#x27;sqrt&#x27;],\n",
       "                                        &#x27;min_samples_leaf&#x27;: [1, 3, 4],\n",
       "                                        &#x27;min_samples_split&#x27;: [2, 6, 10],\n",
       "                                        &#x27;n_estimators&#x27;: [5, 20, 50, 100]},\n",
       "                   random_state=35, verbose=2)</pre><b>In a Jupyter environment, please rerun this cell to show the HTML representation or trust the notebook. <br />On GitHub, the HTML representation is unable to render, please try loading this page with nbviewer.org.</b></div><div class=\"sk-container\" hidden><div class=\"sk-item sk-dashed-wrapped\"><div class=\"sk-label-container\"><div class=\"sk-label sk-toggleable\"><input class=\"sk-toggleable__control sk-hidden--visually\" id=\"sk-estimator-id-1\" type=\"checkbox\" ><label for=\"sk-estimator-id-1\" class=\"sk-toggleable__label sk-toggleable__label-arrow\">RandomizedSearchCV</label><div class=\"sk-toggleable__content\"><pre>RandomizedSearchCV(cv=5, estimator=RandomForestRegressor(), n_iter=100,\n",
       "                   n_jobs=-1,\n",
       "                   param_distributions={&#x27;bootstrap&#x27;: [True, False],\n",
       "                                        &#x27;max_depth&#x27;: [10, 20, 30, 40, 50, 60,\n",
       "                                                      70, 80, 90, 100, 110,\n",
       "                                                      120],\n",
       "                                        &#x27;max_features&#x27;: [&#x27;auto&#x27;, &#x27;sqrt&#x27;],\n",
       "                                        &#x27;min_samples_leaf&#x27;: [1, 3, 4],\n",
       "                                        &#x27;min_samples_split&#x27;: [2, 6, 10],\n",
       "                                        &#x27;n_estimators&#x27;: [5, 20, 50, 100]},\n",
       "                   random_state=35, verbose=2)</pre></div></div></div><div class=\"sk-parallel\"><div class=\"sk-parallel-item\"><div class=\"sk-item\"><div class=\"sk-label-container\"><div class=\"sk-label sk-toggleable\"><input class=\"sk-toggleable__control sk-hidden--visually\" id=\"sk-estimator-id-2\" type=\"checkbox\" ><label for=\"sk-estimator-id-2\" class=\"sk-toggleable__label sk-toggleable__label-arrow\">estimator: RandomForestRegressor</label><div class=\"sk-toggleable__content\"><pre>RandomForestRegressor()</pre></div></div></div><div class=\"sk-serial\"><div class=\"sk-item\"><div class=\"sk-estimator sk-toggleable\"><input class=\"sk-toggleable__control sk-hidden--visually\" id=\"sk-estimator-id-3\" type=\"checkbox\" ><label for=\"sk-estimator-id-3\" class=\"sk-toggleable__label sk-toggleable__label-arrow\">RandomForestRegressor</label><div class=\"sk-toggleable__content\"><pre>RandomForestRegressor()</pre></div></div></div></div></div></div></div></div></div></div>"
      ],
      "text/plain": [
       "RandomizedSearchCV(cv=5, estimator=RandomForestRegressor(), n_iter=100,\n",
       "                   n_jobs=-1,\n",
       "                   param_distributions={'bootstrap': [True, False],\n",
       "                                        'max_depth': [10, 20, 30, 40, 50, 60,\n",
       "                                                      70, 80, 90, 100, 110,\n",
       "                                                      120],\n",
       "                                        'max_features': ['auto', 'sqrt'],\n",
       "                                        'min_samples_leaf': [1, 3, 4],\n",
       "                                        'min_samples_split': [2, 6, 10],\n",
       "                                        'n_estimators': [5, 20, 50, 100]},\n",
       "                   random_state=35, verbose=2)"
      ]
     },
     "execution_count": 43,
     "metadata": {},
     "output_type": "execute_result"
    }
   ],
   "source": [
    "from sklearn.model_selection import RandomizedSearchCV\n",
    "rf_random = RandomizedSearchCV(estimator = model,param_distributions = random_grid,\n",
    "               n_iter = 100, cv = 5, verbose=2, random_state=35, n_jobs = -1)\n",
    "rf_random.fit(X_train, y_train)"
   ]
  },
  {
   "cell_type": "code",
   "execution_count": 44,
   "metadata": {},
   "outputs": [
    {
     "name": "stdout",
     "output_type": "stream",
     "text": [
      "Random grid:  {'n_estimators': [5, 20, 50, 100], 'max_features': ['auto', 'sqrt'], 'max_depth': [10, 20, 30, 40, 50, 60, 70, 80, 90, 100, 110, 120], 'min_samples_split': [2, 6, 10], 'min_samples_leaf': [1, 3, 4], 'bootstrap': [True, False]} \n",
      "\n",
      "Best Parameters:  {'n_estimators': 100, 'min_samples_split': 10, 'min_samples_leaf': 4, 'max_features': 'sqrt', 'max_depth': 20, 'bootstrap': True}  \n",
      "\n"
     ]
    }
   ],
   "source": [
    "print ('Random grid: ', random_grid, '\\n')\n",
    "# print the best parameters\n",
    "print ('Best Parameters: ', rf_random.best_params_, ' \\n')"
   ]
  },
  {
   "cell_type": "code",
   "execution_count": 66,
   "metadata": {},
   "outputs": [
    {
     "name": "stdout",
     "output_type": "stream",
     "text": [
      "Mean Absolute Error: 1.9212219541002182\n",
      "R Squared: 0.1884293128017216\n"
     ]
    }
   ],
   "source": [
    "from sklearn import metrics\n",
    "randmf = RandomForestRegressor(n_estimators = 100, min_samples_split = 10, min_samples_leaf= 4, max_features = 'sqrt', max_depth= 20, bootstrap=True) \n",
    "randmf.fit( X_train, y_train)\n",
    "predictions = randmf.predict(X_test)\n",
    "print('Mean Absolute Error:', metrics.mean_absolute_error(y_test, predictions))\n",
    "print('R Squared:', metrics.r2_score(y_test, predictions))"
   ]
  },
  {
   "cell_type": "code",
   "execution_count": 67,
   "metadata": {},
   "outputs": [],
   "source": [
    "importances = model.feature_importances_\n",
    "indices = np.argsort(importances)\n",
    "\n",
    "fig, ax = plt.subplots()\n",
    "ax.barh(range(len(importances)), importances[indices])\n",
    "ax.set_yticks(range(len(importances)))\n",
    "_ = ax.set_yticklabels(np.array(X_train.columns)[indices])"
   ]
  },
  {
   "cell_type": "code",
<<<<<<< Updated upstream
   "execution_count": 68,
=======
   "execution_count": 29,
>>>>>>> Stashed changes
   "metadata": {},
   "outputs": [
    {
     "name": "stderr",
     "output_type": "stream",
     "text": [
      "/opt/conda/lib/python3.10/site-packages/sklearn/ensemble/_gb.py:294: FutureWarning:\n",
      "\n",
      "The loss 'ls' was deprecated in v1.0 and will be removed in version 1.2. Use 'squared_error' which is equivalent.\n",
      "\n"
     ]
    },
    {
     "name": "stdout",
     "output_type": "stream",
     "text": [
<<<<<<< Updated upstream
      "Model Accuracy: 0.157\n",
      "The mean squared error (MSE) on test set: 6.6475\n"
=======
      "Model Accuracy: 0.856\n",
      "The mean squared error (MSE) on test set: 63937.1601\n"
>>>>>>> Stashed changes
     ]
    }
   ],
   "source": [
    "from sklearn.ensemble import GradientBoostingRegressor\n",
    "from sklearn.metrics import mean_squared_error\n",
    "\n",
    "# Gradient Boosting\n",
    "sc = StandardScaler()\n",
    "X_train_std = sc.fit_transform(X_train)\n",
    "X_test_std = sc.transform(X_test)\n",
    "#\n",
    "# Hyperparameters for GradientBoostingRegressor\n",
    "#\n",
    "gbr_params = {'n_estimators': 1000,\n",
    "          'max_depth': 3,\n",
    "          'min_samples_split': 5,\n",
    "          'learning_rate': 0.01,\n",
    "          'loss': 'ls'}\n",
    "#\n",
    "# Create an instance of gradient boosting regressor\n",
    "#\n",
    "gbr = GradientBoostingRegressor(**gbr_params)\n",
    "#\n",
    "# Fit the model\n",
    "#\n",
    "gbr.fit(X_train_std, y_train)\n",
    "#\n",
    "# Print Coefficient of determination R^2\n",
    "#\n",
    "print(\"Model Accuracy: %.3f\" % gbr.score(X_test_std, y_test))\n",
    "#\n",
    "# Create the mean squared error\n",
    "#\n",
    "mse = mean_squared_error(y_test, gbr.predict(X_test_std))\n",
    "print(\"The mean squared error (MSE) on test set: {:.4f}\".format(mse))"
   ]
  },
  {
   "cell_type": "code",
   "execution_count": 16,
   "metadata": {},
   "outputs": [
    {
     "name": "stdout",
     "output_type": "stream",
     "text": [
      "0.4826828430811491\n",
      "0.4565499351491569\n"
     ]
    }
   ],
   "source": [
    "# Random Forest Classifier\n",
    "classifier = RandomForestClassifier(n_estimators=500, max_depth=50, min_samples_leaf=50, random_state=123)\n",
    "\n",
    "classifier.fit(X_train, y_train)\n",
    "training_accuracy = accuracy_score(y_train, classifier.predict(X_train))\n",
    "print(training_accuracy)\n",
    "\n",
    "pred = classifier.predict(X_test)\n",
    "test_accuracy = accuracy_score(y_test, pred)\n",
    "print(test_accuracy)"
   ]
  },
  {
   "cell_type": "code",
   "execution_count": 30,
   "metadata": {},
   "outputs": [
    {
     "name": "stdout",
     "output_type": "stream",
     "text": [
      "Mean Absolute Error: 82.33426191581611\n",
      "R Squared: 0.7255364350547717\n"
     ]
    }
   ],
   "source": [
    "dectr = DecisionTreeRegressor()\n",
    "dectr.fit(X_train, y_train)\n",
    "\n",
    "predictions = dectr.predict(X_test)\n",
    "print('Mean Absolute Error:', mean_absolute_error(y_test, predictions))\n",
    "print('R Squared:', r2_score(y_test, predictions))"
   ]
  },
  {
   "cell_type": "code",
   "execution_count": 31,
   "metadata": {},
   "outputs": [
    {
     "name": "stdout",
     "output_type": "stream",
     "text": [
      "Mean Absolute Error: 76.12545696772513\n",
      "R Squared: 0.8593065067189145\n"
     ]
    }
   ],
   "source": [
    "gr_boost = GradientBoostingRegressor()\n",
    "gr_boost.fit(X_train, y_train)\n",
    "\n",
    "predictions = gr_boost.predict(X_test)\n",
    "print('Mean Absolute Error:', mean_absolute_error(y_test, predictions))\n",
    "print('R Squared:', r2_score(y_test, predictions))"
   ]
  },
  {
   "cell_type": "code",
   "execution_count": null,
   "metadata": {},
   "outputs": [],
   "source": [
    "rf = RandomForestRegressor()\n",
    "rf.fit(X_train, y_train)\n",
    "\n",
    "predictions = rf.predict(df1[1])\n",
    "print('Mean Absolute Error:', mean_absolute_error(y_test, predictions))\n",
    "print('R Squared:', r2_score(y_test, predictions))"
   ]
  },
  {
   "cell_type": "code",
   "execution_count": 8,
   "metadata": {},
   "outputs": [
    {
     "name": "stdout",
     "output_type": "stream",
     "text": [
      "Running RandomForestRegressor\n",
      "Score on training data: 0.9810871763218436\n",
      "Score on testing data: 0.8737453338110263\n",
      "Mean Absolute Error: 70.84041968275115\n",
      "R Squared: <function r2_score at 0x0000015A780EF0D0>\n",
      "Adjusted R Squared:  0.8737289559781791\n",
      "\n",
      "Running GradientBoostingRegressor\n",
      "Score on training data: 0.8489945268650858\n",
      "Score on testing data: 0.8592079226790402\n",
      "Mean Absolute Error: 76.1733327429713\n",
      "R Squared: <function r2_score at 0x0000015A780EF0D0>\n",
      "Adjusted R Squared:  0.8591896590442918\n",
      "\n",
      "Running DecisionTreeRegressor\n",
      "Score on training data: 0.999936184756783\n",
      "Score on testing data: 0.7308136176520517\n",
      "Mean Absolute Error: 82.01237086523247\n",
      "R Squared: <function r2_score at 0x0000015A780EF0D0>\n",
      "Adjusted R Squared:  0.730778698629192\n",
      "\n",
      "Running ExtraTreesRegressor\n"
     ]
    }
   ],
   "source": [
    "%load_ext autoreload\n",
    "%autoreload 2\n",
    "from utils import run_all_regressors\n",
    "\n",
    "run_all_regressors(X_train, y_train, X_test, y_test)\n"
   ]
  },
  {
   "cell_type": "code",
   "execution_count": null,
   "metadata": {},
   "outputs": [],
   "source": [
    "print()"
   ]
  }
 ],
 "metadata": {
  "kernelspec": {
   "display_name": "Python 3 (ipykernel)",
   "language": "python",
   "name": "python3"
  },
  "language_info": {
   "codemirror_mode": {
    "name": "ipython",
    "version": 3
   },
   "file_extension": ".py",
   "mimetype": "text/x-python",
   "name": "python",
   "nbconvert_exporter": "python",
   "pygments_lexer": "ipython3",
   "version": "3.10.5"
  },
  "vscode": {
   "interpreter": {
    "hash": "6429919fe5eee10fa3db4376c75d0431aac4ee64633f3fde6de3e71a7b7c5c41"
   }
  }
 },
 "nbformat": 4,
 "nbformat_minor": 4
}
