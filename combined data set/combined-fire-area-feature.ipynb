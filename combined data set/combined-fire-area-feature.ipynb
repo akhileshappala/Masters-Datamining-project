{
 "cells": [
  {
   "cell_type": "code",
   "execution_count": 1,
   "metadata": {},
   "outputs": [],
   "source": [
    "import pandas as pd\n",
    "import numpy as np\n",
    "from sklearn.ensemble import RandomForestClassifier\n",
    "from sklearn.tree import DecisionTreeRegressor\n",
    "from sklearn.ensemble import GradientBoostingRegressor\n",
    "from sklearn.ensemble import RandomForestRegressor\n",
    "from sklearn.model_selection import train_test_split\n",
    "from sklearn.metrics import accuracy_score\n",
    "from sklearn.metrics import mean_absolute_error\n",
    "from sklearn.metrics import r2_score\n",
    "from sklearn.preprocessing import StandardScaler\n",
    "import pandas_profiling\n",
    "import seaborn as sns\n",
    "import matplotlib.pyplot as plt\n",
    "import numpy as np"
   ]
  },
  {
   "cell_type": "code",
   "execution_count": 2,
   "metadata": {},
   "outputs": [
    {
     "data": {
      "text/plain": [
       "fire_size           float64\n",
       "stat_cause_descr     object\n",
       "latitude            float64\n",
       "longitude           float64\n",
       "Vegetation            int64\n",
       "Temp_pre_30         float64\n",
       "Temp_pre_15         float64\n",
       "Temp_pre_7          float64\n",
       "Temp_cont           float64\n",
       "Wind_pre_30         float64\n",
       "Wind_pre_15         float64\n",
       "Wind_pre_7          float64\n",
       "Wind_cont           float64\n",
       "Hum_pre_30          float64\n",
       "Hum_pre_15          float64\n",
       "Hum_pre_7           float64\n",
       "Hum_cont            float64\n",
       "Prec_pre_30         float64\n",
       "Prec_pre_15         float64\n",
       "Prec_pre_7          float64\n",
       "Prec_cont           float64\n",
       "remoteness          float64\n",
       "dtype: object"
      ]
     },
     "execution_count": 2,
     "metadata": {},
     "output_type": "execute_result"
    }
   ],
   "source": [
    "# Reading the combined CSV files\n",
    "df = pd.read_csv('Wildfire.csv')\n",
    "df = df.drop(columns=['fire_name','Unnamed: 0', 'Unnamed: 0.1','disc_date_final','cont_date_final','cont_clean_date','putout_time', 'fire_size_class', 'fire_mag', 'weather_file', 'state'])\n",
    "df = df.drop(columns=['disc_clean_date', 'discovery_month', 'disc_date_pre', 'disc_pre_year', 'disc_pre_month']) # drop date columns\n",
    "df = df.drop(columns=['wstation_usaf', 'dstation_m', 'wstation_wban', 'wstation_byear', 'wstation_eyear']) # drop station columns\n",
    "\n",
    "#Get rid of outliers - fires of size larger than 5000 acres, and there are large number of small fires and other very less number are having the high \n",
    "# area of fires, because of which the deviation is very high\n",
    "df = df.loc[df['fire_size'] < 5000]\n",
    "df.columns\n",
    "df.dtypes"
   ]
  },
  {
   "cell_type": "code",
   "execution_count": null,
   "metadata": {},
   "outputs": [],
   "source": [
    "profile = pandas_profiling.ProfileReport(df)\n",
    "profile.to_file(\"Combined_Profile.html\")"
   ]
  },
  {
   "cell_type": "code",
   "execution_count": null,
   "metadata": {},
   "outputs": [],
   "source": [
    "df['stat_cause_descr'].unique()"
   ]
  },
  {
   "cell_type": "code",
   "execution_count": 3,
   "metadata": {},
   "outputs": [
    {
     "name": "stderr",
     "output_type": "stream",
     "text": [
      "c:\\Users\\wynko\\OneDrive\\Documents\\GitHub\\Masters-Datamining-project\\combined data set\\utils.py:90: SettingWithCopyWarning: \n",
      "A value is trying to be set on a copy of a slice from a DataFrame.\n",
      "Try using .loc[row_indexer,col_indexer] = value instead\n",
      "\n",
      "See the caveats in the documentation: https://pandas.pydata.org/pandas-docs/stable/user_guide/indexing.html#returning-a-view-versus-a-copy\n",
      "  df['stat_cause_descr'] = df['stat_cause_descr'].apply(lambda x: 'Other' if (x in reduced_labels) else x)\n"
     ]
    },
    {
     "data": {
      "text/plain": [
       "array(['Arson', 'Debris Burning', 'Miscellaneous', 'Other', 'Lightning'],\n",
       "      dtype=object)"
      ]
     },
     "execution_count": 3,
     "metadata": {},
     "output_type": "execute_result"
    }
   ],
   "source": [
    "from utils import reduce_cause_labels\n",
    "# Group campfire, \n",
    "df = reduce_cause_labels(df)\n",
    "df['stat_cause_descr'].unique()"
   ]
  },
  {
   "cell_type": "code",
   "execution_count": 4,
   "metadata": {},
   "outputs": [
    {
     "data": {
      "text/html": [
       "<div>\n",
       "<style scoped>\n",
       "    .dataframe tbody tr th:only-of-type {\n",
       "        vertical-align: middle;\n",
       "    }\n",
       "\n",
       "    .dataframe tbody tr th {\n",
       "        vertical-align: top;\n",
       "    }\n",
       "\n",
       "    .dataframe thead th {\n",
       "        text-align: right;\n",
       "    }\n",
       "</style>\n",
       "<table border=\"1\" class=\"dataframe\">\n",
       "  <thead>\n",
       "    <tr style=\"text-align: right;\">\n",
       "      <th></th>\n",
       "      <th>fire_size</th>\n",
       "      <th>stat_cause_descr</th>\n",
       "      <th>latitude</th>\n",
       "      <th>longitude</th>\n",
       "      <th>Vegetation</th>\n",
       "      <th>Temp_pre_30</th>\n",
       "      <th>Temp_pre_15</th>\n",
       "      <th>Temp_pre_7</th>\n",
       "      <th>Temp_cont</th>\n",
       "      <th>Wind_pre_30</th>\n",
       "      <th>...</th>\n",
       "      <th>Wind_cont</th>\n",
       "      <th>Hum_pre_30</th>\n",
       "      <th>Hum_pre_15</th>\n",
       "      <th>Hum_pre_7</th>\n",
       "      <th>Hum_cont</th>\n",
       "      <th>Prec_pre_30</th>\n",
       "      <th>Prec_pre_15</th>\n",
       "      <th>Prec_pre_7</th>\n",
       "      <th>Prec_cont</th>\n",
       "      <th>remoteness</th>\n",
       "    </tr>\n",
       "  </thead>\n",
       "  <tbody>\n",
       "    <tr>\n",
       "      <th>1</th>\n",
       "      <td>3.0</td>\n",
       "      <td>1</td>\n",
       "      <td>35.03833</td>\n",
       "      <td>-87.6100</td>\n",
       "      <td>15</td>\n",
       "      <td>7.553433</td>\n",
       "      <td>7.010000</td>\n",
       "      <td>0.343529</td>\n",
       "      <td>10.448298</td>\n",
       "      <td>2.709764</td>\n",
       "      <td>...</td>\n",
       "      <td>2.12232</td>\n",
       "      <td>70.840000</td>\n",
       "      <td>65.858911</td>\n",
       "      <td>55.505882</td>\n",
       "      <td>81.682678</td>\n",
       "      <td>59.8</td>\n",
       "      <td>8.4</td>\n",
       "      <td>0.0</td>\n",
       "      <td>86.8</td>\n",
       "      <td>0.184355</td>\n",
       "    </tr>\n",
       "    <tr>\n",
       "      <th>2</th>\n",
       "      <td>60.0</td>\n",
       "      <td>1</td>\n",
       "      <td>34.94780</td>\n",
       "      <td>-88.7225</td>\n",
       "      <td>16</td>\n",
       "      <td>4.971930</td>\n",
       "      <td>5.782766</td>\n",
       "      <td>5.558750</td>\n",
       "      <td>13.696600</td>\n",
       "      <td>3.364499</td>\n",
       "      <td>...</td>\n",
       "      <td>3.36905</td>\n",
       "      <td>75.531629</td>\n",
       "      <td>75.868613</td>\n",
       "      <td>76.812834</td>\n",
       "      <td>65.063800</td>\n",
       "      <td>168.8</td>\n",
       "      <td>42.2</td>\n",
       "      <td>18.1</td>\n",
       "      <td>124.5</td>\n",
       "      <td>0.194544</td>\n",
       "    </tr>\n",
       "    <tr>\n",
       "      <th>3</th>\n",
       "      <td>1.0</td>\n",
       "      <td>2</td>\n",
       "      <td>39.64140</td>\n",
       "      <td>-119.3083</td>\n",
       "      <td>0</td>\n",
       "      <td>16.275967</td>\n",
       "      <td>18.996181</td>\n",
       "      <td>18.142564</td>\n",
       "      <td>0.000000</td>\n",
       "      <td>4.054982</td>\n",
       "      <td>...</td>\n",
       "      <td>0.00000</td>\n",
       "      <td>44.778429</td>\n",
       "      <td>37.140811</td>\n",
       "      <td>35.353846</td>\n",
       "      <td>0.000000</td>\n",
       "      <td>10.4</td>\n",
       "      <td>7.2</td>\n",
       "      <td>0.0</td>\n",
       "      <td>0.0</td>\n",
       "      <td>0.487447</td>\n",
       "    </tr>\n",
       "    <tr>\n",
       "      <th>4</th>\n",
       "      <td>2.0</td>\n",
       "      <td>3</td>\n",
       "      <td>30.70060</td>\n",
       "      <td>-90.5914</td>\n",
       "      <td>12</td>\n",
       "      <td>-1.000000</td>\n",
       "      <td>-1.000000</td>\n",
       "      <td>-1.000000</td>\n",
       "      <td>-1.000000</td>\n",
       "      <td>-1.000000</td>\n",
       "      <td>...</td>\n",
       "      <td>-1.00000</td>\n",
       "      <td>-1.000000</td>\n",
       "      <td>-1.000000</td>\n",
       "      <td>-1.000000</td>\n",
       "      <td>-1.000000</td>\n",
       "      <td>-1.0</td>\n",
       "      <td>-1.0</td>\n",
       "      <td>-1.0</td>\n",
       "      <td>-1.0</td>\n",
       "      <td>0.214633</td>\n",
       "    </tr>\n",
       "    <tr>\n",
       "      <th>5</th>\n",
       "      <td>1.0</td>\n",
       "      <td>2</td>\n",
       "      <td>32.06390</td>\n",
       "      <td>-82.4178</td>\n",
       "      <td>12</td>\n",
       "      <td>-1.000000</td>\n",
       "      <td>-1.000000</td>\n",
       "      <td>-1.000000</td>\n",
       "      <td>-1.000000</td>\n",
       "      <td>-1.000000</td>\n",
       "      <td>...</td>\n",
       "      <td>-1.00000</td>\n",
       "      <td>-1.000000</td>\n",
       "      <td>-1.000000</td>\n",
       "      <td>-1.000000</td>\n",
       "      <td>-1.000000</td>\n",
       "      <td>-1.0</td>\n",
       "      <td>-1.0</td>\n",
       "      <td>-1.0</td>\n",
       "      <td>-1.0</td>\n",
       "      <td>0.139643</td>\n",
       "    </tr>\n",
       "  </tbody>\n",
       "</table>\n",
       "<p>5 rows × 22 columns</p>\n",
       "</div>"
      ],
      "text/plain": [
       "   fire_size  stat_cause_descr  latitude  longitude  Vegetation  Temp_pre_30  \\\n",
       "1        3.0                 1  35.03833   -87.6100          15     7.553433   \n",
       "2       60.0                 1  34.94780   -88.7225          16     4.971930   \n",
       "3        1.0                 2  39.64140  -119.3083           0    16.275967   \n",
       "4        2.0                 3  30.70060   -90.5914          12    -1.000000   \n",
       "5        1.0                 2  32.06390   -82.4178          12    -1.000000   \n",
       "\n",
       "   Temp_pre_15  Temp_pre_7  Temp_cont  Wind_pre_30  ...  Wind_cont  \\\n",
       "1     7.010000    0.343529  10.448298     2.709764  ...    2.12232   \n",
       "2     5.782766    5.558750  13.696600     3.364499  ...    3.36905   \n",
       "3    18.996181   18.142564   0.000000     4.054982  ...    0.00000   \n",
       "4    -1.000000   -1.000000  -1.000000    -1.000000  ...   -1.00000   \n",
       "5    -1.000000   -1.000000  -1.000000    -1.000000  ...   -1.00000   \n",
       "\n",
       "   Hum_pre_30  Hum_pre_15  Hum_pre_7   Hum_cont  Prec_pre_30  Prec_pre_15  \\\n",
       "1   70.840000   65.858911  55.505882  81.682678         59.8          8.4   \n",
       "2   75.531629   75.868613  76.812834  65.063800        168.8         42.2   \n",
       "3   44.778429   37.140811  35.353846   0.000000         10.4          7.2   \n",
       "4   -1.000000   -1.000000  -1.000000  -1.000000         -1.0         -1.0   \n",
       "5   -1.000000   -1.000000  -1.000000  -1.000000         -1.0         -1.0   \n",
       "\n",
       "   Prec_pre_7  Prec_cont  remoteness  \n",
       "1         0.0       86.8    0.184355  \n",
       "2        18.1      124.5    0.194544  \n",
       "3         0.0        0.0    0.487447  \n",
       "4        -1.0       -1.0    0.214633  \n",
       "5        -1.0       -1.0    0.139643  \n",
       "\n",
       "[5 rows x 22 columns]"
      ]
     },
     "execution_count": 4,
     "metadata": {},
     "output_type": "execute_result"
    }
   ],
   "source": [
    "cause_encoded_dist = {\n",
    "    'Missing/Undefined':0, \n",
    "    'Arson':1, \n",
    "    'Debris Burning':2, \n",
    "    'Miscellaneous':3,\n",
    "    'Campfire':4, \n",
    "    'Fireworks':5, \n",
    "    'Children':6, \n",
    "    'Lightning':7, \n",
    "    'Equipment Use':8,\n",
    "    'Smoking':9, \n",
    "    'Railroad':10, \n",
    "    'Structure':11, \n",
    "    'Powerline':12,\n",
    "    'Other':13\n",
    "}\n",
    "\n",
    "# Encode categorical values to numeric\n",
    "df['stat_cause_descr'] = df['stat_cause_descr'].apply(lambda x: cause_encoded_dist[x]).astype('int')\n",
    "df.head()"
   ]
  },
  {
   "cell_type": "code",
   "execution_count": null,
   "metadata": {},
   "outputs": [],
   "source": [
    "df['fire_size'] = df['fire_size'].apply(lambda x: np.log(x * 10))"
   ]
  },
  {
   "cell_type": "code",
   "execution_count": null,
   "metadata": {},
   "outputs": [],
   "source": [
    "df.head()"
   ]
  },
  {
   "cell_type": "code",
   "execution_count": 4,
   "metadata": {},
   "outputs": [],
   "source": [
    "# Use subset df with cont columns\n",
    "df_cause = df[['stat_cause_descr', 'latitude', 'longitude', 'Vegetation', 'Temp_cont', 'Wind_cont', 'Hum_cont', 'Prec_cont', 'remoteness']]\n",
    "df_cont = df[['fire_size', 'latitude', 'longitude', 'Vegetation', 'Temp_cont', 'Wind_cont', 'Hum_cont', 'Prec_cont', 'remoteness']]\n",
    "df_pre_7 = df[['fire_size', 'latitude', 'longitude', 'Vegetation', 'Temp_pre_7', 'Wind_pre_7', 'Hum_pre_7', 'Prec_pre_7', 'remoteness']]\n",
    "df_pre_15 = df[['fire_size', 'latitude', 'longitude', 'Vegetation', 'Temp_pre_15', 'Wind_pre_15', 'Hum_pre_15', 'Hum_pre_15', 'remoteness']]\n",
    "df_pre_30 = df[['fire_size', 'latitude', 'longitude', 'Vegetation', 'Temp_pre_30', 'Wind_pre_30', 'Hum_pre_30', 'Hum_pre_30', 'remoteness']]\n"
   ]
  },
  {
   "cell_type": "code",
   "execution_count": 6,
   "metadata": {},
   "outputs": [],
   "source": [
    "df_dummies_X = df_cause"
   ]
  },
  {
   "cell_type": "code",
   "execution_count": 7,
   "metadata": {},
   "outputs": [],
   "source": [
    "# df_dummies_X = df_pre_7.drop(columns=['stat_cause_descr'])\n",
    "df_dummies_X = pd.get_dummies(df_dummies_X)\n",
    "X = df_dummies_X\n",
    "Y = df['stat_cause_descr']"
   ]
  },
  {
   "cell_type": "code",
   "execution_count": 6,
   "metadata": {},
   "outputs": [
    {
     "ename": "NameError",
     "evalue": "name 'df_dummies_X' is not defined",
     "output_type": "error",
     "traceback": [
      "\u001b[1;31m---------------------------------------------------------------------------\u001b[0m",
      "\u001b[1;31mNameError\u001b[0m                                 Traceback (most recent call last)",
      "\u001b[1;32m~\\AppData\\Local\\Temp/ipykernel_24736/1515216988.py\u001b[0m in \u001b[0;36m<module>\u001b[1;34m\u001b[0m\n\u001b[1;32m----> 1\u001b[1;33m \u001b[0mX\u001b[0m \u001b[1;33m=\u001b[0m \u001b[0mdf_dummies_X\u001b[0m\u001b[1;33m.\u001b[0m\u001b[0mdrop\u001b[0m\u001b[1;33m(\u001b[0m\u001b[0mcolumns\u001b[0m\u001b[1;33m=\u001b[0m\u001b[1;33m[\u001b[0m\u001b[1;34m'fire_size'\u001b[0m\u001b[1;33m]\u001b[0m\u001b[1;33m)\u001b[0m\u001b[1;33m\u001b[0m\u001b[1;33m\u001b[0m\u001b[0m\n\u001b[0m\u001b[0;32m      2\u001b[0m \u001b[0mY\u001b[0m \u001b[1;33m=\u001b[0m \u001b[0mdf\u001b[0m\u001b[1;33m[\u001b[0m\u001b[1;34m'fire_size'\u001b[0m\u001b[1;33m]\u001b[0m\u001b[1;33m\u001b[0m\u001b[1;33m\u001b[0m\u001b[0m\n",
      "\u001b[1;31mNameError\u001b[0m: name 'df_dummies_X' is not defined"
     ]
    }
   ],
   "source": [
    "X = df_dummies_X.drop(columns=['fire_size'])\n",
    "Y = df['fire_size']"
   ]
  },
  {
   "cell_type": "code",
   "execution_count": 27,
   "metadata": {},
   "outputs": [],
   "source": [
    "X = df_dummies_X.drop(columns=['stat_cause_descr'])\n",
    "Y = df['stat_cause_descr']"
   ]
  },
  {
   "cell_type": "code",
   "execution_count": 8,
   "metadata": {},
   "outputs": [],
   "source": [
    "X_train, X_test, y_train, y_test = train_test_split(X, Y, test_size=0.15, random_state=50)"
   ]
  },
  {
   "cell_type": "code",
   "execution_count": null,
   "metadata": {},
   "outputs": [],
   "source": [
    "sc = StandardScaler()\n",
    "sc.fit(X_train)\n",
    "X_train_std = sc.transform(X_train)\n",
    "X_test_std = sc.transform(X_test)"
   ]
  },
  {
   "cell_type": "code",
   "execution_count": null,
   "metadata": {},
   "outputs": [],
   "source": [
    "from sklearn.decomposition import PCA\n",
    "pca = PCA()\n",
    "#\n",
    "# Determine transformed features\n",
    "#\n",
    "X_train_pca = pca.fit_transform(X_train_std)\n",
    "X_test_pca = pca.transform(X_test_std)"
   ]
  },
  {
   "cell_type": "code",
   "execution_count": null,
   "metadata": {},
   "outputs": [],
   "source": [
    "X_train_pca"
   ]
  },
  {
   "cell_type": "code",
   "execution_count": null,
   "metadata": {},
   "outputs": [],
   "source": [
    "X_test_pca"
   ]
  },
  {
   "cell_type": "code",
   "execution_count": null,
   "metadata": {},
   "outputs": [],
   "source": [
    "import plotly.express as px\n",
    "pca = PCA()\n",
    "pca.fit(df)\n",
    "exp_var_cumul = np.cumsum(pca.explained_variance_ratio_)\n",
    "\n",
    "px.area(\n",
    "    x=range(1, exp_var_cumul.shape[0] + 1),\n",
    "    y=exp_var_cumul,\n",
    "    labels={\"x\": \"# Components\", \"y\": \"Explained Variance\"}\n",
    ")"
   ]
  },
  {
   "cell_type": "code",
   "execution_count": null,
   "metadata": {},
   "outputs": [],
   "source": [
    "# Feature importances using RandomForest\n",
    "from sklearn.ensemble import RandomForestRegressor\n",
    "\n",
    "model = RandomForestRegressor()\n",
    "\n",
    "model.fit(X_train, y_train)\n",
    "\n",
    "print(f'model score on training data: {model.score(X_train, y_train)}')\n",
    "print(f'model score on testing data: {model.score(X_test, y_test)}')\n",
    "\n",
    "# training_accuracy = accuracy_score(y_train, model.predict(X_train))\n",
    "# print(training_accuracy)\n",
    "\n",
    "pred = model.predict(X_test)\n",
    "\n",
    "print(pred)\n",
    "\n",
    "# test_accuracy = accuracy_score(y_test, pred)\n",
    "# print(test_accuracy)\n"
   ]
  },
  {
   "cell_type": "code",
   "execution_count": null,
   "metadata": {},
   "outputs": [],
   "source": [
    "# print(y_test)\n",
    "test_accuracy = accuracy_score(y_test.values, pred)\n",
    "print(test_accuracy)"
   ]
  },
  {
   "cell_type": "code",
   "execution_count": null,
   "metadata": {},
   "outputs": [],
   "source": [
    "importances = model.feature_importances_\n",
    "indices = np.argsort(importances)\n",
    "\n",
    "fig, ax = plt.subplots()\n",
    "ax.barh(range(len(importances)), importances[indices])\n",
    "ax.set_yticks(range(len(importances)))\n",
    "_ = ax.set_yticklabels(np.array(X_train.columns)[indices])"
   ]
  },
  {
   "cell_type": "code",
   "execution_count": null,
   "metadata": {},
   "outputs": [],
   "source": [
    "from sklearn.ensemble import GradientBoostingRegressor\n",
    "from sklearn.metrics import mean_squared_error\n",
    "\n",
    "# Gradient Boosting\n",
    "sc = StandardScaler()\n",
    "X_train_std = sc.fit_transform(X_train)\n",
    "X_test_std = sc.transform(X_test)\n",
    "#\n",
    "# Hyperparameters for GradientBoostingRegressor\n",
    "#\n",
    "gbr_params = {'n_estimators': 1000,\n",
    "          'max_depth': 3,\n",
    "          'min_samples_split': 5,\n",
    "          'learning_rate': 0.01,\n",
    "          'loss': 'ls'}\n",
    "#\n",
    "# Create an instance of gradient boosting regressor\n",
    "#\n",
    "gbr = GradientBoostingRegressor(**gbr_params)\n",
    "#\n",
    "# Fit the model\n",
    "#\n",
    "gbr.fit(X_train_std, y_train)\n",
    "#\n",
    "# Print Coefficient of determination R^2\n",
    "#\n",
    "print(\"Model Accuracy: %.3f\" % gbr.score(X_test_std, y_test))\n",
    "#\n",
    "# Create the mean squared error\n",
    "#\n",
    "mse = mean_squared_error(y_test, gbr.predict(X_test_std))\n",
    "print(\"The mean squared error (MSE) on test set: {:.4f}\".format(mse))"
   ]
  },
  {
   "cell_type": "code",
   "execution_count": null,
   "metadata": {},
   "outputs": [],
   "source": [
    "# Random Forest Classifier\n",
    "classifier = RandomForestClassifier(n_estimators=500, max_depth=50, min_samples_leaf=50, random_state=123)\n",
    "\n",
    "classifier.fit(X_train, y_train)\n",
    "training_accuracy = accuracy_score(y_train, classifier.predict(X_train))\n",
    "print(training_accuracy)\n",
    "\n",
    "pred = classifier.predict(X_test)\n",
    "test_accuracy = accuracy_score(y_test, pred)\n",
    "print(test_accuracy)"
   ]
  },
  {
   "cell_type": "code",
   "execution_count": 17,
   "metadata": {},
   "outputs": [
    {
     "name": "stdout",
     "output_type": "stream",
     "text": [
      "The autoreload extension is already loaded. To reload it, use:\n",
      "  %reload_ext autoreload\n",
      "Running RandomForestRegressor\n",
      "Score on training data: 0.9809916856157387\n",
      "Score on testing data: 0.8747771134914175\n",
      "Mean Absolute Error:  70.87635904272949\n",
      "R Squared:  0.8747771134914175\n",
      "Adjusted R Squared:  0.8747608695016643\n",
      "\n",
      "Running GradientBoostingRegressor\n",
      "Score on training data: 0.8489945268650858\n",
      "Score on testing data: 0.8593170712562382\n",
      "Mean Absolute Error:  76.11121227159751\n",
      "R Squared:  0.8593170712562382\n",
      "Adjusted R Squared:  0.8592988217803104\n",
      "\n",
      "Running DecisionTreeRegressor\n",
      "Score on training data: 0.999936184756783\n",
      "Score on testing data: 0.7267981245450101\n",
      "Mean Absolute Error:  82.76235076147114\n",
      "R Squared:  0.7267981245450101\n",
      "Adjusted R Squared:  0.7267626846299181\n",
      "\n",
      "Running ExtraTreesRegressor\n",
      "Score on training data: 0.9999361713289749\n",
      "Score on testing data: 0.876027232133217\n",
      "Mean Absolute Error:  71.38689486701446\n",
      "R Squared:  0.876027232133217\n",
      "Adjusted R Squared:  0.8760111503096218\n",
      "\n"
     ]
    }
   ],
   "source": [
    "%load_ext autoreload\n",
    "%autoreload 2\n",
    "from utils import run_all_regressors\n",
    "\n",
    "run_all_regressors(X_train, y_train, X_test, y_test)"
   ]
  },
  {
   "cell_type": "code",
   "execution_count": 9,
   "metadata": {},
   "outputs": [
    {
     "name": "stdout",
     "output_type": "stream",
     "text": [
      "Running RandomForestClassifier\n",
      "['Debris Burning' 'Debris Burning' 'Other' 'Other' 'Debris Burning']\n",
      "48521    Debris Burning\n",
      "21980    Debris Burning\n",
      "20536             Other\n",
      "30335             Other\n",
      "31232    Debris Burning\n",
      "Name: stat_cause_descr, dtype: object\n",
      "Accuracy Score:  1.0\n",
      "Running GradientBoostingClassifier\n",
      "['Debris Burning' 'Debris Burning' 'Other' 'Other' 'Debris Burning']\n",
      "48521    Debris Burning\n",
      "21980    Debris Burning\n",
      "20536             Other\n",
      "30335             Other\n",
      "31232    Debris Burning\n",
      "Name: stat_cause_descr, dtype: object\n",
      "Accuracy Score:  1.0\n",
      "Running DecisionTreeClassifier\n",
      "['Debris Burning' 'Debris Burning' 'Other' 'Other' 'Debris Burning']\n",
      "48521    Debris Burning\n",
      "21980    Debris Burning\n",
      "20536             Other\n",
      "30335             Other\n",
      "31232    Debris Burning\n",
      "Name: stat_cause_descr, dtype: object\n",
      "Accuracy Score:  1.0\n",
      "Running ExtraTreesClassifier\n",
      "['Debris Burning' 'Debris Burning' 'Other' 'Other' 'Debris Burning']\n",
      "48521    Debris Burning\n",
      "21980    Debris Burning\n",
      "20536             Other\n",
      "30335             Other\n",
      "31232    Debris Burning\n",
      "Name: stat_cause_descr, dtype: object\n",
      "Accuracy Score:  1.0\n"
     ]
    }
   ],
   "source": [
    "%load_ext autoreload\n",
    "%autoreload 2\n",
    "from utils import run_all_classifiers\n",
    "\n",
    "run_all_classifiers(X_train, y_train, X_test, y_test)"
   ]
  },
  {
   "cell_type": "code",
   "execution_count": null,
   "metadata": {},
   "outputs": [],
   "source": [
    "print()"
   ]
  }
 ],
 "metadata": {
  "kernelspec": {
   "display_name": "Python 3.9.7 ('base')",
   "language": "python",
   "name": "python3"
  },
  "language_info": {
   "codemirror_mode": {
    "name": "ipython",
    "version": 3
   },
   "file_extension": ".py",
   "mimetype": "text/x-python",
   "name": "python",
   "nbconvert_exporter": "python",
   "pygments_lexer": "ipython3",
   "version": "3.9.7"
  },
  "orig_nbformat": 4,
  "vscode": {
   "interpreter": {
    "hash": "6429919fe5eee10fa3db4376c75d0431aac4ee64633f3fde6de3e71a7b7c5c41"
   }
  }
 },
 "nbformat": 4,
 "nbformat_minor": 2
}
