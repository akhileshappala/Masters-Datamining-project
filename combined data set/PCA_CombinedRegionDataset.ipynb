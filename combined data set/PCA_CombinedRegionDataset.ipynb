{
 "cells": [
  {
   "cell_type": "code",
   "execution_count": 1,
   "id": "ef7c1992",
   "metadata": {},
   "outputs": [],
   "source": [
    "import pandas as pd\n",
    "import numpy as np\n",
    "import seaborn as sns\n",
    "import matplotlib.pyplot as plt\n",
    "import seaborn as sns\n",
    "import missingno as msno\n",
    "from datetime import datetime\n",
    "\n",
    "from sklearn import preprocessing\n",
    "from sklearn import metrics\n",
    "from sklearn.model_selection import train_test_split\n",
    "from sklearn.preprocessing import Normalizer\n",
    "\n",
    "from sklearn.tree import DecisionTreeRegressor\n",
    "from sklearn.ensemble import GradientBoostingRegressor\n",
    "from sklearn.ensemble import RandomForestRegressor\n",
    "from sklearn.preprocessing import StandardScaler\n",
    "from sklearn.decomposition import PCA\n",
    "from sklearn.preprocessing import MinMaxScaler\n",
    "from sklearn.model_selection import GridSearchCV\n",
    "from sklearn.inspection import plot_partial_dependence\n",
    "from loadDFRegion import getDF\n",
    "\n",
    "import plotly.express as px"
   ]
  },
  {
   "cell_type": "code",
   "execution_count": 2,
   "id": "e6f2c937",
   "metadata": {},
   "outputs": [
    {
     "name": "stdout",
     "output_type": "stream",
     "text": [
      "Grabbing region 1 dataframe...\n",
      "Grabbing region 2 dataframe...\n",
      "Grabbing region 3 dataframe...\n",
      "Grabbing region 4 dataframe...\n",
      "Grabbing region 5 dataframe...\n",
      "Grabbing region 6 dataframe...\n",
      "Grabbing region 8 dataframe...\n",
      "Grabbing region 9 dataframe...\n",
      "Grabbing region 10 dataframe...\n"
     ]
    }
   ],
   "source": [
    "# Get adjusted dataset and list of dataset splitted by regions\n",
    "df,dfRegionList = getDF()"
   ]
  },
  {
   "cell_type": "code",
   "execution_count": 3,
   "id": "577d869c",
   "metadata": {},
   "outputs": [
    {
     "data": {
      "text/html": [
       "<div>\n",
       "<style scoped>\n",
       "    .dataframe tbody tr th:only-of-type {\n",
       "        vertical-align: middle;\n",
       "    }\n",
       "\n",
       "    .dataframe tbody tr th {\n",
       "        vertical-align: top;\n",
       "    }\n",
       "\n",
       "    .dataframe thead th {\n",
       "        text-align: right;\n",
       "    }\n",
       "</style>\n",
       "<table border=\"1\" class=\"dataframe\">\n",
       "  <thead>\n",
       "    <tr style=\"text-align: right;\">\n",
       "      <th></th>\n",
       "      <th>fire_size</th>\n",
       "      <th>fire_size_class</th>\n",
       "      <th>stat_cause_descr</th>\n",
       "      <th>latitude</th>\n",
       "      <th>longitude</th>\n",
       "      <th>state</th>\n",
       "      <th>disc_clean_date</th>\n",
       "      <th>discovery_month</th>\n",
       "      <th>disc_date_pre</th>\n",
       "      <th>disc_pre_year</th>\n",
       "      <th>...</th>\n",
       "      <th>Prec_pre_30</th>\n",
       "      <th>Prec_pre_15</th>\n",
       "      <th>Prec_pre_7</th>\n",
       "      <th>Prec_cont</th>\n",
       "      <th>remoteness</th>\n",
       "      <th>day</th>\n",
       "      <th>month</th>\n",
       "      <th>year</th>\n",
       "      <th>stat_cause_encoded</th>\n",
       "      <th>Region</th>\n",
       "    </tr>\n",
       "  </thead>\n",
       "  <tbody>\n",
       "    <tr>\n",
       "      <th>1</th>\n",
       "      <td>3.0</td>\n",
       "      <td>B</td>\n",
       "      <td>Arson</td>\n",
       "      <td>35.03833</td>\n",
       "      <td>-87.61000</td>\n",
       "      <td>TN</td>\n",
       "      <td>2006-12-11</td>\n",
       "      <td>Dec</td>\n",
       "      <td>11/11/2006</td>\n",
       "      <td>2006</td>\n",
       "      <td>...</td>\n",
       "      <td>59.8</td>\n",
       "      <td>8.4</td>\n",
       "      <td>0.0</td>\n",
       "      <td>86.8</td>\n",
       "      <td>0.184355</td>\n",
       "      <td>11</td>\n",
       "      <td>12</td>\n",
       "      <td>2006</td>\n",
       "      <td>1.0</td>\n",
       "      <td>8</td>\n",
       "    </tr>\n",
       "    <tr>\n",
       "      <th>3</th>\n",
       "      <td>1.0</td>\n",
       "      <td>B</td>\n",
       "      <td>Debris Burning</td>\n",
       "      <td>39.64140</td>\n",
       "      <td>-119.30830</td>\n",
       "      <td>NV</td>\n",
       "      <td>2005-06-06</td>\n",
       "      <td>Jun</td>\n",
       "      <td>5/7/2005</td>\n",
       "      <td>2005</td>\n",
       "      <td>...</td>\n",
       "      <td>10.4</td>\n",
       "      <td>7.2</td>\n",
       "      <td>0.0</td>\n",
       "      <td>0.0</td>\n",
       "      <td>0.487447</td>\n",
       "      <td>6</td>\n",
       "      <td>6</td>\n",
       "      <td>2005</td>\n",
       "      <td>2.0</td>\n",
       "      <td>4</td>\n",
       "    </tr>\n",
       "    <tr>\n",
       "      <th>7</th>\n",
       "      <td>1.0</td>\n",
       "      <td>B</td>\n",
       "      <td>Campfire</td>\n",
       "      <td>30.90472</td>\n",
       "      <td>-93.55750</td>\n",
       "      <td>TX</td>\n",
       "      <td>2005-11-12</td>\n",
       "      <td>Nov</td>\n",
       "      <td>10/13/2005</td>\n",
       "      <td>2005</td>\n",
       "      <td>...</td>\n",
       "      <td>28.4</td>\n",
       "      <td>27.5</td>\n",
       "      <td>1.2</td>\n",
       "      <td>55.4</td>\n",
       "      <td>0.241894</td>\n",
       "      <td>12</td>\n",
       "      <td>11</td>\n",
       "      <td>2005</td>\n",
       "      <td>4.0</td>\n",
       "      <td>8</td>\n",
       "    </tr>\n",
       "    <tr>\n",
       "      <th>8</th>\n",
       "      <td>1.0</td>\n",
       "      <td>B</td>\n",
       "      <td>Arson</td>\n",
       "      <td>35.90031</td>\n",
       "      <td>-92.06118</td>\n",
       "      <td>AR</td>\n",
       "      <td>2007-08-08</td>\n",
       "      <td>Aug</td>\n",
       "      <td>7/9/2007</td>\n",
       "      <td>2007</td>\n",
       "      <td>...</td>\n",
       "      <td>6.6</td>\n",
       "      <td>3.3</td>\n",
       "      <td>0.0</td>\n",
       "      <td>46.4</td>\n",
       "      <td>0.224629</td>\n",
       "      <td>8</td>\n",
       "      <td>8</td>\n",
       "      <td>2007</td>\n",
       "      <td>1.0</td>\n",
       "      <td>8</td>\n",
       "    </tr>\n",
       "    <tr>\n",
       "      <th>9</th>\n",
       "      <td>1.0</td>\n",
       "      <td>B</td>\n",
       "      <td>Miscellaneous</td>\n",
       "      <td>48.83940</td>\n",
       "      <td>-99.71850</td>\n",
       "      <td>ND</td>\n",
       "      <td>2004-04-19</td>\n",
       "      <td>Apr</td>\n",
       "      <td>3/20/2004</td>\n",
       "      <td>2004</td>\n",
       "      <td>...</td>\n",
       "      <td>12.3</td>\n",
       "      <td>1.8</td>\n",
       "      <td>0.0</td>\n",
       "      <td>0.0</td>\n",
       "      <td>0.291683</td>\n",
       "      <td>19</td>\n",
       "      <td>4</td>\n",
       "      <td>2004</td>\n",
       "      <td>3.0</td>\n",
       "      <td>1</td>\n",
       "    </tr>\n",
       "  </tbody>\n",
       "</table>\n",
       "<p>5 rows × 41 columns</p>\n",
       "</div>"
      ],
      "text/plain": [
       "   fire_size fire_size_class stat_cause_descr  latitude  longitude state  \\\n",
       "1        3.0               B            Arson  35.03833  -87.61000    TN   \n",
       "3        1.0               B   Debris Burning  39.64140 -119.30830    NV   \n",
       "7        1.0               B         Campfire  30.90472  -93.55750    TX   \n",
       "8        1.0               B            Arson  35.90031  -92.06118    AR   \n",
       "9        1.0               B    Miscellaneous  48.83940  -99.71850    ND   \n",
       "\n",
       "  disc_clean_date discovery_month disc_date_pre  disc_pre_year  ...  \\\n",
       "1      2006-12-11             Dec    11/11/2006           2006  ...   \n",
       "3      2005-06-06             Jun      5/7/2005           2005  ...   \n",
       "7      2005-11-12             Nov    10/13/2005           2005  ...   \n",
       "8      2007-08-08             Aug      7/9/2007           2007  ...   \n",
       "9      2004-04-19             Apr     3/20/2004           2004  ...   \n",
       "\n",
       "  Prec_pre_30 Prec_pre_15  Prec_pre_7  Prec_cont  remoteness  day  month  \\\n",
       "1        59.8         8.4         0.0       86.8    0.184355   11     12   \n",
       "3        10.4         7.2         0.0        0.0    0.487447    6      6   \n",
       "7        28.4        27.5         1.2       55.4    0.241894   12     11   \n",
       "8         6.6         3.3         0.0       46.4    0.224629    8      8   \n",
       "9        12.3         1.8         0.0        0.0    0.291683   19      4   \n",
       "\n",
       "   year stat_cause_encoded  Region  \n",
       "1  2006                1.0       8  \n",
       "3  2005                2.0       4  \n",
       "7  2005                4.0       8  \n",
       "8  2007                1.0       8  \n",
       "9  2004                3.0       1  \n",
       "\n",
       "[5 rows x 41 columns]"
      ]
     },
     "execution_count": 3,
     "metadata": {},
     "output_type": "execute_result"
    }
   ],
   "source": [
    "df.head()"
   ]
  },
  {
   "cell_type": "code",
   "execution_count": 4,
   "id": "cd5e8a5b",
   "metadata": {},
   "outputs": [
    {
     "name": "stdout",
     "output_type": "stream",
     "text": [
      "Setting up Notebook\n",
      "Total df size:  774408\n",
      "Size of region df:  20049\n",
      "Size of region df:  32226\n",
      "Size of region df:  20254\n",
      "Size of region df:  20500\n",
      "Size of region df:  63919\n",
      "Size of region df:  17015\n",
      "Size of region df:  467933\n",
      "Size of region df:  117998\n",
      "Size of region df:  2542\n"
     ]
    }
   ],
   "source": [
    "# Print each region dataframe size\n",
    "df_r1 = dfRegionList[0]\n",
    "df_r2 = dfRegionList[1]\n",
    "df_r3 = dfRegionList[2]\n",
    "df_r4 = dfRegionList[3]\n",
    "df_r5 = dfRegionList[4]\n",
    "df_r6 = dfRegionList[5]\n",
    "df_r8 = dfRegionList[6]\n",
    "df_r9 = dfRegionList[7]\n",
    "df_r10 = dfRegionList[8]\n",
    "print(\"Setting up Notebook\")\n",
    "print(\"Total df size: \" , df.size   )\n",
    "for dftemp in dfRegionList:\n",
    "    print(\"Size of region df: \" , dftemp.size   )"
   ]
  },
  {
   "cell_type": "code",
   "execution_count": 5,
   "id": "6b8f590a",
   "metadata": {},
   "outputs": [
    {
     "data": {
      "text/plain": [
       "Index(['fire_size', 'fire_size_class', 'stat_cause_descr', 'latitude',\n",
       "       'longitude', 'state', 'disc_clean_date', 'discovery_month',\n",
       "       'disc_date_pre', 'disc_pre_year', 'disc_pre_month', 'wstation_usaf',\n",
       "       'dstation_m', 'wstation_wban', 'wstation_byear', 'wstation_eyear',\n",
       "       'Vegetation', 'fire_mag', 'weather_file', 'Temp_pre_30', 'Temp_pre_15',\n",
       "       'Temp_pre_7', 'Temp_cont', 'Wind_pre_30', 'Wind_pre_15', 'Wind_pre_7',\n",
       "       'Wind_cont', 'Hum_pre_30', 'Hum_pre_15', 'Hum_pre_7', 'Hum_cont',\n",
       "       'Prec_pre_30', 'Prec_pre_15', 'Prec_pre_7', 'Prec_cont', 'remoteness',\n",
       "       'day', 'month', 'year', 'stat_cause_encoded', 'Region'],\n",
       "      dtype='object')"
      ]
     },
     "execution_count": 5,
     "metadata": {},
     "output_type": "execute_result"
    }
   ],
   "source": [
    "df.columns"
   ]
  },
  {
   "cell_type": "code",
   "execution_count": 6,
   "id": "515a1a6e",
   "metadata": {},
   "outputs": [
    {
     "data": {
      "text/plain": [
       "774408"
      ]
     },
     "execution_count": 6,
     "metadata": {},
     "output_type": "execute_result"
    }
   ],
   "source": [
    "df.size"
   ]
  },
  {
   "cell_type": "code",
   "execution_count": 7,
   "id": "8c304e04",
   "metadata": {},
   "outputs": [
    {
     "data": {
      "text/plain": [
       "fire_size             float64\n",
       "latitude              float64\n",
       "longitude             float64\n",
       "Vegetation              int64\n",
       "Temp_pre_30           float64\n",
       "Temp_pre_15           float64\n",
       "Temp_pre_7            float64\n",
       "Temp_cont             float64\n",
       "Wind_pre_30           float64\n",
       "Wind_pre_15           float64\n",
       "Wind_pre_7            float64\n",
       "Wind_cont             float64\n",
       "Hum_pre_30            float64\n",
       "Hum_pre_15            float64\n",
       "Hum_pre_7             float64\n",
       "Hum_cont              float64\n",
       "Prec_pre_30           float64\n",
       "Prec_pre_15           float64\n",
       "Prec_pre_7            float64\n",
       "Prec_cont             float64\n",
       "remoteness            float64\n",
       "day                     int64\n",
       "month                   int64\n",
       "year                    int64\n",
       "stat_cause_encoded    float64\n",
       "Region                  int64\n",
       "dtype: object"
      ]
     },
     "execution_count": 7,
     "metadata": {},
     "output_type": "execute_result"
    }
   ],
   "source": [
    "def dropColumns(df):\n",
    "    df = df.drop(columns=['fire_size_class', 'fire_mag', 'weather_file', 'state','stat_cause_descr'], axis=1)\n",
    "    #print(df.size)\n",
    "    df = df.drop(columns=['disc_clean_date', 'discovery_month', 'disc_date_pre', 'disc_pre_year', 'disc_pre_month'], axis=1) #, 'discovery_month', 'disc_date_pre', 'disc_pre_year' # drop date columns\n",
    "    #print(df.size)\n",
    "    df = df.drop(columns=['wstation_usaf', 'dstation_m', 'wstation_wban', 'wstation_byear', 'wstation_eyear'], axis=1) # drop station columns\n",
    "    #print(df.size)\n",
    "    return df\n",
    "\n",
    "df = dropColumns(df)\n",
    "df.dtypes"
   ]
  },
  {
   "cell_type": "code",
   "execution_count": 8,
   "id": "c637c923",
   "metadata": {},
   "outputs": [
    {
     "data": {
      "text/plain": [
       "491088"
      ]
     },
     "execution_count": 8,
     "metadata": {},
     "output_type": "execute_result"
    }
   ],
   "source": [
    "df.size"
   ]
  },
  {
   "cell_type": "code",
   "execution_count": 9,
   "id": "bd3ead0e",
   "metadata": {
    "scrolled": true
   },
   "outputs": [
    {
     "data": {
      "text/html": [
       "<div>\n",
       "<style scoped>\n",
       "    .dataframe tbody tr th:only-of-type {\n",
       "        vertical-align: middle;\n",
       "    }\n",
       "\n",
       "    .dataframe tbody tr th {\n",
       "        vertical-align: top;\n",
       "    }\n",
       "\n",
       "    .dataframe thead th {\n",
       "        text-align: right;\n",
       "    }\n",
       "</style>\n",
       "<table border=\"1\" class=\"dataframe\">\n",
       "  <thead>\n",
       "    <tr style=\"text-align: right;\">\n",
       "      <th></th>\n",
       "      <th>fire_size</th>\n",
       "      <th>latitude</th>\n",
       "      <th>longitude</th>\n",
       "      <th>Vegetation</th>\n",
       "      <th>Temp_pre_30</th>\n",
       "      <th>Temp_pre_15</th>\n",
       "      <th>Temp_pre_7</th>\n",
       "      <th>Temp_cont</th>\n",
       "      <th>Wind_pre_30</th>\n",
       "      <th>Wind_pre_15</th>\n",
       "      <th>...</th>\n",
       "      <th>Prec_pre_30</th>\n",
       "      <th>Prec_pre_15</th>\n",
       "      <th>Prec_pre_7</th>\n",
       "      <th>Prec_cont</th>\n",
       "      <th>remoteness</th>\n",
       "      <th>day</th>\n",
       "      <th>month</th>\n",
       "      <th>year</th>\n",
       "      <th>stat_cause_encoded</th>\n",
       "      <th>Region</th>\n",
       "    </tr>\n",
       "  </thead>\n",
       "  <tbody>\n",
       "    <tr>\n",
       "      <th>1</th>\n",
       "      <td>3.0</td>\n",
       "      <td>35.03833</td>\n",
       "      <td>-87.61000</td>\n",
       "      <td>15</td>\n",
       "      <td>7.553433</td>\n",
       "      <td>7.010000</td>\n",
       "      <td>0.343529</td>\n",
       "      <td>10.448298</td>\n",
       "      <td>2.709764</td>\n",
       "      <td>2.881707</td>\n",
       "      <td>...</td>\n",
       "      <td>59.8</td>\n",
       "      <td>8.4</td>\n",
       "      <td>0.0</td>\n",
       "      <td>86.8</td>\n",
       "      <td>0.184355</td>\n",
       "      <td>11</td>\n",
       "      <td>12</td>\n",
       "      <td>2006</td>\n",
       "      <td>1.0</td>\n",
       "      <td>8</td>\n",
       "    </tr>\n",
       "    <tr>\n",
       "      <th>3</th>\n",
       "      <td>1.0</td>\n",
       "      <td>39.64140</td>\n",
       "      <td>-119.30830</td>\n",
       "      <td>0</td>\n",
       "      <td>16.275967</td>\n",
       "      <td>18.996181</td>\n",
       "      <td>18.142564</td>\n",
       "      <td>17.804904</td>\n",
       "      <td>4.054982</td>\n",
       "      <td>3.398329</td>\n",
       "      <td>...</td>\n",
       "      <td>10.4</td>\n",
       "      <td>7.2</td>\n",
       "      <td>0.0</td>\n",
       "      <td>0.0</td>\n",
       "      <td>0.487447</td>\n",
       "      <td>6</td>\n",
       "      <td>6</td>\n",
       "      <td>2005</td>\n",
       "      <td>2.0</td>\n",
       "      <td>4</td>\n",
       "    </tr>\n",
       "    <tr>\n",
       "      <th>7</th>\n",
       "      <td>1.0</td>\n",
       "      <td>30.90472</td>\n",
       "      <td>-93.55750</td>\n",
       "      <td>12</td>\n",
       "      <td>16.851939</td>\n",
       "      <td>16.997783</td>\n",
       "      <td>20.434783</td>\n",
       "      <td>11.985560</td>\n",
       "      <td>1.331257</td>\n",
       "      <td>1.472949</td>\n",
       "      <td>...</td>\n",
       "      <td>28.4</td>\n",
       "      <td>27.5</td>\n",
       "      <td>1.2</td>\n",
       "      <td>55.4</td>\n",
       "      <td>0.241894</td>\n",
       "      <td>12</td>\n",
       "      <td>11</td>\n",
       "      <td>2005</td>\n",
       "      <td>4.0</td>\n",
       "      <td>8</td>\n",
       "    </tr>\n",
       "    <tr>\n",
       "      <th>8</th>\n",
       "      <td>1.0</td>\n",
       "      <td>35.90031</td>\n",
       "      <td>-92.06118</td>\n",
       "      <td>15</td>\n",
       "      <td>26.655241</td>\n",
       "      <td>27.264870</td>\n",
       "      <td>28.968064</td>\n",
       "      <td>28.682688</td>\n",
       "      <td>1.768074</td>\n",
       "      <td>1.705297</td>\n",
       "      <td>...</td>\n",
       "      <td>6.6</td>\n",
       "      <td>3.3</td>\n",
       "      <td>0.0</td>\n",
       "      <td>46.4</td>\n",
       "      <td>0.224629</td>\n",
       "      <td>8</td>\n",
       "      <td>8</td>\n",
       "      <td>2007</td>\n",
       "      <td>1.0</td>\n",
       "      <td>8</td>\n",
       "    </tr>\n",
       "    <tr>\n",
       "      <th>9</th>\n",
       "      <td>1.0</td>\n",
       "      <td>48.83940</td>\n",
       "      <td>-99.71850</td>\n",
       "      <td>15</td>\n",
       "      <td>4.600950</td>\n",
       "      <td>6.861878</td>\n",
       "      <td>6.053333</td>\n",
       "      <td>5.838721</td>\n",
       "      <td>6.380760</td>\n",
       "      <td>6.334254</td>\n",
       "      <td>...</td>\n",
       "      <td>12.3</td>\n",
       "      <td>1.8</td>\n",
       "      <td>0.0</td>\n",
       "      <td>0.0</td>\n",
       "      <td>0.291683</td>\n",
       "      <td>19</td>\n",
       "      <td>4</td>\n",
       "      <td>2004</td>\n",
       "      <td>3.0</td>\n",
       "      <td>1</td>\n",
       "    </tr>\n",
       "  </tbody>\n",
       "</table>\n",
       "<p>5 rows × 26 columns</p>\n",
       "</div>"
      ],
      "text/plain": [
       "   fire_size  latitude  longitude  Vegetation  Temp_pre_30  Temp_pre_15  \\\n",
       "1        3.0  35.03833  -87.61000          15     7.553433     7.010000   \n",
       "3        1.0  39.64140 -119.30830           0    16.275967    18.996181   \n",
       "7        1.0  30.90472  -93.55750          12    16.851939    16.997783   \n",
       "8        1.0  35.90031  -92.06118          15    26.655241    27.264870   \n",
       "9        1.0  48.83940  -99.71850          15     4.600950     6.861878   \n",
       "\n",
       "   Temp_pre_7  Temp_cont  Wind_pre_30  Wind_pre_15  ...  Prec_pre_30  \\\n",
       "1    0.343529  10.448298     2.709764     2.881707  ...         59.8   \n",
       "3   18.142564  17.804904     4.054982     3.398329  ...         10.4   \n",
       "7   20.434783  11.985560     1.331257     1.472949  ...         28.4   \n",
       "8   28.968064  28.682688     1.768074     1.705297  ...          6.6   \n",
       "9    6.053333   5.838721     6.380760     6.334254  ...         12.3   \n",
       "\n",
       "   Prec_pre_15  Prec_pre_7  Prec_cont  remoteness  day  month  year  \\\n",
       "1          8.4         0.0       86.8    0.184355   11     12  2006   \n",
       "3          7.2         0.0        0.0    0.487447    6      6  2005   \n",
       "7         27.5         1.2       55.4    0.241894   12     11  2005   \n",
       "8          3.3         0.0       46.4    0.224629    8      8  2007   \n",
       "9          1.8         0.0        0.0    0.291683   19      4  2004   \n",
       "\n",
       "   stat_cause_encoded  Region  \n",
       "1                 1.0       8  \n",
       "3                 2.0       4  \n",
       "7                 4.0       8  \n",
       "8                 1.0       8  \n",
       "9                 3.0       1  \n",
       "\n",
       "[5 rows x 26 columns]"
      ]
     },
     "execution_count": 9,
     "metadata": {},
     "output_type": "execute_result"
    }
   ],
   "source": [
    "df.head()"
   ]
  },
  {
   "cell_type": "code",
   "execution_count": 10,
   "id": "8691fcf5",
   "metadata": {},
   "outputs": [
    {
     "name": "stdout",
     "output_type": "stream",
     "text": [
      "Correlation between remoteness and Cause of fires is 0.1723893233524741.\n",
      "Correlation between Temp_pre_15 and Cause of fires is 0.13450891024725622.\n",
      "Correlation between Temp_cont and Cause of fires is 0.13384400031588917.\n",
      "Correlation between Temp_pre_7 and Cause of fires is 0.13282860361125723.\n",
      "Correlation between latitude and Cause of fires is 0.12868364947860467.\n",
      "Correlation between Temp_pre_30 and Cause of fires is 0.12793233506935553.\n",
      "Correlation between month and Cause of fires is 0.10253163600738932.\n",
      "Correlation between Wind_pre_30 and Cause of fires is 0.024630856474954735.\n",
      "Correlation between Wind_pre_15 and Cause of fires is 0.01752526987521123.\n",
      "Correlation between Wind_cont and Cause of fires is 0.014262994996396263.\n",
      "Correlation between Wind_pre_7 and Cause of fires is 0.012121819884475409.\n",
      "Correlation between day and Cause of fires is -0.003430181156018687.\n",
      "Correlation between Prec_pre_7 and Cause of fires is -0.015616909011697893.\n",
      "Correlation between fire_size and Cause of fires is -0.015669471567138805.\n",
      "Correlation between Prec_cont and Cause of fires is -0.01670705627935565.\n",
      "Correlation between Prec_pre_15 and Cause of fires is -0.028227707608126693.\n",
      "Correlation between year and Cause of fires is -0.028620703576315312.\n",
      "Correlation between Prec_pre_30 and Cause of fires is -0.02887124856313449.\n",
      "Correlation between Vegetation and Cause of fires is -0.04591530121591806.\n",
      "Correlation between Region and Cause of fires is -0.06430793037247726.\n",
      "Correlation between Hum_pre_7 and Cause of fires is -0.14385204822378292.\n",
      "Correlation between Hum_cont and Cause of fires is -0.16518828249471118.\n",
      "Correlation between Hum_pre_15 and Cause of fires is -0.16689983743599812.\n",
      "Correlation between longitude and Cause of fires is -0.17633946498354072.\n",
      "Correlation between Hum_pre_30 and Cause of fires is -0.18090816695127834.\n"
     ]
    }
   ],
   "source": [
    "# Look at the correlations between X and causes of fires\n",
    "corrList = {}\n",
    "for column in df.columns:\n",
    "    if(column!=\"stat_cause_encoded\"):\n",
    "        corr = np.corrcoef(df[column], df['stat_cause_encoded'])[0,1]\n",
    "        corrList[column]=corr\n",
    "    \n",
    "sorted_dict = {}\n",
    "sorted_keys = sorted(corrList, key=corrList.get,reverse=True)  # [1, 3, 2]\n",
    "for w in sorted_keys:\n",
    "    sorted_dict[w] = corrList[w]\n",
    "\n",
    "for column in sorted_keys:\n",
    "    print('Correlation between {} and Cause of fires is {}.'.format(column, sorted_dict[column]))"
   ]
  },
  {
   "cell_type": "code",
   "execution_count": 11,
   "id": "bde30ed8",
   "metadata": {},
   "outputs": [],
   "source": [
    "X = df.drop(columns=['stat_cause_encoded'])\n",
    "Y = df['stat_cause_encoded']\n",
    "X_train, X_test, y_train, y_test = train_test_split(X, Y, test_size=0.2, random_state=32)"
   ]
  },
  {
   "cell_type": "code",
   "execution_count": 12,
   "id": "4542b7d8",
   "metadata": {},
   "outputs": [],
   "source": [
    "from sklearn.decomposition import PCA\n",
    "#for test pca\n",
    "from sklearn.ensemble import RandomForestClassifier\n",
    "#eval\n",
    "from sklearn.metrics import confusion_matrix\n",
    "from sklearn.metrics import accuracy_score\n",
    "def createPCA(n_comp,X_train,X_test):\n",
    "    pca = PCA(n_comp)\n",
    "    X_train = pca.fit_transform(X_train)\n",
    "    X_test = pca.transform(X_test)\n",
    "    explained_variance = pca.explained_variance_ratio_\n",
    "    return pca,X_train,X_test\n"
   ]
  },
  {
   "cell_type": "code",
   "execution_count": 24,
   "id": "818c9752",
   "metadata": {},
   "outputs": [],
   "source": [
    "def runPCA(n_comp,X_train,y_train,X_test,y_test):\n",
    "    pca,X_train_temp,X_test_temp = createPCA(n_comp,X_train,X_test)\n",
    "    classifier = RandomForestClassifier(max_depth=2, random_state=0)\n",
    "    classifier.fit(X_train_temp, y_train)\n",
    "\n",
    "    # Predicting the Test set results\n",
    "    y_pred = classifier.predict(X_test_temp)\n",
    "    cm = confusion_matrix(y_test, y_pred)\n",
    "    #print(cm)\n",
    "    acc=accuracy_score(y_test, y_pred)\n",
    "    print('Accuracy ' + str(acc))\n",
    "    return classifier,acc"
   ]
  },
  {
   "cell_type": "code",
   "execution_count": 25,
   "id": "781321fe",
   "metadata": {},
   "outputs": [
    {
     "name": "stdout",
     "output_type": "stream",
     "text": [
      "Accuracy 0.3197458973001588\n",
      "Accuracy 0.32027527792482796\n",
      "Accuracy 0.318422445738486\n",
      "Accuracy 0.3348332451032292\n",
      "Accuracy 0.32477501323451563\n",
      "Accuracy 0.32451032292218107\n",
      "Accuracy 0.3369507676019058\n",
      "Accuracy 0.33456855479089465\n",
      "Accuracy 0.3374801482265749\n",
      "Accuracy 0.3353626257278984\n",
      "Accuracy 0.3348332451032292\n",
      "Accuracy 0.33298041291688724\n",
      "Accuracy 0.33350979354155635\n",
      "Accuracy 0.33377448385389097\n",
      "Accuracy 0.3298041291688724\n",
      "Accuracy 0.3348332451032292\n",
      "Accuracy 0.33615669666490205\n",
      "Accuracy 0.33298041291688724\n",
      "Accuracy 0.33033350979354154\n",
      "Accuracy 0.3324510322922181\n"
     ]
    }
   ],
   "source": [
    "accList=[]\n",
    "for i in range(1,21):\n",
    "    _,acc =runPCA(i,X_train,y_train,X_test,y_test)\n",
    "    accList.append(acc)\n",
    "#plt.histogram(accList)"
   ]
  },
  {
   "cell_type": "code",
   "execution_count": 26,
   "id": "c0444585",
   "metadata": {},
   "outputs": [
    {
     "data": {
      "image/png": "[encoded data removed]",
      "text/plain": [
       "<Figure size 1000x1000 with 1 Axes>"
      ]
     },
     "metadata": {},
     "output_type": "display_data"
    }
   ],
   "source": [
    "plt.figure(figsize=(10,10))\n",
    "plt.scatter(np.arange(1,21), accList, zorder=1)\n",
    "plt.plot(np.arange(1,21), accList, zorder=2)\n",
    "plt.xticks(np.arange(1,21), np.arange(1,21))\n",
    "plt.show()"
   ]
  },
  {
   "cell_type": "code",
   "execution_count": 37,
   "id": "17c04d38",
   "metadata": {},
   "outputs": [
    {
     "name": "stdout",
     "output_type": "stream",
     "text": [
      "model score on training data: 0.8862149464962219\n",
      "model score on testing data: 0.18060187167152875\n"
     ]
    },
    {
     "data": {
      "image/png": "[encoded data removed]",
      "text/plain": [
       "<Figure size 640x480 with 1 Axes>"
      ]
     },
     "metadata": {},
     "output_type": "display_data"
    }
   ],
   "source": [
    "# Feature importances using RandomForest\n",
    "from sklearn.ensemble import RandomForestRegressor\n",
    "\n",
    "model = RandomForestRegressor()\n",
    "\n",
    "model.fit(X_train, y_train)\n",
    "\n",
    "print(f'model score on training data: {model.score(X_train, y_train)}')\n",
    "print(f'model score on testing data: {model.score(X_test, y_test)}')\n",
    "\n",
    "importances = model.feature_importances_\n",
    "indices = np.argsort(importances)\n",
    "\n",
    "fig, ax = plt.subplots()\n",
    "ax.set_title(\"Importance of features (noPCA)\")\n",
    "ax.barh(range(len(importances)), importances[indices])\n",
    "ax.set_yticks(range(len(importances)))\n",
    "_ = ax.set_yticklabels(np.array(X_train.columns)[indices])"
   ]
  },
  {
   "cell_type": "code",
   "execution_count": 40,
   "id": "db1d388b",
   "metadata": {},
   "outputs": [
    {
     "data": {
      "text/plain": [
       "['latitude',\n",
       " 'remoteness',\n",
       " 'longitude',\n",
       " 'year',\n",
       " 'Temp_cont',\n",
       " 'Hum_pre_30',\n",
       " 'Wind_pre_30',\n",
       " 'fire_size',\n",
       " 'Prec_pre_30',\n",
       " 'month',\n",
       " 'Region']"
      ]
     },
     "execution_count": 40,
     "metadata": {},
     "output_type": "execute_result"
    }
   ],
   "source": [
    "[\"latitude\",\"remoteness\",\"longitude\",\"year\",\"Temp_cont\",\"Hum_pre_30\",\"Wind_pre_30\",\"fire_size\",\"Prec_pre_30\",\"month\",\"Region\"]"
   ]
  },
  {
   "cell_type": "code",
   "execution_count": null,
   "id": "c4844ec7",
   "metadata": {},
   "outputs": [],
   "source": []
  }
 ],
 "metadata": {
  "kernelspec": {
   "display_name": "Python 3 (ipykernel)",
   "language": "python",
   "name": "python3"
  },
  "language_info": {
   "codemirror_mode": {
    "name": "ipython",
    "version": 3
   },
   "file_extension": ".py",
   "mimetype": "text/x-python",
   "name": "python",
   "nbconvert_exporter": "python",
   "pygments_lexer": "ipython3",
   "version": "3.9.13"
  },
  "vscode": {
   "interpreter": {
    "hash": "6429919fe5eee10fa3db4376c75d0431aac4ee64633f3fde6de3e71a7b7c5c41"
   }
  }
 },
 "nbformat": 4,
 "nbformat_minor": 5
}
